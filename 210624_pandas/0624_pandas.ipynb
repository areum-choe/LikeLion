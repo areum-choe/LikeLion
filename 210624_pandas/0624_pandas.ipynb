{
 "cells": [
  {
   "cell_type": "markdown",
   "metadata": {},
   "source": [
    "## 05 판다스를 활용한 데이터 이해\n",
    "\n",
    "### 02 판다스의 기본 자료형 알아보기\n",
    "\n",
    "### 리스트"
   ]
  },
  {
   "cell_type": "code",
   "execution_count": 4,
   "metadata": {},
   "outputs": [
    {
     "name": "stdout",
     "output_type": "stream",
     "text": [
      "banana\n",
      "apple\n",
      "candy\n",
      "['apple', 'candy']\n"
     ]
    }
   ],
   "source": [
    "myfood = ['banana', 'apple', 'candy']\n",
    "print(myfood[0])\n",
    "print(myfood[1])\n",
    "print(myfood[2])\n",
    "print(myfood[1:3]) # 첫번째 두번째 가져오기"
   ]
  },
  {
   "cell_type": "code",
   "execution_count": 6,
   "metadata": {},
   "outputs": [
    {
     "name": "stdout",
     "output_type": "stream",
     "text": [
      "banana\n",
      "apple\n",
      "candy\n"
     ]
    }
   ],
   "source": [
    "for item in myfood:\n",
    "    print(item)"
   ]
  },
  {
   "cell_type": "markdown",
   "metadata": {},
   "source": [
    "### 딕셔너리"
   ]
  },
  {
   "cell_type": "code",
   "execution_count": 7,
   "metadata": {},
   "outputs": [],
   "source": [
    "dict1 = {'one':'하나', 'two':\"둘\", 'three':'셋'}\n",
    "dict2 = {1:\"하나\", 2:\"둘\", 3:\"셋\"}\n",
    "dict3 = {'col1':[1,2,3], 'col2':['a','b','c']}"
   ]
  },
  {
   "cell_type": "code",
   "execution_count": 8,
   "metadata": {},
   "outputs": [
    {
     "name": "stdout",
     "output_type": "stream",
     "text": [
      "{'one': '하나', 'two': '둘', 'three': '셋'}\n",
      "{1: '하나', 2: '둘', 3: '셋'}\n",
      "{'col1': [1, 2, 3], 'col2': ['a', 'b', 'c']}\n"
     ]
    }
   ],
   "source": [
    "print(dict1)\n",
    "print(dict2)\n",
    "print(dict3)"
   ]
  },
  {
   "cell_type": "code",
   "execution_count": 9,
   "metadata": {},
   "outputs": [
    {
     "name": "stdout",
     "output_type": "stream",
     "text": [
      "하나\n",
      "둘\n",
      "['a', 'b', 'c']\n"
     ]
    }
   ],
   "source": [
    "print(dict1['one'])\n",
    "print(dict2[2])\n",
    "print(dict3['col2'])"
   ]
  },
  {
   "cell_type": "markdown",
   "metadata": {},
   "source": [
    "### 판다스 모듈 불러오기"
   ]
  },
  {
   "cell_type": "code",
   "execution_count": 10,
   "metadata": {},
   "outputs": [],
   "source": [
    "import pandas as pd # pandas 를 불러오고 밑에서 이를 pd 약자로서 쓰겠다."
   ]
  },
  {
   "cell_type": "code",
   "execution_count": 11,
   "metadata": {},
   "outputs": [],
   "source": [
    "from pandas import Series, DataFrame # pandas안의 Series와 DataFrame를 불러옴."
   ]
  },
  {
   "cell_type": "code",
   "execution_count": 12,
   "metadata": {},
   "outputs": [
    {
     "name": "stdout",
     "output_type": "stream",
     "text": [
      "pandas 버전 :  1.1.3\n"
     ]
    }
   ],
   "source": [
    "print(\"pandas 버전 : \", pd.__version__)"
   ]
  },
  {
   "cell_type": "markdown",
   "metadata": {},
   "source": [
    "### 홍길동 팀별 대항 게임 5일간의 점수\n",
    "### [1000, 14000, 3000, 3000, 1000]"
   ]
  },
  {
   "cell_type": "code",
   "execution_count": 13,
   "metadata": {
    "scrolled": true
   },
   "outputs": [
    {
     "name": "stdout",
     "output_type": "stream",
     "text": [
      "0     1000\n",
      "1    14000\n",
      "2     3000\n",
      "3     3000\n",
      "4     1000\n",
      "dtype: int64\n",
      "자료형 확인 :  <class 'pandas.core.series.Series'>\n"
     ]
    }
   ],
   "source": [
    "score = Series( [1000, 14000, 3000, 3000, 1000] )\n",
    "print(score)\n",
    "print(\"자료형 확인 : \", type(score))"
   ]
  },
  {
   "cell_type": "code",
   "execution_count": 14,
   "metadata": {},
   "outputs": [
    {
     "name": "stdout",
     "output_type": "stream",
     "text": [
      "RangeIndex(start=0, stop=5, step=1)\n",
      "[0, 1, 2, 3, 4]\n",
      "[ 1000 14000  3000  3000  1000]\n",
      "int64\n"
     ]
    }
   ],
   "source": [
    "## Series 인덱스 확인\n",
    "print(score.index)\n",
    "# 인덱스를 리스트 자료형으로 변경 후, 확인하기\n",
    "print(list(score.index))\n",
    "## Series 값 확인\n",
    "print(score.values)\n",
    "## Series 값 자료형 확인\n",
    "print(score.dtype)"
   ]
  },
  {
   "cell_type": "markdown",
   "metadata": {},
   "source": [
    "### 판다스 시리즈 인덱스 지정"
   ]
  },
  {
   "cell_type": "code",
   "execution_count": 15,
   "metadata": {},
   "outputs": [
    {
     "name": "stdout",
     "output_type": "stream",
     "text": [
      "2019-05-01     1000\n",
      "2019-05-02    14000\n",
      "2019-05-03     3000\n",
      "dtype: int64\n"
     ]
    }
   ],
   "source": [
    "### 인덱스(index) 속성 이용\n",
    "score = Series( [1000, 14000, 3000],\n",
    "index = ['2019-05-01', '2019-05-02', '2019-05-03'] )\n",
    "print(score)"
   ]
  },
  {
   "cell_type": "code",
   "execution_count": 16,
   "metadata": {},
   "outputs": [
    {
     "name": "stdout",
     "output_type": "stream",
     "text": [
      "1000\n",
      "-------------\n",
      "2019-05-02    14000\n",
      "2019-05-03     3000\n",
      "dtype: int64\n"
     ]
    }
   ],
   "source": [
    "print(score['2019-05-01']) # 인덱스 이용 - 5월 1일 날짜 점수 확인\n",
    "print(\"-------------\")\n",
    "print(score['2019-05-02':'2019-05-03']) # 5월 2일, 3일 날짜 팀 점수 확인"
   ]
  },
  {
   "cell_type": "code",
   "execution_count": 17,
   "metadata": {},
   "outputs": [
    {
     "name": "stdout",
     "output_type": "stream",
     "text": [
      "2019-05-01\n",
      "2019-05-02\n",
      "2019-05-03\n"
     ]
    }
   ],
   "source": [
    "for idx in score.index:\n",
    "    print(idx)"
   ]
  },
  {
   "cell_type": "code",
   "execution_count": 18,
   "metadata": {},
   "outputs": [
    {
     "name": "stdout",
     "output_type": "stream",
     "text": [
      "1000\n",
      "14000\n",
      "3000\n"
     ]
    }
   ],
   "source": [
    "for value in score.values:\n",
    "    print(value)"
   ]
  },
  {
   "cell_type": "markdown",
   "metadata": {},
   "source": [
    "#### 5-3 pandas의 Series자료형 만들어보기 - 나의 일주일 계획."
   ]
  },
  {
   "cell_type": "code",
   "execution_count": 20,
   "metadata": {},
   "outputs": [
    {
     "name": "stdout",
     "output_type": "stream",
     "text": [
      "월      체리\n",
      "화      메론\n",
      "수      망고\n",
      "목    파인애플\n",
      "금      사과\n",
      "토      거봉\n",
      "일     오렌지\n",
      "dtype: object\n"
     ]
    }
   ],
   "source": [
    "fruit = Series( ['체리', '메론', '망고', '파인애플','사과','거봉','오렌지'],\n",
    "index = ['월', '화', '수','목','금','토','일'] )\n",
    "print(fruit)"
   ]
  },
  {
   "cell_type": "code",
   "execution_count": 22,
   "metadata": {},
   "outputs": [
    {
     "name": "stdout",
     "output_type": "stream",
     "text": [
      "월    체리\n",
      "화    메론\n",
      "수    망고\n",
      "dtype: object\n"
     ]
    }
   ],
   "source": [
    "print(fruit['월':'수'])"
   ]
  },
  {
   "cell_type": "code",
   "execution_count": 26,
   "metadata": {},
   "outputs": [
    {
     "data": {
      "text/plain": [
       "월    체리\n",
       "화    메론\n",
       "수    망고\n",
       "dtype: object"
      ]
     },
     "execution_count": 26,
     "metadata": {},
     "output_type": "execute_result"
    }
   ],
   "source": [
    "fruit[0:3]"
   ]
  },
  {
   "cell_type": "markdown",
   "metadata": {},
   "source": [
    "### iloc접근"
   ]
  },
  {
   "cell_type": "code",
   "execution_count": 27,
   "metadata": {},
   "outputs": [
    {
     "data": {
      "text/plain": [
       "월    체리\n",
       "화    메론\n",
       "수    망고\n",
       "dtype: object"
      ]
     },
     "execution_count": 27,
     "metadata": {},
     "output_type": "execute_result"
    }
   ],
   "source": [
    "fruit.iloc[0:3]"
   ]
  },
  {
   "cell_type": "code",
   "execution_count": 30,
   "metadata": {},
   "outputs": [
    {
     "data": {
      "text/plain": [
       "Index(['월', '화', '수', '목', '금', '토', '일'], dtype='object')"
      ]
     },
     "execution_count": 30,
     "metadata": {},
     "output_type": "execute_result"
    }
   ],
   "source": [
    "fruit.values\n",
    "fruit.index"
   ]
  },
  {
   "cell_type": "code",
   "execution_count": 23,
   "metadata": {},
   "outputs": [
    {
     "data": {
      "text/plain": [
       "DatetimeIndex(['2021-06-21', '2021-06-22', '2021-06-23', '2021-06-24'], dtype='datetime64[ns]', freq='D')"
      ]
     },
     "execution_count": 23,
     "metadata": {},
     "output_type": "execute_result"
    }
   ],
   "source": [
    "idx=pd.date_range(start='2021-06-21',end='2021-06-24')\n",
    "idx"
   ]
  },
  {
   "cell_type": "markdown",
   "metadata": {},
   "source": [
    "### 두 팀의 팀점수 합산해보기\n",
    "* 길동팀의 3일간의 점수와 toto 팀의 3일간의 점수"
   ]
  },
  {
   "cell_type": "code",
   "execution_count": 31,
   "metadata": {},
   "outputs": [],
   "source": [
    "from pandas import Series"
   ]
  },
  {
   "cell_type": "code",
   "execution_count": 32,
   "metadata": {},
   "outputs": [],
   "source": [
    "gildong = Series([1500, 3000, 2500],\n",
    "                 index = ['2019-05-01', '2019-05-02', '2019-05-03'] )\n",
    "toto = Series([3000, 3000, 2000],\n",
    "              index = ['2019-05-01', '2019-05-03', '2019-05-02'] )"
   ]
  },
  {
   "cell_type": "code",
   "execution_count": 33,
   "metadata": {},
   "outputs": [
    {
     "data": {
      "text/plain": [
       "2019-05-01    4500\n",
       "2019-05-02    5000\n",
       "2019-05-03    5500\n",
       "dtype: int64"
      ]
     },
     "execution_count": 33,
     "metadata": {},
     "output_type": "execute_result"
    }
   ],
   "source": [
    "gildong + toto"
   ]
  },
  {
   "cell_type": "markdown",
   "metadata": {},
   "source": [
    "### 03 데이터 프레임의 이해\n",
    "* 데이터 프레임의 객체를 생성하는 가장 간단한 방법은 딕셔너리를 이용하는 방법\n",
    "* 데이터 프레임은 Series의 결합으로 이루어진 것으로 생각할 수 있음.\n",
    "* Pandas(판다스)의 대표적인 기본 자료형이다.\n",
    "* DataFrame 함수를 이용하여 객체 생성이 가능하다."
   ]
  },
  {
   "cell_type": "code",
   "execution_count": 34,
   "metadata": {},
   "outputs": [],
   "source": [
    "from pandas import DataFrame"
   ]
  },
  {
   "cell_type": "code",
   "execution_count": 35,
   "metadata": {},
   "outputs": [
    {
     "data": {
      "text/html": [
       "<div>\n",
       "<style scoped>\n",
       "    .dataframe tbody tr th:only-of-type {\n",
       "        vertical-align: middle;\n",
       "    }\n",
       "\n",
       "    .dataframe tbody tr th {\n",
       "        vertical-align: top;\n",
       "    }\n",
       "\n",
       "    .dataframe thead th {\n",
       "        text-align: right;\n",
       "    }\n",
       "</style>\n",
       "<table border=\"1\" class=\"dataframe\">\n",
       "  <thead>\n",
       "    <tr style=\"text-align: right;\">\n",
       "      <th></th>\n",
       "      <th>col1</th>\n",
       "      <th>col2</th>\n",
       "      <th>col3</th>\n",
       "    </tr>\n",
       "  </thead>\n",
       "  <tbody>\n",
       "    <tr>\n",
       "      <th>0</th>\n",
       "      <td>1</td>\n",
       "      <td>10</td>\n",
       "      <td>A</td>\n",
       "    </tr>\n",
       "    <tr>\n",
       "      <th>1</th>\n",
       "      <td>2</td>\n",
       "      <td>20</td>\n",
       "      <td>B</td>\n",
       "    </tr>\n",
       "    <tr>\n",
       "      <th>2</th>\n",
       "      <td>3</td>\n",
       "      <td>30</td>\n",
       "      <td>C</td>\n",
       "    </tr>\n",
       "    <tr>\n",
       "      <th>3</th>\n",
       "      <td>4</td>\n",
       "      <td>40</td>\n",
       "      <td>D</td>\n",
       "    </tr>\n",
       "  </tbody>\n",
       "</table>\n",
       "</div>"
      ],
      "text/plain": [
       "   col1  col2 col3\n",
       "0     1    10    A\n",
       "1     2    20    B\n",
       "2     3    30    C\n",
       "3     4    40    D"
      ]
     },
     "execution_count": 35,
     "metadata": {},
     "output_type": "execute_result"
    }
   ],
   "source": [
    "dat = { 'col1' : [1,2,3,4],\n",
    "'col2' : [10,20,30,40],\n",
    "'col3' : ['A', 'B', 'C', 'D'] }\n",
    "df = DataFrame(dat)\n",
    "df"
   ]
  },
  {
   "cell_type": "markdown",
   "metadata": {},
   "source": [
    "### 네 팀의 5일간의 팀별 점수\n",
    "* 팀은 toto, gildong, apple, catanddog 팀이다."
   ]
  },
  {
   "cell_type": "code",
   "execution_count": 36,
   "metadata": {},
   "outputs": [
    {
     "data": {
      "text/html": [
       "<div>\n",
       "<style scoped>\n",
       "    .dataframe tbody tr th:only-of-type {\n",
       "        vertical-align: middle;\n",
       "    }\n",
       "\n",
       "    .dataframe tbody tr th {\n",
       "        vertical-align: top;\n",
       "    }\n",
       "\n",
       "    .dataframe thead th {\n",
       "        text-align: right;\n",
       "    }\n",
       "</style>\n",
       "<table border=\"1\" class=\"dataframe\">\n",
       "  <thead>\n",
       "    <tr style=\"text-align: right;\">\n",
       "      <th></th>\n",
       "      <th>toto</th>\n",
       "      <th>apple</th>\n",
       "      <th>gildong</th>\n",
       "      <th>catanddog</th>\n",
       "    </tr>\n",
       "  </thead>\n",
       "  <tbody>\n",
       "    <tr>\n",
       "      <th>0</th>\n",
       "      <td>1500</td>\n",
       "      <td>4000</td>\n",
       "      <td>2000</td>\n",
       "      <td>7000</td>\n",
       "    </tr>\n",
       "    <tr>\n",
       "      <th>1</th>\n",
       "      <td>3000</td>\n",
       "      <td>5000</td>\n",
       "      <td>2500</td>\n",
       "      <td>5000</td>\n",
       "    </tr>\n",
       "    <tr>\n",
       "      <th>2</th>\n",
       "      <td>5000</td>\n",
       "      <td>6000</td>\n",
       "      <td>3000</td>\n",
       "      <td>3000</td>\n",
       "    </tr>\n",
       "    <tr>\n",
       "      <th>3</th>\n",
       "      <td>7000</td>\n",
       "      <td>5500</td>\n",
       "      <td>4000</td>\n",
       "      <td>5000</td>\n",
       "    </tr>\n",
       "    <tr>\n",
       "      <th>4</th>\n",
       "      <td>5500</td>\n",
       "      <td>4500</td>\n",
       "      <td>3000</td>\n",
       "      <td>4000</td>\n",
       "    </tr>\n",
       "  </tbody>\n",
       "</table>\n",
       "</div>"
      ],
      "text/plain": [
       "   toto  apple  gildong  catanddog\n",
       "0  1500   4000     2000       7000\n",
       "1  3000   5000     2500       5000\n",
       "2  5000   6000     3000       3000\n",
       "3  7000   5500     4000       5000\n",
       "4  5500   4500     3000       4000"
      ]
     },
     "execution_count": 36,
     "metadata": {},
     "output_type": "execute_result"
    }
   ],
   "source": [
    "from pandas import DataFrame\n",
    "team_score = { \"toto\":[1500,3000,5000,7000,5500],\n",
    "\"apple\":[4000,5000,6000,5500,4500],\n",
    "\"gildong\":[2000,2500,3000,4000,3000],\n",
    "\"catanddog\":[7000,5000,3000,5000,4000]}\n",
    "team_df = DataFrame(team_score)\n",
    "team_df\n",
    "#개수가 맞지 않으면 에러가남."
   ]
  },
  {
   "cell_type": "code",
   "execution_count": 43,
   "metadata": {},
   "outputs": [
    {
     "data": {
      "text/html": [
       "<div>\n",
       "<style scoped>\n",
       "    .dataframe tbody tr th:only-of-type {\n",
       "        vertical-align: middle;\n",
       "    }\n",
       "\n",
       "    .dataframe tbody tr th {\n",
       "        vertical-align: top;\n",
       "    }\n",
       "\n",
       "    .dataframe thead th {\n",
       "        text-align: right;\n",
       "    }\n",
       "</style>\n",
       "<table border=\"1\" class=\"dataframe\">\n",
       "  <thead>\n",
       "    <tr style=\"text-align: right;\">\n",
       "      <th></th>\n",
       "      <th>catanddog</th>\n",
       "      <th>toto</th>\n",
       "      <th>apple</th>\n",
       "      <th>gildong</th>\n",
       "    </tr>\n",
       "  </thead>\n",
       "  <tbody>\n",
       "    <tr>\n",
       "      <th>2021-06-21</th>\n",
       "      <td>7000</td>\n",
       "      <td>1500</td>\n",
       "      <td>4000</td>\n",
       "      <td>2000</td>\n",
       "    </tr>\n",
       "    <tr>\n",
       "      <th>2021-06-22</th>\n",
       "      <td>5000</td>\n",
       "      <td>3000</td>\n",
       "      <td>5000</td>\n",
       "      <td>2500</td>\n",
       "    </tr>\n",
       "    <tr>\n",
       "      <th>2021-06-23</th>\n",
       "      <td>3000</td>\n",
       "      <td>5000</td>\n",
       "      <td>6000</td>\n",
       "      <td>3000</td>\n",
       "    </tr>\n",
       "    <tr>\n",
       "      <th>2021-06-24</th>\n",
       "      <td>5000</td>\n",
       "      <td>7000</td>\n",
       "      <td>5500</td>\n",
       "      <td>4000</td>\n",
       "    </tr>\n",
       "    <tr>\n",
       "      <th>2021-06-25</th>\n",
       "      <td>4000</td>\n",
       "      <td>5500</td>\n",
       "      <td>4500</td>\n",
       "      <td>3000</td>\n",
       "    </tr>\n",
       "  </tbody>\n",
       "</table>\n",
       "</div>"
      ],
      "text/plain": [
       "            catanddog  toto  apple  gildong\n",
       "2021-06-21       7000  1500   4000     2000\n",
       "2021-06-22       5000  3000   5000     2500\n",
       "2021-06-23       3000  5000   6000     3000\n",
       "2021-06-24       5000  7000   5500     4000\n",
       "2021-06-25       4000  5500   4500     3000"
      ]
     },
     "execution_count": 43,
     "metadata": {},
     "output_type": "execute_result"
    }
   ],
   "source": [
    "idx = pd.date_range(start='2021-06-21', end='2021-06-25')\n",
    "#date = ['19-05-01','19-05-02', '19-05-03', '19-05-04', '19-05-05']\n",
    "team_df = DataFrame(team_score,\n",
    "columns=['catanddog', 'toto', 'apple', 'gildong'],\n",
    "index=idx)\n",
    "team_df"
   ]
  },
  {
   "cell_type": "code",
   "execution_count": 44,
   "metadata": {},
   "outputs": [
    {
     "name": "stdout",
     "output_type": "stream",
     "text": [
      "2021-06-21    1500\n",
      "2021-06-22    3000\n",
      "2021-06-23    5000\n",
      "2021-06-24    7000\n",
      "2021-06-25    5500\n",
      "Freq: D, Name: toto, dtype: int64\n"
     ]
    }
   ],
   "source": [
    "print(team_df.loc[:,'toto']) #loc는 인덱스로 접근"
   ]
  },
  {
   "cell_type": "code",
   "execution_count": 46,
   "metadata": {},
   "outputs": [
    {
     "data": {
      "text/plain": [
       "Index(['catanddog', 'toto', 'apple', 'gildong'], dtype='object')"
      ]
     },
     "execution_count": 46,
     "metadata": {},
     "output_type": "execute_result"
    }
   ],
   "source": [
    "#열 인덱스\n",
    "team_df.columns"
   ]
  },
  {
   "cell_type": "code",
   "execution_count": 49,
   "metadata": {},
   "outputs": [
    {
     "data": {
      "text/plain": [
       "DatetimeIndex(['2021-06-21', '2021-06-22', '2021-06-23', '2021-06-24',\n",
       "               '2021-06-25'],\n",
       "              dtype='datetime64[ns]', freq='D')"
      ]
     },
     "execution_count": 49,
     "metadata": {},
     "output_type": "execute_result"
    }
   ],
   "source": [
    "#행인덱스\n",
    "team_df.index"
   ]
  },
  {
   "cell_type": "code",
   "execution_count": 53,
   "metadata": {},
   "outputs": [
    {
     "data": {
      "text/plain": [
       "2021-06-21    1500\n",
       "2021-06-22    3000\n",
       "2021-06-23    5000\n",
       "2021-06-24    7000\n",
       "2021-06-25    5500\n",
       "Freq: D, Name: toto, dtype: int64"
      ]
     },
     "execution_count": 53,
     "metadata": {},
     "output_type": "execute_result"
    }
   ],
   "source": [
    "#toto열 가져오기\n",
    "team_df.loc[:,'toto']\n"
   ]
  },
  {
   "cell_type": "code",
   "execution_count": 54,
   "metadata": {},
   "outputs": [
    {
     "data": {
      "text/html": [
       "<div>\n",
       "<style scoped>\n",
       "    .dataframe tbody tr th:only-of-type {\n",
       "        vertical-align: middle;\n",
       "    }\n",
       "\n",
       "    .dataframe tbody tr th {\n",
       "        vertical-align: top;\n",
       "    }\n",
       "\n",
       "    .dataframe thead th {\n",
       "        text-align: right;\n",
       "    }\n",
       "</style>\n",
       "<table border=\"1\" class=\"dataframe\">\n",
       "  <thead>\n",
       "    <tr style=\"text-align: right;\">\n",
       "      <th></th>\n",
       "      <th>toto</th>\n",
       "      <th>apple</th>\n",
       "    </tr>\n",
       "  </thead>\n",
       "  <tbody>\n",
       "    <tr>\n",
       "      <th>2021-06-21</th>\n",
       "      <td>1500</td>\n",
       "      <td>4000</td>\n",
       "    </tr>\n",
       "    <tr>\n",
       "      <th>2021-06-22</th>\n",
       "      <td>3000</td>\n",
       "      <td>5000</td>\n",
       "    </tr>\n",
       "    <tr>\n",
       "      <th>2021-06-23</th>\n",
       "      <td>5000</td>\n",
       "      <td>6000</td>\n",
       "    </tr>\n",
       "    <tr>\n",
       "      <th>2021-06-24</th>\n",
       "      <td>7000</td>\n",
       "      <td>5500</td>\n",
       "    </tr>\n",
       "    <tr>\n",
       "      <th>2021-06-25</th>\n",
       "      <td>5500</td>\n",
       "      <td>4500</td>\n",
       "    </tr>\n",
       "  </tbody>\n",
       "</table>\n",
       "</div>"
      ],
      "text/plain": [
       "            toto  apple\n",
       "2021-06-21  1500   4000\n",
       "2021-06-22  3000   5000\n",
       "2021-06-23  5000   6000\n",
       "2021-06-24  7000   5500\n",
       "2021-06-25  5500   4500"
      ]
     },
     "execution_count": 54,
     "metadata": {},
     "output_type": "execute_result"
    }
   ],
   "source": [
    "#toto열과 apple열 가져오기\n",
    "team_df.loc[:,'toto':'apple']"
   ]
  },
  {
   "cell_type": "code",
   "execution_count": 56,
   "metadata": {},
   "outputs": [
    {
     "data": {
      "text/plain": [
       "catanddog    7000\n",
       "toto         1500\n",
       "apple        4000\n",
       "gildong      2000\n",
       "Name: 2021-06-21 00:00:00, dtype: int64"
      ]
     },
     "execution_count": 56,
     "metadata": {},
     "output_type": "execute_result"
    }
   ],
   "source": [
    "team_df.loc['2021-06-21',:]"
   ]
  },
  {
   "cell_type": "code",
   "execution_count": 57,
   "metadata": {},
   "outputs": [
    {
     "data": {
      "text/plain": [
       "pandas.core.series.Series"
      ]
     },
     "execution_count": 57,
     "metadata": {},
     "output_type": "execute_result"
    }
   ],
   "source": [
    "type(team_df.loc['2021-06-21',:])"
   ]
  },
  {
   "cell_type": "code",
   "execution_count": 58,
   "metadata": {},
   "outputs": [
    {
     "data": {
      "text/plain": [
       "catanddog    5000\n",
       "toto         7000\n",
       "apple        5500\n",
       "gildong      4000\n",
       "Name: 2021-06-24 00:00:00, dtype: int64"
      ]
     },
     "execution_count": 58,
     "metadata": {},
     "output_type": "execute_result"
    }
   ],
   "source": [
    "team_df.iloc[3,:]"
   ]
  },
  {
   "cell_type": "code",
   "execution_count": 60,
   "metadata": {},
   "outputs": [
    {
     "data": {
      "text/plain": [
       "2021-06-21    1500\n",
       "2021-06-22    3000\n",
       "2021-06-23    5000\n",
       "2021-06-24    7000\n",
       "2021-06-25    5500\n",
       "Freq: D, Name: toto, dtype: int64"
      ]
     },
     "execution_count": 60,
     "metadata": {},
     "output_type": "execute_result"
    }
   ],
   "source": [
    "team_df['toto']"
   ]
  },
  {
   "cell_type": "code",
   "execution_count": 62,
   "metadata": {},
   "outputs": [
    {
     "data": {
      "text/html": [
       "<div>\n",
       "<style scoped>\n",
       "    .dataframe tbody tr th:only-of-type {\n",
       "        vertical-align: middle;\n",
       "    }\n",
       "\n",
       "    .dataframe tbody tr th {\n",
       "        vertical-align: top;\n",
       "    }\n",
       "\n",
       "    .dataframe thead th {\n",
       "        text-align: right;\n",
       "    }\n",
       "</style>\n",
       "<table border=\"1\" class=\"dataframe\">\n",
       "  <thead>\n",
       "    <tr style=\"text-align: right;\">\n",
       "      <th></th>\n",
       "      <th>toto</th>\n",
       "      <th>apple</th>\n",
       "    </tr>\n",
       "  </thead>\n",
       "  <tbody>\n",
       "    <tr>\n",
       "      <th>2021-06-21</th>\n",
       "      <td>1500</td>\n",
       "      <td>4000</td>\n",
       "    </tr>\n",
       "    <tr>\n",
       "      <th>2021-06-22</th>\n",
       "      <td>3000</td>\n",
       "      <td>5000</td>\n",
       "    </tr>\n",
       "    <tr>\n",
       "      <th>2021-06-23</th>\n",
       "      <td>5000</td>\n",
       "      <td>6000</td>\n",
       "    </tr>\n",
       "    <tr>\n",
       "      <th>2021-06-24</th>\n",
       "      <td>7000</td>\n",
       "      <td>5500</td>\n",
       "    </tr>\n",
       "    <tr>\n",
       "      <th>2021-06-25</th>\n",
       "      <td>5500</td>\n",
       "      <td>4500</td>\n",
       "    </tr>\n",
       "  </tbody>\n",
       "</table>\n",
       "</div>"
      ],
      "text/plain": [
       "            toto  apple\n",
       "2021-06-21  1500   4000\n",
       "2021-06-22  3000   5000\n",
       "2021-06-23  5000   6000\n",
       "2021-06-24  7000   5500\n",
       "2021-06-25  5500   4500"
      ]
     },
     "execution_count": 62,
     "metadata": {},
     "output_type": "execute_result"
    }
   ],
   "source": [
    "team_df[['toto','apple']]"
   ]
  },
  {
   "cell_type": "markdown",
   "metadata": {},
   "source": [
    "### loc와 iloc를 이용한 접근\n",
    "* loc는 데이터 프레임의 컬럼명(인덱스)를 사용하여 데이터 추출한다.\n",
    "* iloc는 데이터 프레임의 데이터 순서(번호)를 사용하여 데이터 추출(시작번호 : 0)\n",
    "* loc[ 행, 열] 접근이라고 쉽게 생각한다."
   ]
  },
  {
   "cell_type": "markdown",
   "metadata": {},
   "source": [
    "#### loc를 이용한 열에 접근"
   ]
  },
  {
   "cell_type": "code",
   "execution_count": 63,
   "metadata": {},
   "outputs": [
    {
     "name": "stdout",
     "output_type": "stream",
     "text": [
      "Index(['catanddog', 'toto', 'apple', 'gildong'], dtype='object')\n",
      "-----\n",
      "2021-06-21    1500\n",
      "2021-06-22    3000\n",
      "2021-06-23    5000\n",
      "2021-06-24    7000\n",
      "2021-06-25    5500\n",
      "Freq: D, Name: toto, dtype: int64\n",
      "-----\n",
      "            toto  gildong\n",
      "2021-06-21  1500     2000\n",
      "2021-06-22  3000     2500\n",
      "2021-06-23  5000     3000\n",
      "2021-06-24  7000     4000\n",
      "2021-06-25  5500     3000\n",
      "-----\n",
      "            toto  apple  gildong\n",
      "2021-06-21  1500   4000     2000\n",
      "2021-06-22  3000   5000     2500\n",
      "2021-06-23  5000   6000     3000\n",
      "2021-06-24  7000   5500     4000\n",
      "2021-06-25  5500   4500     3000\n"
     ]
    }
   ],
   "source": [
    "## 컬럼명 확인\n",
    "print(team_df.columns)\n",
    "print(\"-----\")\n",
    "print(team_df.loc[:, 'toto']) # 전체행, toto팀\n",
    "print(\"-----\")\n",
    "print(team_df.loc[:, ['toto', 'gildong'] ]) # 전체행, toto, gildong팀\n",
    "print(\"-----\")\n",
    "print(team_df.loc[:, 'toto': ]) # 전체행, toto 부터 끝까지"
   ]
  },
  {
   "cell_type": "markdown",
   "metadata": {},
   "source": [
    "#### iloc 속성을 이용한 행, 열 데이터 접근하기"
   ]
  },
  {
   "cell_type": "code",
   "execution_count": 64,
   "metadata": {},
   "outputs": [
    {
     "name": "stdout",
     "output_type": "stream",
     "text": [
      "catanddog    7000\n",
      "toto         1500\n",
      "apple        4000\n",
      "gildong      2000\n",
      "Name: 2021-06-21 00:00:00, dtype: int64\n",
      "------\n",
      "            catanddog  toto  apple  gildong\n",
      "2021-06-21       7000  1500   4000     2000\n",
      "2021-06-22       5000  3000   5000     2500\n",
      "------\n",
      "            catanddog  toto  apple  gildong\n",
      "2021-06-21       7000  1500   4000     2000\n",
      "2021-06-22       5000  3000   5000     2500\n",
      "2021-06-23       3000  5000   6000     3000\n",
      "------\n",
      "            catanddog  toto  apple  gildong\n",
      "2021-06-21       7000  1500   4000     2000\n",
      "2021-06-22       5000  3000   5000     2500\n",
      "2021-06-23       3000  5000   6000     3000\n"
     ]
    }
   ],
   "source": [
    "print(team_df.iloc[0]) # 첫번째 행 접근\n",
    "print(\"------\")\n",
    "print(team_df.iloc[ [0,1] ]) # 첫번째 두번째 행 접근\n",
    "print(\"------\")\n",
    "print(team_df.iloc[ 0:3:1] ) # 첫번째부터 세번째 행 접근\n",
    "print(\"------\")\n",
    "range_num = list(range(0,3,1))\n",
    "print(team_df.iloc[ range_num ] ) # 첫번째부터 세번째 행 접근"
   ]
  },
  {
   "cell_type": "code",
   "execution_count": 65,
   "metadata": {
    "scrolled": true
   },
   "outputs": [
    {
     "name": "stdout",
     "output_type": "stream",
     "text": [
      "2021-06-21    7000\n",
      "2021-06-22    5000\n",
      "2021-06-23    3000\n",
      "2021-06-24    5000\n",
      "2021-06-25    4000\n",
      "Freq: D, Name: catanddog, dtype: int64\n",
      "------\n",
      "            catanddog  toto\n",
      "2021-06-21       7000  1500\n",
      "2021-06-22       5000  3000\n",
      "2021-06-23       3000  5000\n",
      "2021-06-24       5000  7000\n",
      "2021-06-25       4000  5500\n",
      "------\n",
      "            catanddog  toto  apple\n",
      "2021-06-21       7000  1500   4000\n",
      "2021-06-22       5000  3000   5000\n",
      "2021-06-23       3000  5000   6000\n",
      "2021-06-24       5000  7000   5500\n",
      "2021-06-25       4000  5500   4500\n",
      "------\n",
      "            catanddog  toto  apple\n",
      "2021-06-21       7000  1500   4000\n",
      "2021-06-22       5000  3000   5000\n",
      "2021-06-23       3000  5000   6000\n",
      "2021-06-24       5000  7000   5500\n",
      "2021-06-25       4000  5500   4500\n"
     ]
    }
   ],
   "source": [
    "print(team_df.iloc[:, 0]) # 첫번째 열 접근\n",
    "print(\"------\")\n",
    "print(team_df.iloc[:, [0,1] ]) # 첫번째 두번째 열 접근\n",
    "print(\"------\")\n",
    "print(team_df.iloc[:, 0:3:1] ) # 첫번째부터 세번째 열 접근\n",
    "print(\"------\")\n",
    "range_num = list(range(0,3,1))\n",
    "print(team_df.iloc[:, range_num ] ) # 첫번째부터 세번째 열 접근"
   ]
  },
  {
   "cell_type": "code",
   "execution_count": 69,
   "metadata": {},
   "outputs": [
    {
     "data": {
      "text/html": [
       "<div>\n",
       "<style scoped>\n",
       "    .dataframe tbody tr th:only-of-type {\n",
       "        vertical-align: middle;\n",
       "    }\n",
       "\n",
       "    .dataframe tbody tr th {\n",
       "        vertical-align: top;\n",
       "    }\n",
       "\n",
       "    .dataframe thead th {\n",
       "        text-align: right;\n",
       "    }\n",
       "</style>\n",
       "<table border=\"1\" class=\"dataframe\">\n",
       "  <thead>\n",
       "    <tr style=\"text-align: right;\">\n",
       "      <th></th>\n",
       "      <th>catanddog</th>\n",
       "      <th>toto</th>\n",
       "      <th>apple</th>\n",
       "      <th>gildong</th>\n",
       "      <th>rowsum</th>\n",
       "    </tr>\n",
       "  </thead>\n",
       "  <tbody>\n",
       "    <tr>\n",
       "      <th>2021-06-21</th>\n",
       "      <td>7000</td>\n",
       "      <td>1500</td>\n",
       "      <td>4000</td>\n",
       "      <td>2000</td>\n",
       "      <td>29000</td>\n",
       "    </tr>\n",
       "    <tr>\n",
       "      <th>2021-06-22</th>\n",
       "      <td>5000</td>\n",
       "      <td>3000</td>\n",
       "      <td>5000</td>\n",
       "      <td>2500</td>\n",
       "      <td>31000</td>\n",
       "    </tr>\n",
       "    <tr>\n",
       "      <th>2021-06-23</th>\n",
       "      <td>3000</td>\n",
       "      <td>5000</td>\n",
       "      <td>6000</td>\n",
       "      <td>3000</td>\n",
       "      <td>34000</td>\n",
       "    </tr>\n",
       "    <tr>\n",
       "      <th>2021-06-24</th>\n",
       "      <td>5000</td>\n",
       "      <td>7000</td>\n",
       "      <td>5500</td>\n",
       "      <td>4000</td>\n",
       "      <td>43000</td>\n",
       "    </tr>\n",
       "    <tr>\n",
       "      <th>2021-06-25</th>\n",
       "      <td>4000</td>\n",
       "      <td>5500</td>\n",
       "      <td>4500</td>\n",
       "      <td>3000</td>\n",
       "      <td>34000</td>\n",
       "    </tr>\n",
       "  </tbody>\n",
       "</table>\n",
       "</div>"
      ],
      "text/plain": [
       "            catanddog  toto  apple  gildong  rowsum\n",
       "2021-06-21       7000  1500   4000     2000   29000\n",
       "2021-06-22       5000  3000   5000     2500   31000\n",
       "2021-06-23       3000  5000   6000     3000   34000\n",
       "2021-06-24       5000  7000   5500     4000   43000\n",
       "2021-06-25       4000  5500   4500     3000   34000"
      ]
     },
     "execution_count": 69,
     "metadata": {},
     "output_type": "execute_result"
    }
   ],
   "source": [
    "#새로운 컬럼 추가\n",
    "team_df['rowsum']=team_df.sum(axis=1)\n",
    "team_df"
   ]
  },
  {
   "cell_type": "markdown",
   "metadata": {},
   "source": [
    "#### 팀별 총합 및 평균 등의 통계는 얼마나 될까?/"
   ]
  },
  {
   "cell_type": "code",
   "execution_count": 72,
   "metadata": {},
   "outputs": [
    {
     "data": {
      "text/html": [
       "<div>\n",
       "<style scoped>\n",
       "    .dataframe tbody tr th:only-of-type {\n",
       "        vertical-align: middle;\n",
       "    }\n",
       "\n",
       "    .dataframe tbody tr th {\n",
       "        vertical-align: top;\n",
       "    }\n",
       "\n",
       "    .dataframe thead th {\n",
       "        text-align: right;\n",
       "    }\n",
       "</style>\n",
       "<table border=\"1\" class=\"dataframe\">\n",
       "  <thead>\n",
       "    <tr style=\"text-align: right;\">\n",
       "      <th></th>\n",
       "      <th>순위</th>\n",
       "      <th>연속</th>\n",
       "      <th>누적</th>\n",
       "      <th>종목명</th>\n",
       "      <th>현재가</th>\n",
       "      <th>전일비</th>\n",
       "      <th>등락률</th>\n",
       "      <th>거래량</th>\n",
       "    </tr>\n",
       "  </thead>\n",
       "  <tbody>\n",
       "    <tr>\n",
       "      <th>0</th>\n",
       "      <td>1</td>\n",
       "      <td>2</td>\n",
       "      <td>2</td>\n",
       "      <td>솔고바이오</td>\n",
       "      <td>993</td>\n",
       "      <td>229</td>\n",
       "      <td>29.97</td>\n",
       "      <td>4657527</td>\n",
       "    </tr>\n",
       "    <tr>\n",
       "      <th>1</th>\n",
       "      <td>2</td>\n",
       "      <td>1</td>\n",
       "      <td>3</td>\n",
       "      <td>한세엠케이</td>\n",
       "      <td>9490</td>\n",
       "      <td>2190</td>\n",
       "      <td>30.00</td>\n",
       "      <td>19568672</td>\n",
       "    </tr>\n",
       "    <tr>\n",
       "      <th>2</th>\n",
       "      <td>3</td>\n",
       "      <td>1</td>\n",
       "      <td>2</td>\n",
       "      <td>네오오토</td>\n",
       "      <td>9990</td>\n",
       "      <td>2300</td>\n",
       "      <td>29.91</td>\n",
       "      <td>3167505</td>\n",
       "    </tr>\n",
       "    <tr>\n",
       "      <th>3</th>\n",
       "      <td>4</td>\n",
       "      <td>1</td>\n",
       "      <td>4</td>\n",
       "      <td>엄지하우스</td>\n",
       "      <td>4885</td>\n",
       "      <td>635</td>\n",
       "      <td>14.94</td>\n",
       "      <td>7231</td>\n",
       "    </tr>\n",
       "  </tbody>\n",
       "</table>\n",
       "</div>"
      ],
      "text/plain": [
       "   순위  연속  누적    종목명   현재가   전일비    등락률       거래량\n",
       "0   1   2   2  솔고바이오   993   229  29.97   4657527\n",
       "1   2   1   3  한세엠케이  9490  2190  30.00  19568672\n",
       "2   3   1   2   네오오토  9990  2300  29.91   3167505\n",
       "3   4   1   4  엄지하우스  4885   635  14.94      7231"
      ]
     },
     "execution_count": 72,
     "metadata": {},
     "output_type": "execute_result"
    }
   ],
   "source": [
    "#실습1-1\n",
    "from pandas import DataFrame\n",
    "data = { \"순위\":[1,2,3,4],\n",
    "        \"연속\":[2,1,1,1],\n",
    "        \"누적\":[2,3,2,4],\n",
    "        \"종목명\":[\"솔고바이오\", \"한세엠케이\", \"네오오토\", \"엄지하우스\"],\n",
    "        \"현재가\":[993,9490,9990,4885],\n",
    "        \"전일비\":[229,2190,2300,635],\n",
    "        \"등락률\":[29.97,30.00,29.91,14.94],\n",
    "        \"거래량\":[4657527,19568672,3167505,7231]}\n",
    "data_df = DataFrame(data)\n",
    "data_df\n",
    "#개수가 맞지 않으면 에러가남."
   ]
  },
  {
   "cell_type": "code",
   "execution_count": 82,
   "metadata": {},
   "outputs": [
    {
     "data": {
      "text/html": [
       "<div>\n",
       "<style scoped>\n",
       "    .dataframe tbody tr th:only-of-type {\n",
       "        vertical-align: middle;\n",
       "    }\n",
       "\n",
       "    .dataframe tbody tr th {\n",
       "        vertical-align: top;\n",
       "    }\n",
       "\n",
       "    .dataframe thead th {\n",
       "        text-align: right;\n",
       "    }\n",
       "</style>\n",
       "<table border=\"1\" class=\"dataframe\">\n",
       "  <thead>\n",
       "    <tr style=\"text-align: right;\">\n",
       "      <th></th>\n",
       "      <th>순위</th>\n",
       "      <th>연속</th>\n",
       "      <th>누적</th>\n",
       "      <th>종목명</th>\n",
       "      <th>현재가</th>\n",
       "      <th>전일비</th>\n",
       "      <th>등락률</th>\n",
       "      <th>거래량</th>\n",
       "    </tr>\n",
       "  </thead>\n",
       "  <tbody>\n",
       "    <tr>\n",
       "      <th>2021-06-21</th>\n",
       "      <td>1</td>\n",
       "      <td>2</td>\n",
       "      <td>2</td>\n",
       "      <td>솔고바이오</td>\n",
       "      <td>993</td>\n",
       "      <td>229</td>\n",
       "      <td>29.97</td>\n",
       "      <td>4657527</td>\n",
       "    </tr>\n",
       "    <tr>\n",
       "      <th>2021-06-22</th>\n",
       "      <td>2</td>\n",
       "      <td>1</td>\n",
       "      <td>3</td>\n",
       "      <td>한세엠케이</td>\n",
       "      <td>9490</td>\n",
       "      <td>2190</td>\n",
       "      <td>30.00</td>\n",
       "      <td>19568672</td>\n",
       "    </tr>\n",
       "    <tr>\n",
       "      <th>2021-06-23</th>\n",
       "      <td>3</td>\n",
       "      <td>1</td>\n",
       "      <td>2</td>\n",
       "      <td>네오오토</td>\n",
       "      <td>9990</td>\n",
       "      <td>2300</td>\n",
       "      <td>29.91</td>\n",
       "      <td>3167505</td>\n",
       "    </tr>\n",
       "    <tr>\n",
       "      <th>2021-06-24</th>\n",
       "      <td>4</td>\n",
       "      <td>1</td>\n",
       "      <td>4</td>\n",
       "      <td>엄지하우스</td>\n",
       "      <td>4885</td>\n",
       "      <td>635</td>\n",
       "      <td>14.94</td>\n",
       "      <td>7231</td>\n",
       "    </tr>\n",
       "  </tbody>\n",
       "</table>\n",
       "</div>"
      ],
      "text/plain": [
       "            순위  연속  누적    종목명   현재가   전일비    등락률       거래량\n",
       "2021-06-21   1   2   2  솔고바이오   993   229  29.97   4657527\n",
       "2021-06-22   2   1   3  한세엠케이  9490  2190  30.00  19568672\n",
       "2021-06-23   3   1   2   네오오토  9990  2300  29.91   3167505\n",
       "2021-06-24   4   1   4  엄지하우스  4885   635  14.94      7231"
      ]
     },
     "execution_count": 82,
     "metadata": {},
     "output_type": "execute_result"
    }
   ],
   "source": [
    "#실습1-2\n",
    "idx = pd.date_range(start='2021-06-21', end='2021-06-24')\n",
    "data_df = DataFrame(data,\n",
    "columns=['순위','연속','누적','종목명','현재가','전일비','등락률','거래량'],\n",
    "index=idx)\n",
    "data_df"
   ]
  },
  {
   "cell_type": "code",
   "execution_count": 87,
   "metadata": {},
   "outputs": [
    {
     "name": "stdout",
     "output_type": "stream",
     "text": [
      "            순위  연속  누적    종목명   현재가  전일비    등락률   거래량\n",
      "2021-06-24   4   1   4  엄지하우스  4885  635  14.94  7231\n",
      "_________________\n",
      "            순위  연속  누적    종목명   현재가   전일비    등락률       거래량\n",
      "2021-06-21   1   2   2  솔고바이오   993   229  29.97   4657527\n",
      "2021-06-22   2   1   3  한세엠케이  9490  2190  30.00  19568672\n"
     ]
    }
   ],
   "source": [
    "#실습1-3\n",
    "print(data_df.iloc[ [3] ]) \n",
    "print(\"_________________\")\n",
    "print(data_df.iloc[ [0,1] ]) "
   ]
  },
  {
   "cell_type": "code",
   "execution_count": 88,
   "metadata": {},
   "outputs": [
    {
     "name": "stdout",
     "output_type": "stream",
     "text": [
      "            순위  연속  누적    종목명   현재가   전일비    등락률       거래량\n",
      "2021-06-22   2   1   3  한세엠케이  9490  2190  30.00  19568672\n",
      "2021-06-23   3   1   2   네오오토  9990  2300  29.91   3167505\n"
     ]
    }
   ],
   "source": [
    "#실습1-4\n",
    "print(data_df.loc['2021-06-22':'2021-06-23',:])\n",
    "print(\"_________________\")\n",
    "print(data_df.loc['2021-06-24':,:])"
   ]
  },
  {
   "cell_type": "code",
   "execution_count": 94,
   "metadata": {},
   "outputs": [
    {
     "name": "stdout",
     "output_type": "stream",
     "text": [
      "            연속  누적\n",
      "2021-06-22   1   3\n",
      "2021-06-23   1   2\n"
     ]
    }
   ],
   "source": [
    "#실습1-5\n",
    "print(data_df.loc['2021-06-22':'2021-06-23','연속':'누적'])"
   ]
  },
  {
   "cell_type": "code",
   "execution_count": null,
   "metadata": {},
   "outputs": [],
   "source": [
    "#실습1-1\n",
    "from pandas import DataFrame\n",
    "data = { \"순위\":[1,2,3,4],\n",
    "        \"연속\":[2,1,1,1],\n",
    "        \"누적\":[2,3,2,4],\n",
    "        \"종목명\":[\"솔고바이오\", \"한세엠케이\", \"네오오토\", \"엄지하우스\"],\n",
    "        \"현재가\":[993,9490,9990,4885],\n",
    "        \"전일비\":[229,2190,2300,635],\n",
    "        \"등락률\":[29.97,30.00,29.91,14.94],\n",
    "        \"거래량\":[4657527,19568672,3167505,7231]}\n",
    "data_df = DataFrame(data)\n",
    "data_df\n",
    "#개수가 맞지 않으면 에러가남.\n",
    "#실습1-2\n",
    "idx = pd.date_range(start='2021-06-21', end='2021-06-24')\n",
    "data_df = DataFrame(data,\n",
    "columns=['순위','연속','누적','종목명','현재가','전일비','등락률','거래량'],\n",
    "index=idx)\n",
    "data_df\n",
    "#실습1-3\n",
    "print(data_df.iloc[ [3] ]) \n",
    "print(\"_________________\")\n",
    "print(data_df.iloc[ [0,1] ]) \n",
    "#실습1-4\n",
    "print(data_df.loc['2021-06-22':'2021-06-23',:])\n",
    "print(\"_________________\")\n",
    "print(data_df.loc['2021-06-24':,:])\n",
    "#실습1-5\n",
    "print(data_df.loc['2021-06-22':'2021-06-23','연속':'누적'])"
   ]
  }
 ],
 "metadata": {
  "kernelspec": {
   "display_name": "Python 3",
   "language": "python",
   "name": "python3"
  },
  "language_info": {
   "codemirror_mode": {
    "name": "ipython",
    "version": 3
   },
   "file_extension": ".py",
   "mimetype": "text/x-python",
   "name": "python",
   "nbconvert_exporter": "python",
   "pygments_lexer": "ipython3",
   "version": "3.8.5"
  }
 },
 "nbformat": 4,
 "nbformat_minor": 4
}
