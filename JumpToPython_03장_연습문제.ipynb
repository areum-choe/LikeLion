{
  "nbformat": 4,
  "nbformat_minor": 0,
  "metadata": {
    "colab": {
      "name": "JumpToPython_03장 연습문제",
      "provenance": [],
      "collapsed_sections": [],
      "authorship_tag": "ABX9TyN0S6cneCl+sTKjys6cNpEY",
      "include_colab_link": true
    },
    "kernelspec": {
      "name": "python3",
      "display_name": "Python 3"
    },
    "language_info": {
      "name": "python"
    }
  },
  "cells": [
    {
      "cell_type": "markdown",
      "metadata": {
        "id": "view-in-github",
        "colab_type": "text"
      },
      "source": [
        "<a href=\"https://colab.research.google.com/github/areummy/LikeLion/blob/main/JumpToPython_03%EC%9E%A5_%EC%97%B0%EC%8A%B5%EB%AC%B8%EC%A0%9C.ipynb\" target=\"_parent\"><img src=\"https://colab.research.google.com/assets/colab-badge.svg\" alt=\"Open In Colab\"/></a>"
      ]
    },
    {
      "cell_type": "markdown",
      "metadata": {
        "id": "Kqzn4_vYBvJ7"
      },
      "source": [
        "Q1\n",
        "다음 코드의 결괏값은 무엇일까? =틀림\n",
        "\n"
      ]
    },
    {
      "cell_type": "code",
      "metadata": {
        "colab": {
          "base_uri": "https://localhost:8080/"
        },
        "id": "iKOKLFFdBxj7",
        "outputId": "88af6c3e-41f6-4e53-f99b-6398dfada7ca"
      },
      "source": [
        "a = \"Life is too short, you need python\"\n",
        "\n",
        "if \"wife\" in a: print(\"wife\")\n",
        "elif \"python\" in a and \"you\" not in a: print(\"python\")\n",
        "elif \"shirt\" not in a: print(\"shirt\")\n",
        "elif \"need\" in a: print(\"need\")\n",
        "else: print(\"none\")\n",
        "\n",
        "# shirt "
      ],
      "execution_count": null,
      "outputs": [
        {
          "output_type": "stream",
          "text": [
            "shirt\n"
          ],
          "name": "stdout"
        }
      ]
    },
    {
      "cell_type": "markdown",
      "metadata": {
        "id": "fODL_ss9BxEV"
      },
      "source": [
        "Q2\n",
        "while문을 사용해 1부터 1000까지의 자연수 중 3의 배수의 합을 구해 보자."
      ]
    },
    {
      "cell_type": "code",
      "metadata": {
        "id": "3WcR7_hzCXdr",
        "colab": {
          "base_uri": "https://localhost:8080/"
        },
        "outputId": "0e6ce201-30d4-4963-f854-855591045aaf"
      },
      "source": [
        "a=1\n",
        "b=0\n",
        "\n",
        "while a<=1000:\n",
        "  if a%3==0:\n",
        "    b+=a\n",
        "  a+=1\n",
        "print(b)"
      ],
      "execution_count": null,
      "outputs": [
        {
          "output_type": "stream",
          "text": [
            "166833\n"
          ],
          "name": "stdout"
        }
      ]
    },
    {
      "cell_type": "markdown",
      "metadata": {
        "id": "liVIBSZFFkAy"
      },
      "source": [
        "Q3\n",
        "while문을 사용하여 다음과 같이 별(*)을 표시하는 프로그램을 작성해 보자."
      ]
    },
    {
      "cell_type": "code",
      "metadata": {
        "id": "M-ExxNCgDoi9",
        "colab": {
          "base_uri": "https://localhost:8080/"
        },
        "outputId": "30cc1215-e09a-45a2-dafd-74706c8d787e"
      },
      "source": [
        "a=0\n",
        "while True:\n",
        "  a+=1\n",
        "  if a>5: break\n",
        "  print(a*\"*\")\n"
      ],
      "execution_count": null,
      "outputs": [
        {
          "output_type": "stream",
          "text": [
            "*\n",
            "**\n",
            "***\n",
            "****\n",
            "*****\n"
          ],
          "name": "stdout"
        }
      ]
    },
    {
      "cell_type": "markdown",
      "metadata": {
        "id": "dJ08lsUDFkx_"
      },
      "source": [
        "Q4\n",
        "for문을 사용해 1부터 100까지의 숫자를 출력해 보자."
      ]
    },
    {
      "cell_type": "code",
      "metadata": {
        "id": "WGIc0xWWErmQ",
        "colab": {
          "base_uri": "https://localhost:8080/"
        },
        "outputId": "ee9c2fbb-3153-4748-a237-09a27a2ce0fb"
      },
      "source": [
        "for i in range(1,101):\n",
        "  print(i,end='')"
      ],
      "execution_count": null,
      "outputs": [
        {
          "output_type": "stream",
          "text": [
            "123456789101112131415161718192021222324252627282930313233343536373839404142434445464748495051525354555657585960616263646566676869707172737475767778798081828384858687888990919293949596979899100"
          ],
          "name": "stdout"
        }
      ]
    },
    {
      "cell_type": "markdown",
      "metadata": {
        "id": "R7c7JOZeFvzT"
      },
      "source": [
        "Q5\n",
        "A 학급에 총 10명의 학생이 있다. 이 학생들의 중간고사 점수는 다음과 같다.\n",
        "\n",
        "[70, 60, 55, 75, 95, 90, 80, 80, 85, 100]\n",
        "\n",
        "for문을 사용하여 A 학급의 평균 점수를 구해 보자."
      ]
    },
    {
      "cell_type": "code",
      "metadata": {
        "colab": {
          "base_uri": "https://localhost:8080/"
        },
        "id": "NUEhIHY2Foro",
        "outputId": "dfea18c1-bbf9-412b-d888-4e56f1389161"
      },
      "source": [
        "a=[70, 60, 55, 75, 95, 90, 80, 80, 85, 100]\n",
        "b=0\n",
        "for i in range(len(a)):\n",
        "  b+=a[i]\n",
        "print(b/len(a))"
      ],
      "execution_count": null,
      "outputs": [
        {
          "output_type": "stream",
          "text": [
            "79.0\n"
          ],
          "name": "stdout"
        }
      ]
    },
    {
      "cell_type": "markdown",
      "metadata": {
        "id": "q7xPmpAoGYDK"
      },
      "source": [
        "Q6\n",
        "리스트 중에서 홀수에만 2를 곱하여 저장하는 다음 코드가 있다.\n",
        "위 코드를 리스트 내포(list comprehension)를 사용하여 표현해 보자. = 틀림"
      ]
    },
    {
      "cell_type": "code",
      "metadata": {
        "id": "BI4NVwHTGEw4"
      },
      "source": [
        "numbers = [1, 2, 3, 4, 5]\n",
        "result = []\n",
        "for n in numbers:\n",
        "    if n % 2 == 1:\n",
        "        result.append(n*2)"
      ],
      "execution_count": null,
      "outputs": []
    },
    {
      "cell_type": "code",
      "metadata": {
        "id": "Eqi6iLzMGiyI"
      },
      "source": [
        "numbers = [1, 2, 3, 4, 5]\n",
        "result=[n*2 for n in numbers if n%2==1]"
      ],
      "execution_count": null,
      "outputs": []
    }
  ]
}