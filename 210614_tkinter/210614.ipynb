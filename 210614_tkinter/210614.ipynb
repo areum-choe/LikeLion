{
 "cells": [
  {
   "cell_type": "code",
   "execution_count": 36,
   "metadata": {},
   "outputs": [],
   "source": [
    "from urllib.request import urlopen\n",
    "from bs4 import BeautifulSoup"
   ]
  },
  {
   "cell_type": "code",
   "execution_count": 37,
   "metadata": {},
   "outputs": [],
   "source": [
    "url=\"https://finance.naver.com/sise/\""
   ]
  },
  {
   "cell_type": "code",
   "execution_count": 38,
   "metadata": {},
   "outputs": [
    {
     "data": {
      "text/plain": [
       "bs4.BeautifulSoup"
      ]
     },
     "execution_count": 38,
     "metadata": {},
     "output_type": "execute_result"
    }
   ],
   "source": [
    "page=urlopen(url)\n",
    "soup=BeautifulSoup(page,\"html.parser\")\n",
    "type(soup)"
   ]
  },
  {
   "cell_type": "code",
   "execution_count": 39,
   "metadata": {},
   "outputs": [],
   "source": [
    "###id를 이용해서 정보를 가져올 수 있다."
   ]
  },
  {
   "cell_type": "code",
   "execution_count": 40,
   "metadata": {},
   "outputs": [
    {
     "name": "stdout",
     "output_type": "stream",
     "text": [
      "현재 코스피 지수는: 3,252.13\n",
      "현재 코스닥 지수는: 3,252.13\n",
      "현재 코스피200 지수는: 3,252.13\n"
     ]
    }
   ],
   "source": [
    "# tag;span\n",
    "# id:KOSPI_now\n",
    "kospi=soup.find(\"span\",id=\"KOSPI_now\").text\n",
    "print(\"현재 코스피 지수는:\",kospi)\n",
    "kosdaq=soup.find(\"span\",id=\"KOSDAQ_now\").text\n",
    "print(\"현재 코스닥 지수는:\",kospi)\n",
    "kospi200=soup.find(\"span\",id=\"KPI200_now\").text\n",
    "print(\"현재 코스피200 지수는:\",kospi)"
   ]
  },
  {
   "cell_type": "code",
   "execution_count": 41,
   "metadata": {},
   "outputs": [
    {
     "data": {
      "text/plain": [
       "<dl class=\"trend\" id=\"basis_trend\">\n",
       "<dt><a href=\"/sise/sise_program.nhn\" onclick=\"clickcr(this,'mqu*o.ptrading','','',event);\"><span class=\"blind\">프로그램 매매동향</span></a></dt>\n",
       "<dd class=\"profit\">\n",
       "<p>차익</p>\n",
       "<a class=\"dn\" href=\"/sise/sise_program.nhn\"><em>-100</em>억</a>\n",
       "</dd>\n",
       "<dd class=\"loss\">\n",
       "<p>비차익</p>\n",
       "<a class=\"dn\" href=\"/sise/sise_program.nhn\"><em>-817</em>억</a>\n",
       "</dd>\n",
       "<dd class=\"total\">\n",
       "<p>전체</p>\n",
       "<a class=\"dn\" href=\"/sise/sise_program.nhn\"><em>-917</em>억</a>\n",
       "</dd>\n",
       "</dl>"
      ]
     },
     "execution_count": 41,
     "metadata": {},
     "output_type": "execute_result"
    }
   ],
   "source": [
    "soup.find(\"dl\",id=\"basis_trend\")"
   ]
  },
  {
   "cell_type": "code",
   "execution_count": 47,
   "metadata": {},
   "outputs": [
    {
     "name": "stdout",
     "output_type": "stream",
     "text": [
      " 차익 -100억 \n",
      " 비차익 -817억 \n",
      " 전체 -917억 \n"
     ]
    }
   ],
   "source": [
    "soup_p = soup.find(\"div\", id='tab_sel3_risefall').find(\"dd\", class_=\"profit\").text\n",
    "print( soup_p.replace(\"\\n\", \" \") )\n",
    "soup_p = soup.find(\"div\", id='tab_sel3_risefall').find(\"dd\", class_=\"loss\").text\n",
    "print( soup_p.replace(\"\\n\", \" \") )\n",
    "soup_p = soup.find(\"div\", id='tab_sel3_risefall').find(\"dd\", class_=\"total\").text\n",
    "print( soup_p.replace(\"\\n\", \" \") )"
   ]
  },
  {
   "cell_type": "code",
   "execution_count": null,
   "metadata": {},
   "outputs": [],
   "source": []
  }
 ],
 "metadata": {
  "kernelspec": {
   "display_name": "Python 3",
   "language": "python",
   "name": "python3"
  },
  "language_info": {
   "codemirror_mode": {
    "name": "ipython",
    "version": 3
   },
   "file_extension": ".py",
   "mimetype": "text/x-python",
   "name": "python",
   "nbconvert_exporter": "python",
   "pygments_lexer": "ipython3",
   "version": "3.8.5"
  }
 },
 "nbformat": 4,
 "nbformat_minor": 4
}
