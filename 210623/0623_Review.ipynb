{
 "cells": [
  {
   "cell_type": "markdown",
   "metadata": {},
   "source": [
    "### url로부터 html정보를 가져오기\n",
    " * url\n",
    " * urllib.request.urlopen : 함수\n",
    "   * requests \n",
    " * BeautifulSoup\n",
    "    * 파서 : html.parser, lxml, html5lib - lxml(c언어)\n",
    " * BeautifulSoup\n",
    "    * 정보 하나 가져오기 : [].find(\"태그명\", id = )\n",
    "    * 여러개 가져오기 : [].find_all(\"태그명\", class_)\n",
    "    * [].find_all : 리스트\n",
    "    * [].find : 문자열\n",
    " * Movie Review\n",
    "    * [].children   : 자기 바로 아래 단계를 리스트로 만들어준다.\n",
    " * 문자열 처리\n",
    "    * strip() : 공백, 줄바꿈의 처리\n",
    "    * for .... :\n",
    "    *    continue  => 어떤 반복 등의 처리할 때, 아래를 실행하지 않고, 반복 등의 분기로 돌아간다.\n",
    "    *    break\n",
    " * 리스트 처리\n",
    "    * remove(요소의 값)\n",
    "    * zip 함수\n",
    " * 텍스트 시각화 \n",
    "    * 워드 클라우드 : 빈도 또는 값 \n",
    " * 파일 만들기 \n",
    "    * [].to_csv, [].to_excel , index의 Argument(인자, 인수)의 역할\n",
    " * selenium \n",
    "    * driver.find_element_by_xpath\n",
    "    * 정보를 가져올 수 있는 방법 : \n",
    "        * css, xpath, class, id, link_text, partial_link_text\n",
    "    * 검색에 글 적어보기 : send_keys()\n",
    "    * 클릭 : click()\n",
    "    * 속성 가져오기 : [].get_attribute(\"속성명\")\n",
    "    * ...(\"div.CodeMirror.cm-s-jupyter div pre span.kn\").text"
   ]
  },
  {
   "cell_type": "code",
   "execution_count": 1,
   "metadata": {},
   "outputs": [
    {
     "data": {
      "text/plain": [
       "<title>First steps — Bokeh 2.3.2 Documentation</title>"
      ]
     },
     "execution_count": 1,
     "metadata": {},
     "output_type": "execute_result"
    }
   ],
   "source": [
    "from urllib.request import urlopen\n",
    "from bs4 import BeautifulSoup\n",
    "\n",
    "url = 'https://docs.bokeh.org/en/latest/docs/first_steps.html#first-steps'\n",
    "page = urlopen(url)\n",
    "soup = BeautifulSoup(page, 'lxml')\n",
    "soup.title"
   ]
  },
  {
   "cell_type": "markdown",
   "metadata": {},
   "source": [
    "### 실습 1-1 \n",
    " * 2개 그래프 그려보기\n",
    "   * 언제 쓰이는가와 확인한 점- 1줄 쓰기"
   ]
  },
  {
   "cell_type": "code",
   "execution_count": 11,
   "metadata": {},
   "outputs": [
    {
     "data": {
      "text/plain": [
       "Index(['total_bill', 'tip', 'sex', 'smoker', 'day', 'time', 'size'], dtype='object')"
      ]
     },
     "execution_count": 11,
     "metadata": {},
     "output_type": "execute_result"
    }
   ],
   "source": [
    "tips.columns"
   ]
  },
  {
   "cell_type": "code",
   "execution_count": 14,
   "metadata": {},
   "outputs": [
    {
     "data": {
      "text/plain": [
       "<AxesSubplot:xlabel='day', ylabel='total_bill'>"
      ]
     },
     "execution_count": 14,
     "metadata": {},
     "output_type": "execute_result"
    },
    {
     "data": {
      "image/png": "[encoded data removed]",
      "text/plain": [
       "<Figure size 432x288 with 1 Axes>"
      ]
     },
     "metadata": {},
     "output_type": "display_data"
    }
   ],
   "source": [
    "# plt.figure(figsize=(8,6))\n",
    "sns.boxplot(x=\"day\", y=\"total_bill\", data=tips)"
   ]
  },
  {
   "cell_type": "code",
   "execution_count": null,
   "metadata": {},
   "outputs": [],
   "source": []
  }
 ],
 "metadata": {
  "kernelspec": {
   "display_name": "Python 3",
   "language": "python",
   "name": "python3"
  },
  "language_info": {
   "codemirror_mode": {
    "name": "ipython",
    "version": 3
   },
   "file_extension": ".py",
   "mimetype": "text/x-python",
   "name": "python",
   "nbconvert_exporter": "python",
   "pygments_lexer": "ipython3",
   "version": "3.8.5"
  }
 },
 "nbformat": 4,
 "nbformat_minor": 4
}
