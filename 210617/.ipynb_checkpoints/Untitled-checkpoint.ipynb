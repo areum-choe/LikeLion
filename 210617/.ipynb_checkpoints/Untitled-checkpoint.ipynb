{
 "cells": [
  {
   "cell_type": "code",
   "execution_count": 1,
   "metadata": {},
   "outputs": [],
   "source": [
    "from urllib.request import urlopen\n",
    "from bs4 import BeautifulSoup"
   ]
  },
  {
   "cell_type": "code",
   "execution_count": 2,
   "metadata": {},
   "outputs": [],
   "source": [
    "url = \"https://finance.naver.com/sise/\""
   ]
  },
  {
   "cell_type": "code",
   "execution_count": 3,
   "metadata": {},
   "outputs": [],
   "source": [
    "page = urlopen(url)\n",
    "page\n",
    "soup = BeautifulSoup(page, \"html.parser\")"
   ]
  },
  {
   "cell_type": "code",
   "execution_count": 4,
   "metadata": {},
   "outputs": [
    {
     "name": "stdout",
     "output_type": "stream",
     "text": [
      "998.20\n",
      "3,261.50\n",
      "434.26\n"
     ]
    }
   ],
   "source": [
    "print( soup.find('span', id='KOSDAQ_now').text )  # 코스닥\n",
    "print( soup.find('span', id='KOSPI_now').text  )  # 코스피\n",
    "print( soup.find('span', id='KPI200_now').text )  # 코스피200"
   ]
  },
  {
   "cell_type": "code",
   "execution_count": 5,
   "metadata": {},
   "outputs": [],
   "source": [
    "my_stock = ['삼성전자', '카카오', '유한양행', 'NAVER']\n",
    "my_stock_code = ['005930','035720', '000100', '035420']"
   ]
  },
  {
   "cell_type": "code",
   "execution_count": 6,
   "metadata": {},
   "outputs": [
    {
     "data": {
      "text/plain": [
       "<title>유한양행 : 네이버 금융</title>"
      ]
     },
     "execution_count": 6,
     "metadata": {},
     "output_type": "execute_result"
    }
   ],
   "source": [
    "chk_url = 'https://finance.naver.com/item/main.nhn?code=000100'\n",
    "page=urlopen(chk_url)\n",
    "soup=BeautifulSoup(page,'lxml')\n",
    "soup.title"
   ]
  },
  {
   "cell_type": "code",
   "execution_count": 12,
   "metadata": {},
   "outputs": [
    {
     "name": "stdout",
     "output_type": "stream",
     "text": [
      "63,100\n"
     ]
    }
   ],
   "source": [
    "p1=soup.find(\"p\",class_=\"no_today\")\n",
    "p2=p1.find(\"span\",class_=\"blind\").text\n",
    "print(p2)"
   ]
  },
  {
   "cell_type": "code",
   "execution_count": 13,
   "metadata": {},
   "outputs": [
    {
     "data": {
      "text/plain": [
       "['\\n',\n",
       " <em class=\"no_down\">\n",
       " <span class=\"blind\">63,100</span>\n",
       " <span class=\"no6\">6</span><span class=\"no3\">3</span><span class=\"shim\">,</span><span class=\"no1\">1</span><span class=\"no0\">0</span><span class=\"no0\">0</span>\n",
       " </em>,\n",
       " '\\n']"
      ]
     },
     "execution_count": 13,
     "metadata": {},
     "output_type": "execute_result"
    }
   ],
   "source": [
    "list(soup.find(\"p\",class_=\"no_today\").children)"
   ]
  },
  {
   "cell_type": "code",
   "execution_count": 14,
   "metadata": {},
   "outputs": [
    {
     "data": {
      "text/plain": [
       "3"
      ]
     },
     "execution_count": 14,
     "metadata": {},
     "output_type": "execute_result"
    }
   ],
   "source": [
    "len(list(soup.find(\"p\",class_=\"no_today\").children))"
   ]
  },
  {
   "cell_type": "code",
   "execution_count": 15,
   "metadata": {},
   "outputs": [],
   "source": [
    "my_stock_code = ['005930','035720', '000100', '035420']\n",
    "base_url=\"https://finance.naver.com/item/main.nhn?code=\""
   ]
  },
  {
   "cell_type": "code",
   "execution_count": 18,
   "metadata": {},
   "outputs": [
    {
     "name": "stdout",
     "output_type": "stream",
     "text": [
      "삼성전자 80,900\n",
      "카카오 143,000\n",
      "유한양행 63,200\n",
      "NAVER 387,500\n"
     ]
    }
   ],
   "source": [
    "cnt=0\n",
    "for code in my_stock_code:\n",
    "    all_url=base_url+code\n",
    "    page=urlopen(all_url)\n",
    "    soup=BeautifulSoup(page,'lxml')\n",
    "    \n",
    "    ##현재가\n",
    "    tmp=soup.find(\"p\",class_=\"no_today\")\n",
    "    price=tmp.find(\"span\",class_=\"blind\").text\n",
    "    print(my_stock[cnt],price)\n",
    "    cnt+=1"
   ]
  },
  {
   "cell_type": "code",
   "execution_count": 20,
   "metadata": {},
   "outputs": [
    {
     "name": "stdout",
     "output_type": "stream",
     "text": [
      "삼성전자 80,900\n",
      "카카오 143,500\n",
      "유한양행 63,100\n",
      "NAVER 388,500\n"
     ]
    }
   ],
   "source": [
    "\n",
    "for idx,code in enumerate(my_stock_code):\n",
    "    all_url=base_url+code\n",
    "    page=urlopen(all_url)\n",
    "    soup=BeautifulSoup(page,'lxml')\n",
    "    \n",
    "    ##현재가\n",
    "    tmp=soup.find(\"p\",class_=\"no_today\")\n",
    "    price=tmp.find(\"span\",class_=\"blind\").text\n",
    "    print(my_stock[idx],price)\n"
   ]
  },
  {
   "cell_type": "code",
   "execution_count": 35,
   "metadata": {},
   "outputs": [
    {
     "name": "stdout",
     "output_type": "stream",
     "text": [
      "LG생횔건강 1,675,000\n",
      "현대글로비스 204,500\n",
      "현대차 239,500\n",
      "CJENM 172,000\n"
     ]
    }
   ],
   "source": [
    "my_stock1 = ['LG생횔건강', '현대글로비스', '현대차', 'CJENM']\n",
    "my_stock_code1 = ['051900','086280', '005380', '035760']\n",
    "base_url1=\"https://finance.naver.com/item/main.nhn?code=\"\n",
    "cnt=0\n",
    "\n",
    "for code1 in my_stock_code1:\n",
    "    all_url=base_url1+code1\n",
    "    page=urlopen(all_url)\n",
    "    soup=BeautifulSoup(page,'lxml')\n",
    "    \n",
    "    ##전일\n",
    "    tmp1=soup.find(\"td\",class_=\"first\")\n",
    "    price1=tmp1.find(\"span\",class_=\"blind\").text\n",
    "    print(my_stock1[cnt],price1)\n",
    "    cnt+=1"
   ]
  },
  {
   "cell_type": "code",
   "execution_count": 39,
   "metadata": {},
   "outputs": [
    {
     "name": "stdout",
     "output_type": "stream",
     "text": [
      "LG생횔건강 1,654,000\n",
      "현대글로비스 205,500\n",
      "현대차 236,500\n",
      "CJENM 175,000\n"
     ]
    }
   ],
   "source": [
    "my_stock1 = ['LG생횔건강', '현대글로비스', '현대차', 'CJENM']\n",
    "my_stock_code1 = ['051900','086280', '005380', '035760']\n",
    "base_url1=\"https://finance.naver.com/item/main.nhn?code=\"\n",
    "cnt=0\n",
    "\n",
    "for code in my_stock_code1:\n",
    "    all_url=base_url1+code\n",
    "    page=urlopen(all_url)\n",
    "    soup=BeautifulSoup(page,'lxml')\n",
    "    \n",
    "    ##현재가\n",
    "    tmp=soup.find(\"p\",class_=\"no_today\")\n",
    "    price=tmp.find(\"span\",class_=\"blind\").text\n",
    "    print(my_stock1[cnt],price)\n",
    "    cnt+=1"
   ]
  },
  {
   "cell_type": "code",
   "execution_count": 55,
   "metadata": {},
   "outputs": [
    {
     "name": "stdout",
     "output_type": "stream",
     "text": [
      "LG생횔건강 1,658,000\n",
      "현대글로비스 204,500\n",
      "현대차 237,000\n",
      "CJENM 175,500\n"
     ]
    }
   ],
   "source": [
    "my_stock = ['LG생횔건강', '현대글로비스', '현대차', 'CJENM']\n",
    "my_stock_code = ['051900','086280', '005380', '035760']\n",
    "base_url=\"https://finance.naver.com/item/main.nhn?code=\"\n",
    "\n",
    "cnt=0\n",
    "for code in my_stock_code:\n",
    "    all_url=base_url+code\n",
    "    page=urlopen(all_url)\n",
    "    soup=BeautifulSoup(page,'lxml')\n",
    "    \n",
    "    ##현재가\n",
    "    qty = soup.find('div',id='chart_area')\n",
    "    price=soup.find('div',id='chart_area').find_next(\"span\", class_=\"blind\").text\n",
    "    print(my_stock[cnt],price)\n",
    "    cnt+=1"
   ]
  },
  {
   "cell_type": "code",
   "execution_count": 58,
   "metadata": {},
   "outputs": [
    {
     "name": "stdout",
     "output_type": "stream",
     "text": [
      "<title>삼성전자 : 네이버 금융</title>\n",
      "<title>CJ CGV : 네이버 금융</title>\n",
      "<title>효성화학 : 네이버 금융</title>\n",
      "<title>카카오 : 네이버 금융</title>\n",
      "<title>ARIRANG 코스피50 : 네이버 금융</title>\n"
     ]
    }
   ],
   "source": [
    "from bs4 import BeautifulSoup\n",
    "from urllib.request import urlopen\n",
    "import pandas as pd\n",
    "# 여러 개\n",
    "my_stock = ['삼성전자', 'CJ CGV', '효성화학', '카카오', 'ARIRANG 코스피50']\n",
    "my_stock_code = ['005930 ','079160','298000','035720','122090']\n",
    "base_url = 'https://finance.naver.com/item/main.nhn?code='\n",
    "price_all = []\n",
    "dif_all = []\n",
    "rat_all = []\n",
    "c0 = []  \n",
    "c1 = []\n",
    "c2 = []\n",
    "c3 = []\n",
    "c4 = []\n",
    "c5 = []\n",
    "# c6 = []\n",
    "for idx,code in enumerate(my_stock_code):\n",
    "    all_url = base_url + code\n",
    "    page = urlopen(all_url)\n",
    "    soup = BeautifulSoup(page, 'html.parser')\n",
    "    print(soup.title) # 제대로 정보를 가지고 왔는지 확인\n",
    "    price_all.append(soup.find(\"p\",class_='no_today').find(\"span\", class_=\"blind\").text)\n",
    "    gaptag = soup.find(\"p\",class_='no_exday').find_all(\"span\",class_='blind')\n",
    "    dif_all.append(gaptag[0].text) # 전일비\n",
    "    rat_all.append(gaptag[1].text) # 등락율\n",
    "    table = soup.find(\"table\")\n",
    "    numtag = table.find_all(\"span\",class_='blind')\n",
    "    c0.append(numtag[0].text) # 전일\n",
    "    c1.append(numtag[1].text) # 고가\n",
    "    c2.append(numtag[2].text) # 상한가\n",
    "    c3.append(numtag[3].text) # 거래량\n",
    "    c4.append(numtag[4].text) # 시가\n",
    "    c5.append(numtag[5].text) # 저가\n",
    "#     c6.append(numtag[6].text) # 거래대금\n",
    "dat = {'회사명':my_stock,'회사코드':my_stock_code, \n",
    "      '현재가':price_all, \"전일비\":dif_all, \"등락률\":rat_all,\n",
    "       \"전일\":c0, \"고가\":c1,\"상한가\":c2,\"거래량\":c3,\"시가\":c4,\"저가\":c5} # 거래대금 제외\n",
    "dat = pd.DataFrame(dat)\n",
    "dat.to_csv(\"mystock.csv\",index=False)"
   ]
  },
  {
   "cell_type": "code",
   "execution_count": null,
   "metadata": {},
   "outputs": [],
   "source": []
  }
 ],
 "metadata": {
  "kernelspec": {
   "display_name": "Python 3",
   "language": "python",
   "name": "python3"
  },
  "language_info": {
   "codemirror_mode": {
    "name": "ipython",
    "version": 3
   },
   "file_extension": ".py",
   "mimetype": "text/x-python",
   "name": "python",
   "nbconvert_exporter": "python",
   "pygments_lexer": "ipython3",
   "version": "3.8.5"
  }
 },
 "nbformat": 4,
 "nbformat_minor": 4
}
