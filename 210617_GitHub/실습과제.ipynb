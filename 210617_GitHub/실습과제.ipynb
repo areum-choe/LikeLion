{
 "cells": [
  {
   "cell_type": "code",
   "execution_count": 2,
   "metadata": {},
   "outputs": [],
   "source": [
    "from urllib.request import urlopen\n",
    "from bs4 import BeautifulSoup"
   ]
  },
  {
   "cell_type": "code",
   "execution_count": 3,
   "metadata": {},
   "outputs": [],
   "source": [
    "url = \"https://finance.naver.com/sise/\""
   ]
  },
  {
   "cell_type": "code",
   "execution_count": 4,
   "metadata": {},
   "outputs": [],
   "source": [
    "page = urlopen(url)\n",
    "page\n",
    "soup = BeautifulSoup(page, \"html.parser\")"
   ]
  },
  {
   "cell_type": "code",
   "execution_count": 5,
   "metadata": {},
   "outputs": [
    {
     "name": "stdout",
     "output_type": "stream",
     "text": [
      "1,012.13\n",
      "3,302.84\n",
      "440.40\n"
     ]
    }
   ],
   "source": [
    "print( soup.find('span', id='KOSDAQ_now').text )  # 코스닥\n",
    "print( soup.find('span', id='KOSPI_now').text  )  # 코스피\n",
    "print( soup.find('span', id='KPI200_now').text )  # 코스피200"
   ]
  },
  {
   "cell_type": "code",
   "execution_count": 6,
   "metadata": {},
   "outputs": [],
   "source": [
    "my_stock = ['삼성전자', '카카오', '유한양행', 'NAVER']\n",
    "my_stock_code = ['005930','035720', '000100', '035420']"
   ]
  },
  {
   "cell_type": "code",
   "execution_count": 7,
   "metadata": {},
   "outputs": [
    {
     "data": {
      "text/plain": [
       "<title>유한양행 : 네이버 금융</title>"
      ]
     },
     "execution_count": 7,
     "metadata": {},
     "output_type": "execute_result"
    }
   ],
   "source": [
    "chk_url = 'https://finance.naver.com/item/main.nhn?code=000100'\n",
    "page=urlopen(chk_url)\n",
    "soup=BeautifulSoup(page,'lxml')\n",
    "soup.title"
   ]
  },
  {
   "cell_type": "code",
   "execution_count": 8,
   "metadata": {},
   "outputs": [
    {
     "name": "stdout",
     "output_type": "stream",
     "text": [
      "63,200\n"
     ]
    }
   ],
   "source": [
    "p1=soup.find(\"p\",class_=\"no_today\")\n",
    "p2=p1.find(\"span\",class_=\"blind\").text\n",
    "print(p2)"
   ]
  },
  {
   "cell_type": "code",
   "execution_count": 9,
   "metadata": {},
   "outputs": [
    {
     "data": {
      "text/plain": [
       "['\\n',\n",
       " <em class=\"no_up\">\n",
       " <span class=\"blind\">63,200</span>\n",
       " <span class=\"no6\">6</span><span class=\"no3\">3</span><span class=\"shim\">,</span><span class=\"no2\">2</span><span class=\"no0\">0</span><span class=\"no0\">0</span>\n",
       " </em>,\n",
       " '\\n']"
      ]
     },
     "execution_count": 9,
     "metadata": {},
     "output_type": "execute_result"
    }
   ],
   "source": [
    "list(soup.find(\"p\",class_=\"no_today\").children)"
   ]
  },
  {
   "cell_type": "code",
   "execution_count": 10,
   "metadata": {},
   "outputs": [
    {
     "data": {
      "text/plain": [
       "3"
      ]
     },
     "execution_count": 10,
     "metadata": {},
     "output_type": "execute_result"
    }
   ],
   "source": [
    "len(list(soup.find(\"p\",class_=\"no_today\").children))"
   ]
  },
  {
   "cell_type": "code",
   "execution_count": 11,
   "metadata": {},
   "outputs": [],
   "source": [
    "my_stock_code = ['005930','035720', '000100', '035420']\n",
    "base_url=\"https://finance.naver.com/item/main.nhn?code=\""
   ]
  },
  {
   "cell_type": "code",
   "execution_count": 12,
   "metadata": {},
   "outputs": [
    {
     "name": "stdout",
     "output_type": "stream",
     "text": [
      "삼성전자 81,200\n",
      "카카오 157,000\n",
      "유한양행 63,100\n",
      "NAVER 419,500\n"
     ]
    }
   ],
   "source": [
    "cnt=0\n",
    "for code in my_stock_code:\n",
    "    all_url=base_url+code\n",
    "    page=urlopen(all_url)\n",
    "    soup=BeautifulSoup(page,'lxml')\n",
    "    \n",
    "    ##현재가\n",
    "    tmp=soup.find(\"p\",class_=\"no_today\")\n",
    "    price=tmp.find(\"span\",class_=\"blind\").text\n",
    "    print(my_stock[cnt],price)\n",
    "    cnt+=1"
   ]
  },
  {
   "cell_type": "code",
   "execution_count": 13,
   "metadata": {
    "scrolled": true
   },
   "outputs": [
    {
     "name": "stdout",
     "output_type": "stream",
     "text": [
      "삼성전자 81,200\n",
      "카카오 157,000\n",
      "유한양행 63,100\n",
      "NAVER 419,500\n"
     ]
    }
   ],
   "source": [
    "\n",
    "for idx,code in enumerate(my_stock_code):\n",
    "    all_url=base_url+code\n",
    "    page=urlopen(all_url)\n",
    "    soup=BeautifulSoup(page,'lxml')\n",
    "    \n",
    "    ##현재가\n",
    "    tmp=soup.find(\"p\",class_=\"no_today\")\n",
    "    price=tmp.find(\"span\",class_=\"blind\").text\n",
    "    print(my_stock[idx],price)\n"
   ]
  },
  {
   "cell_type": "markdown",
   "metadata": {},
   "source": [
    "#### 관심 있는 종목 5개 선정, 코드 확인 후, 내가 필요로 하는 정보 6개 가져오기"
   ]
  },
  {
   "cell_type": "markdown",
   "metadata": {},
   "source": [
    "#### 전일가"
   ]
  },
  {
   "cell_type": "code",
   "execution_count": 14,
   "metadata": {},
   "outputs": [
    {
     "name": "stdout",
     "output_type": "stream",
     "text": [
      "LG생횔건강 1,721,000\n",
      "현대글로비스 212,500\n",
      "현대차 242,500\n",
      "CJENM 184,600\n",
      "셀트리온 281,500\n"
     ]
    }
   ],
   "source": [
    "my_stock1 = ['LG생횔건강', '현대글로비스', '현대차', 'CJENM','셀트리온']\n",
    "my_stock_code1 = ['051900','086280', '005380', '035760','068270']\n",
    "base_url1=\"https://finance.naver.com/item/main.nhn?code=\"\n",
    "cnt=0\n",
    "\n",
    "for code1 in my_stock_code1:\n",
    "    all_url=base_url1+code1\n",
    "    page=urlopen(all_url)\n",
    "    soup=BeautifulSoup(page,'lxml')\n",
    "    \n",
    "    ##전일\n",
    "    tmp1=soup.find(\"td\",class_=\"first\")\n",
    "    price1=tmp1.find(\"span\",class_=\"blind\").text\n",
    "    print(my_stock1[cnt],price1)\n",
    "    cnt+=1"
   ]
  },
  {
   "cell_type": "markdown",
   "metadata": {},
   "source": [
    "#### 현재가"
   ]
  },
  {
   "cell_type": "code",
   "execution_count": 31,
   "metadata": {},
   "outputs": [
    {
     "name": "stdout",
     "output_type": "stream",
     "text": [
      "LG생횔건강 1,755,000\n",
      "현대글로비스 207,500\n",
      "현대차 242,500\n",
      "CJENM 186,800\n",
      "셀트리온 278,500\n"
     ]
    }
   ],
   "source": [
    "my_stock1 = ['LG생횔건강', '현대글로비스', '현대차', 'CJENM','셀트리온']\n",
    "my_stock_code1 = ['051900','086280', '005380', '035760','068270']\n",
    "base_url1=\"https://finance.naver.com/item/main.nhn?code=\"\n",
    "cnt=0\n",
    "\n",
    "for code in my_stock_code1:\n",
    "    all_url=base_url1+code\n",
    "    page=urlopen(all_url)\n",
    "    soup=BeautifulSoup(page,'lxml')\n",
    "    \n",
    "    ##현재가\n",
    "    tmp=soup.find(\"p\",class_=\"no_today\")\n",
    "    price=tmp.find(\"span\",class_=\"blind\").text\n",
    "    print(my_stock1[cnt],price)\n",
    "    cnt+=1"
   ]
  },
  {
   "cell_type": "markdown",
   "metadata": {},
   "source": [
    "#### 고가(왜2번씩 나오는지 모르겠습니다 !"
   ]
  },
  {
   "cell_type": "code",
   "execution_count": 27,
   "metadata": {},
   "outputs": [
    {
     "name": "stdout",
     "output_type": "stream",
     "text": [
      "LG생횔건강 \n",
      "1,781,0001,781,000\n",
      "\n",
      "현대글로비스 \n",
      "216,000216,000\n",
      "\n",
      "현대차 \n",
      "244,000244,000\n",
      "\n",
      "셀트리온 \n",
      "281,000281,000\n",
      "\n"
     ]
    }
   ],
   "source": [
    "my_stock1 = ['LG생횔건강', '현대글로비스', '현대차', '셀트리온']\n",
    "my_stock_code1 = ['051900','086280', '005380','068270']\n",
    "base_url1=\"https://finance.naver.com/item/main.nhn?code=\"\n",
    "cnt=0\n",
    "for code in my_stock_code1:\n",
    "    all_url=base_url1+code\n",
    "    page=urlopen(all_url)\n",
    "    soup=BeautifulSoup(page,'lxml')\n",
    "    \n",
    "    ##고가\n",
    "    qty = soup.find('table', class_='no_info')\n",
    "    price = qty.find('em',class_='no_up').text\n",
    "    print(my_stock1[cnt], price)\n",
    "    cnt+=1"
   ]
  },
  {
   "cell_type": "code",
   "execution_count": 29,
   "metadata": {},
   "outputs": [
    {
     "name": "stdout",
     "output_type": "stream",
     "text": [
      "LG생횔건강 \n",
      "1,755,000\n",
      "1,755,000\n",
      "\n",
      "현대글로비스 \n",
      "207,500\n",
      "207,500\n",
      "\n",
      "현대차 \n",
      "242,500\n",
      "242,500\n",
      "\n",
      "CJENM \n",
      "186,800\n",
      "186,800\n",
      "\n",
      "셀트리온 \n",
      "278,500\n",
      "278,500\n",
      "\n"
     ]
    }
   ],
   "source": [
    "my_stock1 = ['LG생횔건강', '현대글로비스', '현대차', 'CJENM','셀트리온']\n",
    "my_stock_code1 = ['051900','086280', '005380', '035760','068270']\n",
    "base_url1=\"https://finance.naver.com/item/main.nhn?code=\"\n",
    "cnt=0\n",
    "for code in my_stock_code1:\n",
    "    all_url=base_url1+code\n",
    "    page=urlopen(all_url)\n",
    "    soup=BeautifulSoup(page,'lxml')\n",
    "    \n",
    "    ##저가\n",
    "    qty = soup.find('table', class_='no_info')\n",
    "    price=qty.find(\"td\").text\n",
    "    print(my_stock1[cnt],price)\n",
    "    cnt+=1"
   ]
  },
  {
   "cell_type": "code",
   "execution_count": null,
   "metadata": {},
   "outputs": [],
   "source": []
  }
 ],
 "metadata": {
  "kernelspec": {
   "display_name": "Python 3",
   "language": "python",
   "name": "python3"
  },
  "language_info": {
   "codemirror_mode": {
    "name": "ipython",
    "version": 3
   },
   "file_extension": ".py",
   "mimetype": "text/x-python",
   "name": "python",
   "nbconvert_exporter": "python",
   "pygments_lexer": "ipython3",
   "version": "3.8.5"
  }
 },
 "nbformat": 4,
 "nbformat_minor": 4
}
