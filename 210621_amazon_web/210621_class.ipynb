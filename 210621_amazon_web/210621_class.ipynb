{
 "cells": [
  {
   "cell_type": "code",
   "execution_count": 63,
   "metadata": {},
   "outputs": [],
   "source": [
    "import os"
   ]
  },
  {
   "cell_type": "code",
   "execution_count": 64,
   "metadata": {},
   "outputs": [
    {
     "data": {
      "text/plain": [
       "'C:\\\\Users\\\\chlal\\\\Documents\\\\GitHub\\\\LikeLion\\\\code'"
      ]
     },
     "execution_count": 64,
     "metadata": {},
     "output_type": "execute_result"
    }
   ],
   "source": [
    "os.getcwd()"
   ]
  },
  {
   "cell_type": "code",
   "execution_count": 65,
   "metadata": {},
   "outputs": [],
   "source": [
    "from selenium import webdriver\n",
    "from bs4 import BeautifulSoup"
   ]
  },
  {
   "cell_type": "code",
   "execution_count": 146,
   "metadata": {},
   "outputs": [],
   "source": [
    "driver=webdriver.Chrome('./chromedriver_90.exe')"
   ]
  },
  {
   "cell_type": "code",
   "execution_count": 147,
   "metadata": {},
   "outputs": [],
   "source": [
    "url='https:///www.amazon.com/'\n",
    "driver.get(url)"
   ]
  },
  {
   "cell_type": "code",
   "execution_count": 148,
   "metadata": {},
   "outputs": [
    {
     "name": "stdout",
     "output_type": "stream",
     "text": [
      "input input\n"
     ]
    }
   ],
   "source": [
    "sel_search = driver.find_element_by_xpath('//*[@id=\"twotabsearchtextbox\"]')\n",
    "sel_btn = driver.find_element_by_xpath('//*[@id=\"nav-search-submit-button\"]')\n",
    "\n",
    "print(sel_search.tag_name,sel_btn.tag_name)"
   ]
  },
  {
   "cell_type": "code",
   "execution_count": 149,
   "metadata": {},
   "outputs": [],
   "source": [
    "sel_search.clear()\n",
    "sel_search.send_keys('earphones')\n",
    "sel_btn.click()"
   ]
  },
  {
   "cell_type": "code",
   "execution_count": 150,
   "metadata": {},
   "outputs": [],
   "source": [
    "###(실습)첫번째 제품의 href정보 가져와보기_셀레니움\n"
   ]
  },
  {
   "cell_type": "code",
   "execution_count": 151,
   "metadata": {
    "scrolled": true
   },
   "outputs": [
    {
     "data": {
      "text/plain": [
       "'https://www.amazon.com/gp/slredirect/picassoRedirect.html/ref=pa_sp_atf_aps_sr_pg1_1?ie=UTF8&adId=A04833163TO3WKFYOQ5XW&url=%2FSymphonized-Headphones-Noise-isolating-Earphones-Balanced%2Fdp%2FB01D3QZB2Y%2Fref%3Dsr_1_1_sspa%3Fdchild%3D1%26keywords%3Dearphones%26qid%3D1624255326%26sr%3D8-1-spons%26psc%3D1%26smid%3DA2X0F4F8T5BV34&qualifier=1624255326&id=2269809618984163&widgetName=sp_atf'"
      ]
     },
     "execution_count": 151,
     "metadata": {},
     "output_type": "execute_result"
    }
   ],
   "source": [
    "sel_earphone = driver.find_element_by_xpath('//*[@id=\"search\"]/div[1]/div/div[1]/div/span[3]/div[2]/div[2]/div/span/div/div/div/div/div[2]/div[2]/div/div[1]/h2/a')\n",
    "sel_earphone.get_attribute('href')"
   ]
  },
  {
   "cell_type": "code",
   "execution_count": 72,
   "metadata": {},
   "outputs": [],
   "source": [
    "###(실습)첫번째 제품의 href정보 가져와보기_bs4"
   ]
  },
  {
   "cell_type": "code",
   "execution_count": 73,
   "metadata": {},
   "outputs": [],
   "source": [
    "page=driver.page_source\n",
    "soup=BeautifulSoup(page,'html.parser')"
   ]
  },
  {
   "cell_type": "code",
   "execution_count": 74,
   "metadata": {},
   "outputs": [
    {
     "data": {
      "text/plain": [
       "'https://www.amazon.com/s?k=earphones&ref=nb_sb_noss'"
      ]
     },
     "execution_count": 74,
     "metadata": {},
     "output_type": "execute_result"
    }
   ],
   "source": [
    "current_url=driver.current_url\n",
    "current_url"
   ]
  },
  {
   "cell_type": "code",
   "execution_count": 75,
   "metadata": {},
   "outputs": [
    {
     "name": "stdout",
     "output_type": "stream",
     "text": [
      "<h2 class=\"a-size-mini a-spacing-none a-color-base s-line-clamp-2\"><a class=\"a-link-normal a-text-normal\" href=\"/gp/slredirect/picassoRedirect.html/ref=pa_sp_atf_aps_sr_pg1_1?ie=UTF8&amp;adId=A0036473M85W8BLWDGGH&amp;url=%2FEarbuds-Earphones-Headphones-Microphone-Compatible%2Fdp%2FB091D16JCC%2Fref%3Dsr_1_1_sspa%3Fdchild%3D1%26keywords%3Dearphones%26qid%3D1624242748%26sr%3D8-1-spons%26psc%3D1%26smid%3DAAHYF2T56VK64&amp;qualifier=1624242748&amp;id=177002379643102&amp;widgetName=sp_atf\"><span class=\"a-size-medium a-color-base a-text-normal\">【2 Pack】 Earbuds/Earphones,Wired Headphones,3.5mm in-Ear Wired Earbuds with Built-in Microphone &amp; Volume Control Compatible with iPhone 6s plus/6/5s/5c/iPad/S10 Android Mostl 3.5 mm Audio Devices</span> </a> </h2>\n",
      "【2 Pack】 Earbuds/Earphones,Wired Headphones,3.5mm in-Ear Wired Earbuds with Built-in Microphone & Volume Control Compatible with iPhone 6s plus/6/5s/5c/iPad/S10 Android Mostl 3.5 mm Audio Devices\n",
      "\n",
      "/gp/slredirect/picassoRedirect.html/ref=pa_sp_atf_aps_sr_pg1_1?ie=UTF8&adId=A0036473M85W8BLWDGGH&url=%2FEarbuds-Earphones-Headphones-Microphone-Compatible%2Fdp%2FB091D16JCC%2Fref%3Dsr_1_1_sspa%3Fdchild%3D1%26keywords%3Dearphones%26qid%3D1624242748%26sr%3D8-1-spons%26psc%3D1%26smid%3DAAHYF2T56VK64&qualifier=1624242748&id=177002379643102&widgetName=sp_atf\n"
     ]
    }
   ],
   "source": [
    "tmp = soup.find_all('h2', class_='a-size-mini a-spacing-none a-color-base s-line-clamp-2')[0]\n",
    "print(tmp)\n",
    "print(tmp.span.text)\n",
    "print()\n",
    "print(tmp.a.attrs['href'])"
   ]
  },
  {
   "cell_type": "code",
   "execution_count": 76,
   "metadata": {},
   "outputs": [
    {
     "data": {
      "text/plain": [
       "'https://www.amazon.com/s?k=earphones&ref=nb_sb_noss/gp/slredirect/picassoRedirect.html/ref=pa_sp_atf_aps_sr_pg1_1?ie=UTF8&adId=A0036473M85W8BLWDGGH&url=%2FEarbuds-Earphones-Headphones-Microphone-Compatible%2Fdp%2FB091D16JCC%2Fref%3Dsr_1_1_sspa%3Fdchild%3D1%26keywords%3Dearphones%26qid%3D1624242748%26sr%3D8-1-spons%26psc%3D1%26smid%3DAAHYF2T56VK64&qualifier=1624242748&id=177002379643102&widgetName=sp_atf'"
      ]
     },
     "execution_count": 76,
     "metadata": {},
     "output_type": "execute_result"
    }
   ],
   "source": [
    "# 전체 URL을 얻는다.\n",
    "current_url + tmp.a.attrs['href']"
   ]
  },
  {
   "cell_type": "code",
   "execution_count": 77,
   "metadata": {},
   "outputs": [
    {
     "name": "stdout",
     "output_type": "stream",
     "text": [
      "[<selenium.webdriver.remote.webelement.WebElement (session=\"7b1498a31ceaad9d5acb67493de0ef8a\", element=\"fda4bb90-b665-43df-9330-16b5541deefa\")>, <selenium.webdriver.remote.webelement.WebElement (session=\"7b1498a31ceaad9d5acb67493de0ef8a\", element=\"18500387-c237-4cbe-a14d-057673ab1114\")>, <selenium.webdriver.remote.webelement.WebElement (session=\"7b1498a31ceaad9d5acb67493de0ef8a\", element=\"1bb0cac6-e872-40d7-b434-4abd4b370508\")>, <selenium.webdriver.remote.webelement.WebElement (session=\"7b1498a31ceaad9d5acb67493de0ef8a\", element=\"a75d02fe-94e3-48fb-a1e4-2b4e2edae41c\")>, <selenium.webdriver.remote.webelement.WebElement (session=\"7b1498a31ceaad9d5acb67493de0ef8a\", element=\"b80bf73b-b2a3-4f4d-ac4d-61dfa38ee8c1\")>, <selenium.webdriver.remote.webelement.WebElement (session=\"7b1498a31ceaad9d5acb67493de0ef8a\", element=\"bd794add-9381-4208-b05d-5e200ff47148\")>, <selenium.webdriver.remote.webelement.WebElement (session=\"7b1498a31ceaad9d5acb67493de0ef8a\", element=\"86b20b36-dcb3-43b7-b134-660c172d2972\")>, <selenium.webdriver.remote.webelement.WebElement (session=\"7b1498a31ceaad9d5acb67493de0ef8a\", element=\"bc62f93d-1611-413c-8ccf-0ce2af39067c\")>, <selenium.webdriver.remote.webelement.WebElement (session=\"7b1498a31ceaad9d5acb67493de0ef8a\", element=\"cb0c7a4e-5afa-448e-a83b-62987608daed\")>, <selenium.webdriver.remote.webelement.WebElement (session=\"7b1498a31ceaad9d5acb67493de0ef8a\", element=\"767ce402-c028-4663-81cb-0dca61d741d0\")>, <selenium.webdriver.remote.webelement.WebElement (session=\"7b1498a31ceaad9d5acb67493de0ef8a\", element=\"a942fa35-c983-451e-ab54-bf184faab421\")>, <selenium.webdriver.remote.webelement.WebElement (session=\"7b1498a31ceaad9d5acb67493de0ef8a\", element=\"6729c09a-f256-4272-b0fa-1186a5f6f21f\")>, <selenium.webdriver.remote.webelement.WebElement (session=\"7b1498a31ceaad9d5acb67493de0ef8a\", element=\"03b6d4fe-b5cb-41f8-b034-91c0426aecbd\")>, <selenium.webdriver.remote.webelement.WebElement (session=\"7b1498a31ceaad9d5acb67493de0ef8a\", element=\"1b08ed17-d9ea-4092-b84c-773b11d50f8d\")>, <selenium.webdriver.remote.webelement.WebElement (session=\"7b1498a31ceaad9d5acb67493de0ef8a\", element=\"5b7ab70e-d47a-4944-870a-1f259b49622e\")>, <selenium.webdriver.remote.webelement.WebElement (session=\"7b1498a31ceaad9d5acb67493de0ef8a\", element=\"604b1d3d-4bba-49fd-8e52-24c126a490e9\")>, <selenium.webdriver.remote.webelement.WebElement (session=\"7b1498a31ceaad9d5acb67493de0ef8a\", element=\"7104f25a-e5d8-489f-87c5-98971c1a91d2\")>, <selenium.webdriver.remote.webelement.WebElement (session=\"7b1498a31ceaad9d5acb67493de0ef8a\", element=\"4855076d-10e9-4db3-a4a1-298a243e8503\")>, <selenium.webdriver.remote.webelement.WebElement (session=\"7b1498a31ceaad9d5acb67493de0ef8a\", element=\"fd6adbbd-a218-4b2d-bc53-0a743ff0fbb2\")>, <selenium.webdriver.remote.webelement.WebElement (session=\"7b1498a31ceaad9d5acb67493de0ef8a\", element=\"41f2c496-8c0e-489c-be0c-ffcb98395d47\")>, <selenium.webdriver.remote.webelement.WebElement (session=\"7b1498a31ceaad9d5acb67493de0ef8a\", element=\"5e18ea0e-6cb5-49ac-af98-bd92bafb0a92\")>, <selenium.webdriver.remote.webelement.WebElement (session=\"7b1498a31ceaad9d5acb67493de0ef8a\", element=\"8629cc33-46d3-439a-99e2-ec23982b93af\")>, <selenium.webdriver.remote.webelement.WebElement (session=\"7b1498a31ceaad9d5acb67493de0ef8a\", element=\"fe4ddefe-3cfb-4c31-b4d7-71dd76e03daa\")>, <selenium.webdriver.remote.webelement.WebElement (session=\"7b1498a31ceaad9d5acb67493de0ef8a\", element=\"cc6104b8-c748-45c8-9995-831b14f3151d\")>, <selenium.webdriver.remote.webelement.WebElement (session=\"7b1498a31ceaad9d5acb67493de0ef8a\", element=\"779e1ebc-36d7-4404-b0d3-5880ac198ad9\")>, <selenium.webdriver.remote.webelement.WebElement (session=\"7b1498a31ceaad9d5acb67493de0ef8a\", element=\"c79bea29-4359-4de4-ad9b-43155ce019fd\")>, <selenium.webdriver.remote.webelement.WebElement (session=\"7b1498a31ceaad9d5acb67493de0ef8a\", element=\"ad9d320b-8032-4956-abc2-c57dd24d8782\")>, <selenium.webdriver.remote.webelement.WebElement (session=\"7b1498a31ceaad9d5acb67493de0ef8a\", element=\"1cb8d015-aa75-4ea0-9c38-3b88eb196d56\")>, <selenium.webdriver.remote.webelement.WebElement (session=\"7b1498a31ceaad9d5acb67493de0ef8a\", element=\"dd47fb29-f813-43a0-a8cc-7265dcd411bd\")>, <selenium.webdriver.remote.webelement.WebElement (session=\"7b1498a31ceaad9d5acb67493de0ef8a\", element=\"f741c8f3-79f5-45ae-9443-b3de1da24ddd\")>, <selenium.webdriver.remote.webelement.WebElement (session=\"7b1498a31ceaad9d5acb67493de0ef8a\", element=\"0b14bbd6-e40b-4fb5-98b7-6a5e56cd49b4\")>, <selenium.webdriver.remote.webelement.WebElement (session=\"7b1498a31ceaad9d5acb67493de0ef8a\", element=\"bebce752-106f-4151-a215-dd7f60005c99\")>, <selenium.webdriver.remote.webelement.WebElement (session=\"7b1498a31ceaad9d5acb67493de0ef8a\", element=\"e33d615b-7940-4d46-882b-8d352dc70f14\")>, <selenium.webdriver.remote.webelement.WebElement (session=\"7b1498a31ceaad9d5acb67493de0ef8a\", element=\"b04c1ee5-30d0-4c90-8e23-28f216a1270b\")>, <selenium.webdriver.remote.webelement.WebElement (session=\"7b1498a31ceaad9d5acb67493de0ef8a\", element=\"eb4ab70c-d1bb-483e-b315-6737b421a746\")>, <selenium.webdriver.remote.webelement.WebElement (session=\"7b1498a31ceaad9d5acb67493de0ef8a\", element=\"235c451a-8504-419b-85f0-1b72f27e2fe1\")>, <selenium.webdriver.remote.webelement.WebElement (session=\"7b1498a31ceaad9d5acb67493de0ef8a\", element=\"6c37841d-5ec4-46f1-aa0f-e2c1cf015c8e\")>, <selenium.webdriver.remote.webelement.WebElement (session=\"7b1498a31ceaad9d5acb67493de0ef8a\", element=\"37fa9c8f-ae0d-4322-ad23-02ce5575effd\")>, <selenium.webdriver.remote.webelement.WebElement (session=\"7b1498a31ceaad9d5acb67493de0ef8a\", element=\"cd19b313-b316-4275-9483-a756e4ea59ba\")>, <selenium.webdriver.remote.webelement.WebElement (session=\"7b1498a31ceaad9d5acb67493de0ef8a\", element=\"e74f29b4-81ab-406e-b895-92f9731ac374\")>, <selenium.webdriver.remote.webelement.WebElement (session=\"7b1498a31ceaad9d5acb67493de0ef8a\", element=\"c2a8b429-584b-4640-a0fb-23fde22fc256\")>, <selenium.webdriver.remote.webelement.WebElement (session=\"7b1498a31ceaad9d5acb67493de0ef8a\", element=\"dd4ff64c-bab4-493a-b3d6-80ed96dccb91\")>, <selenium.webdriver.remote.webelement.WebElement (session=\"7b1498a31ceaad9d5acb67493de0ef8a\", element=\"35d5ff3c-aa7a-4d3a-9eb8-dc28852cf421\")>, <selenium.webdriver.remote.webelement.WebElement (session=\"7b1498a31ceaad9d5acb67493de0ef8a\", element=\"2face133-0b8d-4a8f-b2a0-a3239a36947a\")>, <selenium.webdriver.remote.webelement.WebElement (session=\"7b1498a31ceaad9d5acb67493de0ef8a\", element=\"2b2ccb45-597d-4ced-a207-6230ff03bd08\")>, <selenium.webdriver.remote.webelement.WebElement (session=\"7b1498a31ceaad9d5acb67493de0ef8a\", element=\"5272e730-2e91-48b9-8d59-39871c2276b6\")>, <selenium.webdriver.remote.webelement.WebElement (session=\"7b1498a31ceaad9d5acb67493de0ef8a\", element=\"47e27053-d762-49b1-bde2-1eaaf3c0789a\")>, <selenium.webdriver.remote.webelement.WebElement (session=\"7b1498a31ceaad9d5acb67493de0ef8a\", element=\"da1de8c8-c2b1-4644-9b48-392770f2146c\")>, <selenium.webdriver.remote.webelement.WebElement (session=\"7b1498a31ceaad9d5acb67493de0ef8a\", element=\"5015ff2e-1b57-474e-8b14-b799d467cfa9\")>, <selenium.webdriver.remote.webelement.WebElement (session=\"7b1498a31ceaad9d5acb67493de0ef8a\", element=\"1ccfd8f1-9948-4b7b-81f1-579aab78ed39\")>, <selenium.webdriver.remote.webelement.WebElement (session=\"7b1498a31ceaad9d5acb67493de0ef8a\", element=\"d7793333-21c8-4fa5-a788-f8bf33147c9a\")>, <selenium.webdriver.remote.webelement.WebElement (session=\"7b1498a31ceaad9d5acb67493de0ef8a\", element=\"703ef03b-b0ed-4241-9b91-9001984d65dd\")>, <selenium.webdriver.remote.webelement.WebElement (session=\"7b1498a31ceaad9d5acb67493de0ef8a\", element=\"e9c55aef-fa23-4a77-bbf4-5150e94c1795\")>, <selenium.webdriver.remote.webelement.WebElement (session=\"7b1498a31ceaad9d5acb67493de0ef8a\", element=\"d68bc356-34f2-4461-ac56-51d23c51543b\")>, <selenium.webdriver.remote.webelement.WebElement (session=\"7b1498a31ceaad9d5acb67493de0ef8a\", element=\"ecc9a0e0-678c-4c15-8ee5-3e29d3e19ec4\")>, <selenium.webdriver.remote.webelement.WebElement (session=\"7b1498a31ceaad9d5acb67493de0ef8a\", element=\"c3f990ee-1b34-47e1-8793-8fde98a6d99a\")>, <selenium.webdriver.remote.webelement.WebElement (session=\"7b1498a31ceaad9d5acb67493de0ef8a\", element=\"46e80b55-29dd-42d1-b9f0-0f50f5fe1ce8\")>, <selenium.webdriver.remote.webelement.WebElement (session=\"7b1498a31ceaad9d5acb67493de0ef8a\", element=\"963bc01d-6d45-4648-a6d2-9ac2a0a8adc7\")>, <selenium.webdriver.remote.webelement.WebElement (session=\"7b1498a31ceaad9d5acb67493de0ef8a\", element=\"1980d95e-82f4-41cb-8a58-bc001b624168\")>, <selenium.webdriver.remote.webelement.WebElement (session=\"7b1498a31ceaad9d5acb67493de0ef8a\", element=\"dde7e580-6d3c-46e0-84c8-eef0f3608286\")>, <selenium.webdriver.remote.webelement.WebElement (session=\"7b1498a31ceaad9d5acb67493de0ef8a\", element=\"33a02b4d-e0c4-4dc0-aad6-89d58678067c\")>, <selenium.webdriver.remote.webelement.WebElement (session=\"7b1498a31ceaad9d5acb67493de0ef8a\", element=\"b8bfebe2-0e0a-4737-803c-1da32533c333\")>, <selenium.webdriver.remote.webelement.WebElement (session=\"7b1498a31ceaad9d5acb67493de0ef8a\", element=\"cb3254d4-68b1-4cf1-8f3f-05c764609be0\")>, <selenium.webdriver.remote.webelement.WebElement (session=\"7b1498a31ceaad9d5acb67493de0ef8a\", element=\"7f7500cc-078f-4a00-96c4-17062b5c706f\")>, <selenium.webdriver.remote.webelement.WebElement (session=\"7b1498a31ceaad9d5acb67493de0ef8a\", element=\"114d541c-e18f-4acf-becc-44b528390fbb\")>, <selenium.webdriver.remote.webelement.WebElement (session=\"7b1498a31ceaad9d5acb67493de0ef8a\", element=\"154404f2-d879-4721-b7d3-457b17e4f81e\")>, <selenium.webdriver.remote.webelement.WebElement (session=\"7b1498a31ceaad9d5acb67493de0ef8a\", element=\"5e9d5389-7441-4cbe-a044-c0bf9ccf0b59\")>, <selenium.webdriver.remote.webelement.WebElement (session=\"7b1498a31ceaad9d5acb67493de0ef8a\", element=\"93bde642-03fe-4a94-9620-448d250e3b71\")>, <selenium.webdriver.remote.webelement.WebElement (session=\"7b1498a31ceaad9d5acb67493de0ef8a\", element=\"a6ab72ab-15d6-4165-b53c-548c6ae425c8\")>, <selenium.webdriver.remote.webelement.WebElement (session=\"7b1498a31ceaad9d5acb67493de0ef8a\", element=\"23f2f938-9fe3-4545-b5e7-3d7f33f3900f\")>, <selenium.webdriver.remote.webelement.WebElement (session=\"7b1498a31ceaad9d5acb67493de0ef8a\", element=\"2454abde-bc10-46d9-adc5-6f627c2e9aa8\")>, <selenium.webdriver.remote.webelement.WebElement (session=\"7b1498a31ceaad9d5acb67493de0ef8a\", element=\"71a1a848-87c7-4a15-9e68-27a55437cc58\")>, <selenium.webdriver.remote.webelement.WebElement (session=\"7b1498a31ceaad9d5acb67493de0ef8a\", element=\"1be5f129-9b54-4329-9beb-e537a3d33816\")>, <selenium.webdriver.remote.webelement.WebElement (session=\"7b1498a31ceaad9d5acb67493de0ef8a\", element=\"9a671129-7657-4187-9057-14c2d7d1b7da\")>, <selenium.webdriver.remote.webelement.WebElement (session=\"7b1498a31ceaad9d5acb67493de0ef8a\", element=\"d280c460-0d81-48db-b2eb-2dea4a3131b7\")>, <selenium.webdriver.remote.webelement.WebElement (session=\"7b1498a31ceaad9d5acb67493de0ef8a\", element=\"b8a0d6fe-a9bf-4099-8b44-dc9f69c4243c\")>, <selenium.webdriver.remote.webelement.WebElement (session=\"7b1498a31ceaad9d5acb67493de0ef8a\", element=\"7c1d69cb-9a06-42f9-806b-0cedd1b59d5a\")>, <selenium.webdriver.remote.webelement.WebElement (session=\"7b1498a31ceaad9d5acb67493de0ef8a\", element=\"0812b390-a5b8-4c69-8640-0cb19c992218\")>, <selenium.webdriver.remote.webelement.WebElement (session=\"7b1498a31ceaad9d5acb67493de0ef8a\", element=\"b65754b6-2120-4c36-9df7-807a7d092968\")>, <selenium.webdriver.remote.webelement.WebElement (session=\"7b1498a31ceaad9d5acb67493de0ef8a\", element=\"865c2179-a6b2-44d3-aed2-e15557961584\")>, <selenium.webdriver.remote.webelement.WebElement (session=\"7b1498a31ceaad9d5acb67493de0ef8a\", element=\"d44ea7a9-d0ab-473c-9a13-930bed440e71\")>, <selenium.webdriver.remote.webelement.WebElement (session=\"7b1498a31ceaad9d5acb67493de0ef8a\", element=\"c1db8fdf-f194-4c97-8647-6cd4cfa8a11a\")>, <selenium.webdriver.remote.webelement.WebElement (session=\"7b1498a31ceaad9d5acb67493de0ef8a\", element=\"e442687f-ba86-407e-a611-41cdd979b930\")>, <selenium.webdriver.remote.webelement.WebElement (session=\"7b1498a31ceaad9d5acb67493de0ef8a\", element=\"9d6522c8-aaf6-47de-bccc-c303ce6b71fd\")>, <selenium.webdriver.remote.webelement.WebElement (session=\"7b1498a31ceaad9d5acb67493de0ef8a\", element=\"08074b3a-245c-4481-b57d-ea20ca619b05\")>, <selenium.webdriver.remote.webelement.WebElement (session=\"7b1498a31ceaad9d5acb67493de0ef8a\", element=\"144f8b27-a809-4bfb-a5d3-bb4c5ea684e3\")>, <selenium.webdriver.remote.webelement.WebElement (session=\"7b1498a31ceaad9d5acb67493de0ef8a\", element=\"0c0d56e7-aab8-4dea-b305-9876a7409011\")>, <selenium.webdriver.remote.webelement.WebElement (session=\"7b1498a31ceaad9d5acb67493de0ef8a\", element=\"a6c7997c-50a5-4c52-9cb2-ddb250b70171\")>, <selenium.webdriver.remote.webelement.WebElement (session=\"7b1498a31ceaad9d5acb67493de0ef8a\", element=\"5396ba76-0522-4c3e-ad66-a36dab253e0a\")>, <selenium.webdriver.remote.webelement.WebElement (session=\"7b1498a31ceaad9d5acb67493de0ef8a\", element=\"c4af226b-e99b-4269-bd1c-a11476fa2af2\")>, <selenium.webdriver.remote.webelement.WebElement (session=\"7b1498a31ceaad9d5acb67493de0ef8a\", element=\"4771ee70-c202-4994-b247-78bd05f0215e\")>, <selenium.webdriver.remote.webelement.WebElement (session=\"7b1498a31ceaad9d5acb67493de0ef8a\", element=\"ece7a3e0-0374-46fe-bccc-0913d591e92f\")>, <selenium.webdriver.remote.webelement.WebElement (session=\"7b1498a31ceaad9d5acb67493de0ef8a\", element=\"1cd85436-c15a-42cc-80e5-7d48277b6560\")>, <selenium.webdriver.remote.webelement.WebElement (session=\"7b1498a31ceaad9d5acb67493de0ef8a\", element=\"a7e33bac-a8a6-42e7-bfb6-532a6634c6d3\")>, <selenium.webdriver.remote.webelement.WebElement (session=\"7b1498a31ceaad9d5acb67493de0ef8a\", element=\"eca1c333-63d1-4c96-ad12-28f592b6d0cc\")>, <selenium.webdriver.remote.webelement.WebElement (session=\"7b1498a31ceaad9d5acb67493de0ef8a\", element=\"88651bec-91c9-4b71-9712-19acafd04ebf\")>, <selenium.webdriver.remote.webelement.WebElement (session=\"7b1498a31ceaad9d5acb67493de0ef8a\", element=\"e8276ae7-444f-4c84-b004-5b671c8767fb\")>, <selenium.webdriver.remote.webelement.WebElement (session=\"7b1498a31ceaad9d5acb67493de0ef8a\", element=\"681c4e69-f68d-40fa-a3e8-0be207cd3faa\")>, <selenium.webdriver.remote.webelement.WebElement (session=\"7b1498a31ceaad9d5acb67493de0ef8a\", element=\"44992915-ae39-4efb-8de6-831465a22e4a\")>, <selenium.webdriver.remote.webelement.WebElement (session=\"7b1498a31ceaad9d5acb67493de0ef8a\", element=\"b83ab2a4-3deb-4840-811d-9f17f60088bb\")>, <selenium.webdriver.remote.webelement.WebElement (session=\"7b1498a31ceaad9d5acb67493de0ef8a\", element=\"93f73af7-ca94-4628-bb52-41ec2871ddd1\")>, <selenium.webdriver.remote.webelement.WebElement (session=\"7b1498a31ceaad9d5acb67493de0ef8a\", element=\"05530625-182d-49b0-8e7b-5f0bab8046cd\")>, <selenium.webdriver.remote.webelement.WebElement (session=\"7b1498a31ceaad9d5acb67493de0ef8a\", element=\"df64978e-b676-429e-90f7-cd2f37e30300\")>, <selenium.webdriver.remote.webelement.WebElement (session=\"7b1498a31ceaad9d5acb67493de0ef8a\", element=\"7804814e-6c7a-46a1-8a03-13a6a0987d79\")>, <selenium.webdriver.remote.webelement.WebElement (session=\"7b1498a31ceaad9d5acb67493de0ef8a\", element=\"d608afff-24ee-4bdf-8567-039ff5f9fe8e\")>, <selenium.webdriver.remote.webelement.WebElement (session=\"7b1498a31ceaad9d5acb67493de0ef8a\", element=\"85cce35a-dca5-4613-a11b-d80efce0265f\")>, <selenium.webdriver.remote.webelement.WebElement (session=\"7b1498a31ceaad9d5acb67493de0ef8a\", element=\"7aeff779-f6da-4298-9e34-b472f1812765\")>, <selenium.webdriver.remote.webelement.WebElement (session=\"7b1498a31ceaad9d5acb67493de0ef8a\", element=\"c77ef9bb-0b49-4467-9871-0f60a12e5b4d\")>, <selenium.webdriver.remote.webelement.WebElement (session=\"7b1498a31ceaad9d5acb67493de0ef8a\", element=\"2d60f106-447e-4eb3-a7fb-c4ed1ea49eb9\")>, <selenium.webdriver.remote.webelement.WebElement (session=\"7b1498a31ceaad9d5acb67493de0ef8a\", element=\"1ea87eea-7eb3-406b-bb95-5799f000dd8b\")>, <selenium.webdriver.remote.webelement.WebElement (session=\"7b1498a31ceaad9d5acb67493de0ef8a\", element=\"3316e99c-0e9d-4aea-99cd-5d44b11607e2\")>, <selenium.webdriver.remote.webelement.WebElement (session=\"7b1498a31ceaad9d5acb67493de0ef8a\", element=\"9cc4d09b-14c7-4b7e-b3eb-336d324c89fa\")>, <selenium.webdriver.remote.webelement.WebElement (session=\"7b1498a31ceaad9d5acb67493de0ef8a\", element=\"d5066034-38b3-4ca2-a774-20ebb2ef97b5\")>, <selenium.webdriver.remote.webelement.WebElement (session=\"7b1498a31ceaad9d5acb67493de0ef8a\", element=\"50cf3750-c044-4f1e-8c35-4f5ec7e96c5c\")>, <selenium.webdriver.remote.webelement.WebElement (session=\"7b1498a31ceaad9d5acb67493de0ef8a\", element=\"e332b190-2432-40e8-be4e-1818d3ce9fda\")>, <selenium.webdriver.remote.webelement.WebElement (session=\"7b1498a31ceaad9d5acb67493de0ef8a\", element=\"9239b1c1-d37a-457b-a853-d2628d1b8aeb\")>, <selenium.webdriver.remote.webelement.WebElement (session=\"7b1498a31ceaad9d5acb67493de0ef8a\", element=\"f2fc88bb-9dd0-497c-a7b3-74526e117284\")>, <selenium.webdriver.remote.webelement.WebElement (session=\"7b1498a31ceaad9d5acb67493de0ef8a\", element=\"53206888-c9c7-465c-8e0e-8edc47ec6b09\")>, <selenium.webdriver.remote.webelement.WebElement (session=\"7b1498a31ceaad9d5acb67493de0ef8a\", element=\"daa16094-bbf8-4289-8129-caa8126828fe\")>, <selenium.webdriver.remote.webelement.WebElement (session=\"7b1498a31ceaad9d5acb67493de0ef8a\", element=\"87512c1c-ec0d-4431-99dc-14af4a49f572\")>, <selenium.webdriver.remote.webelement.WebElement (session=\"7b1498a31ceaad9d5acb67493de0ef8a\", element=\"4bd8d57f-e1de-4726-a29c-6c647a10d351\")>, <selenium.webdriver.remote.webelement.WebElement (session=\"7b1498a31ceaad9d5acb67493de0ef8a\", element=\"647b0771-ef32-4718-a32d-dc190f12d27a\")>, <selenium.webdriver.remote.webelement.WebElement (session=\"7b1498a31ceaad9d5acb67493de0ef8a\", element=\"0327774d-29bc-4f70-903a-72d73d5ab6af\")>, <selenium.webdriver.remote.webelement.WebElement (session=\"7b1498a31ceaad9d5acb67493de0ef8a\", element=\"5916f9b0-3c8b-423a-b4da-7459a78788e9\")>, <selenium.webdriver.remote.webelement.WebElement (session=\"7b1498a31ceaad9d5acb67493de0ef8a\", element=\"90a447fb-7d44-4f4f-8005-c7a90463c44b\")>, <selenium.webdriver.remote.webelement.WebElement (session=\"7b1498a31ceaad9d5acb67493de0ef8a\", element=\"a855bff9-5af1-433f-ac07-56721938789c\")>, <selenium.webdriver.remote.webelement.WebElement (session=\"7b1498a31ceaad9d5acb67493de0ef8a\", element=\"54bc6c61-992a-4632-a4b6-25cb71dfe562\")>, <selenium.webdriver.remote.webelement.WebElement (session=\"7b1498a31ceaad9d5acb67493de0ef8a\", element=\"02076341-1ebd-49a4-a275-8ff2cafdf6a7\")>, <selenium.webdriver.remote.webelement.WebElement (session=\"7b1498a31ceaad9d5acb67493de0ef8a\", element=\"40e928a9-3d1d-460b-8277-65102b8de4d0\")>, <selenium.webdriver.remote.webelement.WebElement (session=\"7b1498a31ceaad9d5acb67493de0ef8a\", element=\"08da2a3d-1967-4bdc-8640-cb9bf697c309\")>, <selenium.webdriver.remote.webelement.WebElement (session=\"7b1498a31ceaad9d5acb67493de0ef8a\", element=\"3baa1463-2025-43a7-bdae-43dda00c02eb\")>, <selenium.webdriver.remote.webelement.WebElement (session=\"7b1498a31ceaad9d5acb67493de0ef8a\", element=\"0a91a6f0-9481-4b51-8781-515fbbf1e557\")>, <selenium.webdriver.remote.webelement.WebElement (session=\"7b1498a31ceaad9d5acb67493de0ef8a\", element=\"c15e1d2d-1d01-4fdd-96c6-67c502445ccf\")>, <selenium.webdriver.remote.webelement.WebElement (session=\"7b1498a31ceaad9d5acb67493de0ef8a\", element=\"72e221f4-b739-4729-a426-a01c200569ad\")>, <selenium.webdriver.remote.webelement.WebElement (session=\"7b1498a31ceaad9d5acb67493de0ef8a\", element=\"d41c6666-9e15-4f72-85b0-f08dc2232ae9\")>, <selenium.webdriver.remote.webelement.WebElement (session=\"7b1498a31ceaad9d5acb67493de0ef8a\", element=\"869e3ae0-0732-4fdc-abc6-75eedc296fe8\")>, <selenium.webdriver.remote.webelement.WebElement (session=\"7b1498a31ceaad9d5acb67493de0ef8a\", element=\"8d11651a-b9a5-4129-b204-2616878f5696\")>, <selenium.webdriver.remote.webelement.WebElement (session=\"7b1498a31ceaad9d5acb67493de0ef8a\", element=\"4db795f7-641a-434d-8916-fde485c26210\")>, <selenium.webdriver.remote.webelement.WebElement (session=\"7b1498a31ceaad9d5acb67493de0ef8a\", element=\"0eb8cf8d-e4f9-4927-a788-49bcde605894\")>, <selenium.webdriver.remote.webelement.WebElement (session=\"7b1498a31ceaad9d5acb67493de0ef8a\", element=\"1867f3a3-33ef-4254-907a-316394a51cd0\")>, <selenium.webdriver.remote.webelement.WebElement (session=\"7b1498a31ceaad9d5acb67493de0ef8a\", element=\"8737bab0-c1d7-440a-ab33-262b812223bb\")>, <selenium.webdriver.remote.webelement.WebElement (session=\"7b1498a31ceaad9d5acb67493de0ef8a\", element=\"de889f90-4a9a-4499-9ed6-6be4e52a6182\")>, <selenium.webdriver.remote.webelement.WebElement (session=\"7b1498a31ceaad9d5acb67493de0ef8a\", element=\"d0ccf9e5-feba-46a7-8589-d4e26880af03\")>, <selenium.webdriver.remote.webelement.WebElement (session=\"7b1498a31ceaad9d5acb67493de0ef8a\", element=\"0edf08b1-ee08-4816-a84a-43f0abb3d123\")>, <selenium.webdriver.remote.webelement.WebElement (session=\"7b1498a31ceaad9d5acb67493de0ef8a\", element=\"e3b1a233-5333-49a3-8261-a8e85f577bb9\")>, <selenium.webdriver.remote.webelement.WebElement (session=\"7b1498a31ceaad9d5acb67493de0ef8a\", element=\"d79ca19b-8b35-414a-9feb-95c6d6b3eacf\")>, <selenium.webdriver.remote.webelement.WebElement (session=\"7b1498a31ceaad9d5acb67493de0ef8a\", element=\"543a5e68-e445-4d81-b031-78f95630edd3\")>, <selenium.webdriver.remote.webelement.WebElement (session=\"7b1498a31ceaad9d5acb67493de0ef8a\", element=\"5e9bcac3-b631-4265-a964-c62e816e1966\")>, <selenium.webdriver.remote.webelement.WebElement (session=\"7b1498a31ceaad9d5acb67493de0ef8a\", element=\"022b545d-0c60-4efd-918d-1e7b17026007\")>, <selenium.webdriver.remote.webelement.WebElement (session=\"7b1498a31ceaad9d5acb67493de0ef8a\", element=\"89259abe-6bc8-4780-b663-571e805e6ae4\")>, <selenium.webdriver.remote.webelement.WebElement (session=\"7b1498a31ceaad9d5acb67493de0ef8a\", element=\"9c82b06d-ca8f-45d3-b46c-8a3127d1afe1\")>, <selenium.webdriver.remote.webelement.WebElement (session=\"7b1498a31ceaad9d5acb67493de0ef8a\", element=\"177be847-c615-4843-8997-615f0d2af9aa\")>, <selenium.webdriver.remote.webelement.WebElement (session=\"7b1498a31ceaad9d5acb67493de0ef8a\", element=\"c38516dd-b1c7-42c0-935f-cb443833ce36\")>, <selenium.webdriver.remote.webelement.WebElement (session=\"7b1498a31ceaad9d5acb67493de0ef8a\", element=\"b0f4acf9-ce4e-40e5-b4a4-5c96346c252b\")>, <selenium.webdriver.remote.webelement.WebElement (session=\"7b1498a31ceaad9d5acb67493de0ef8a\", element=\"9925e38d-4cbb-4cc7-a8a4-04972cae7519\")>, <selenium.webdriver.remote.webelement.WebElement (session=\"7b1498a31ceaad9d5acb67493de0ef8a\", element=\"2a0ca3fc-e2da-46bd-b101-10f70c308706\")>, <selenium.webdriver.remote.webelement.WebElement (session=\"7b1498a31ceaad9d5acb67493de0ef8a\", element=\"05677b65-23ab-4318-90fb-46c561ce29ff\")>, <selenium.webdriver.remote.webelement.WebElement (session=\"7b1498a31ceaad9d5acb67493de0ef8a\", element=\"79d7b403-1fd0-44fc-a71a-a35d07490c03\")>, <selenium.webdriver.remote.webelement.WebElement (session=\"7b1498a31ceaad9d5acb67493de0ef8a\", element=\"55e67055-8ff5-42c0-9a5d-87fc1684d4b5\")>, <selenium.webdriver.remote.webelement.WebElement (session=\"7b1498a31ceaad9d5acb67493de0ef8a\", element=\"888f251b-cabd-4c1b-9640-dcce3b77412a\")>, <selenium.webdriver.remote.webelement.WebElement (session=\"7b1498a31ceaad9d5acb67493de0ef8a\", element=\"dba69802-477b-4d41-a566-5e54bf4ac58f\")>, <selenium.webdriver.remote.webelement.WebElement (session=\"7b1498a31ceaad9d5acb67493de0ef8a\", element=\"7d7071b8-dc4c-429e-8d99-40adafdcf89a\")>, <selenium.webdriver.remote.webelement.WebElement (session=\"7b1498a31ceaad9d5acb67493de0ef8a\", element=\"628721f8-e8a7-473d-ab8b-f947b4f417e6\")>, <selenium.webdriver.remote.webelement.WebElement (session=\"7b1498a31ceaad9d5acb67493de0ef8a\", element=\"b1e7ef20-2d28-404e-9dd0-f2b1f490bff1\")>, <selenium.webdriver.remote.webelement.WebElement (session=\"7b1498a31ceaad9d5acb67493de0ef8a\", element=\"96cda5c7-32e1-4a80-af65-a53f97f5dc4d\")>, <selenium.webdriver.remote.webelement.WebElement (session=\"7b1498a31ceaad9d5acb67493de0ef8a\", element=\"fb870b52-359b-4459-9589-e30dc3831a8c\")>, <selenium.webdriver.remote.webelement.WebElement (session=\"7b1498a31ceaad9d5acb67493de0ef8a\", element=\"bdbbc760-5513-454f-ad56-fc620b6a238b\")>, <selenium.webdriver.remote.webelement.WebElement (session=\"7b1498a31ceaad9d5acb67493de0ef8a\", element=\"6cd83cd1-8c51-4795-a619-204712098b6d\")>, <selenium.webdriver.remote.webelement.WebElement (session=\"7b1498a31ceaad9d5acb67493de0ef8a\", element=\"a780c393-c583-4a41-94bf-e9bd05f7a1bb\")>, <selenium.webdriver.remote.webelement.WebElement (session=\"7b1498a31ceaad9d5acb67493de0ef8a\", element=\"12305536-87d3-447b-8a3d-1005e3ed1f8d\")>, <selenium.webdriver.remote.webelement.WebElement (session=\"7b1498a31ceaad9d5acb67493de0ef8a\", element=\"729be19c-9b64-4c0c-abc6-bfeb04113dbd\")>, <selenium.webdriver.remote.webelement.WebElement (session=\"7b1498a31ceaad9d5acb67493de0ef8a\", element=\"ba30aa73-e969-4042-a480-65c0cd2296aa\")>, <selenium.webdriver.remote.webelement.WebElement (session=\"7b1498a31ceaad9d5acb67493de0ef8a\", element=\"eb002cea-af74-4095-9c5d-d3cbe0da3df3\")>, <selenium.webdriver.remote.webelement.WebElement (session=\"7b1498a31ceaad9d5acb67493de0ef8a\", element=\"29c8b4f4-df38-4a5a-b156-5953f2cb06bd\")>, <selenium.webdriver.remote.webelement.WebElement (session=\"7b1498a31ceaad9d5acb67493de0ef8a\", element=\"2e5c759f-9d2a-4667-86bf-fee1f911b537\")>, <selenium.webdriver.remote.webelement.WebElement (session=\"7b1498a31ceaad9d5acb67493de0ef8a\", element=\"9ea41ac2-32d2-4e55-99bd-07cf4e58f4a6\")>, <selenium.webdriver.remote.webelement.WebElement (session=\"7b1498a31ceaad9d5acb67493de0ef8a\", element=\"54a16a3f-76f7-47cd-9711-44c172b1ab7f\")>, <selenium.webdriver.remote.webelement.WebElement (session=\"7b1498a31ceaad9d5acb67493de0ef8a\", element=\"87c366ff-f853-4a7c-b06d-9ae8a099f3a8\")>, <selenium.webdriver.remote.webelement.WebElement (session=\"7b1498a31ceaad9d5acb67493de0ef8a\", element=\"4f11c615-8ab1-41ba-b957-0e23660b326b\")>, <selenium.webdriver.remote.webelement.WebElement (session=\"7b1498a31ceaad9d5acb67493de0ef8a\", element=\"41438919-37e6-4d24-ae4f-a260ce1b8d3b\")>, <selenium.webdriver.remote.webelement.WebElement (session=\"7b1498a31ceaad9d5acb67493de0ef8a\", element=\"3cc6b4de-2f30-41af-8410-9d7945cc13d2\")>, <selenium.webdriver.remote.webelement.WebElement (session=\"7b1498a31ceaad9d5acb67493de0ef8a\", element=\"114f9c18-c506-450e-83fb-056478ef6db8\")>, <selenium.webdriver.remote.webelement.WebElement (session=\"7b1498a31ceaad9d5acb67493de0ef8a\", element=\"e016d0e3-cb1f-4007-9b5d-e3920fbc4f46\")>, <selenium.webdriver.remote.webelement.WebElement (session=\"7b1498a31ceaad9d5acb67493de0ef8a\", element=\"c681f423-b88a-4645-913e-d7af7440700d\")>, <selenium.webdriver.remote.webelement.WebElement (session=\"7b1498a31ceaad9d5acb67493de0ef8a\", element=\"a9d79647-7c88-4190-8072-2240f7eff6ba\")>, <selenium.webdriver.remote.webelement.WebElement (session=\"7b1498a31ceaad9d5acb67493de0ef8a\", element=\"d830e521-d6d4-4cec-bff8-ee3dd7afbfa4\")>, <selenium.webdriver.remote.webelement.WebElement (session=\"7b1498a31ceaad9d5acb67493de0ef8a\", element=\"f813c52b-b3a3-482f-a17c-3b571cdfaa75\")>, <selenium.webdriver.remote.webelement.WebElement (session=\"7b1498a31ceaad9d5acb67493de0ef8a\", element=\"e5519af7-56b6-448b-837b-132b1ed92e2f\")>, <selenium.webdriver.remote.webelement.WebElement (session=\"7b1498a31ceaad9d5acb67493de0ef8a\", element=\"d82e98b0-601b-41e0-8140-61acdadfe49c\")>, <selenium.webdriver.remote.webelement.WebElement (session=\"7b1498a31ceaad9d5acb67493de0ef8a\", element=\"b4a83ca5-3426-42a3-aa70-7d2a16c96db6\")>, <selenium.webdriver.remote.webelement.WebElement (session=\"7b1498a31ceaad9d5acb67493de0ef8a\", element=\"5ad0ba15-63ba-4ae1-bffa-a27ed3e0fbce\")>, <selenium.webdriver.remote.webelement.WebElement (session=\"7b1498a31ceaad9d5acb67493de0ef8a\", element=\"de5a1c2a-a63f-42d6-978c-d1588a7558b2\")>, <selenium.webdriver.remote.webelement.WebElement (session=\"7b1498a31ceaad9d5acb67493de0ef8a\", element=\"fa052405-5f36-4cb1-831f-76f798c2f667\")>, <selenium.webdriver.remote.webelement.WebElement (session=\"7b1498a31ceaad9d5acb67493de0ef8a\", element=\"9fa853f8-cae3-441f-a4f0-fb5a9d9051a5\")>, <selenium.webdriver.remote.webelement.WebElement (session=\"7b1498a31ceaad9d5acb67493de0ef8a\", element=\"2b1604f8-a635-4650-a490-2a295e810473\")>, <selenium.webdriver.remote.webelement.WebElement (session=\"7b1498a31ceaad9d5acb67493de0ef8a\", element=\"53ade535-b6eb-4bd0-a7d8-196d5365ef44\")>, <selenium.webdriver.remote.webelement.WebElement (session=\"7b1498a31ceaad9d5acb67493de0ef8a\", element=\"f2424662-50b1-4300-93ad-9d0a24ffdd7a\")>, <selenium.webdriver.remote.webelement.WebElement (session=\"7b1498a31ceaad9d5acb67493de0ef8a\", element=\"760eb171-2488-48f6-a2a8-922ccd28e4b8\")>, <selenium.webdriver.remote.webelement.WebElement (session=\"7b1498a31ceaad9d5acb67493de0ef8a\", element=\"54b20940-ee77-4fff-958b-b7bd64712635\")>, <selenium.webdriver.remote.webelement.WebElement (session=\"7b1498a31ceaad9d5acb67493de0ef8a\", element=\"ba85ec72-c7c9-4c9c-9d27-91e1d6334edb\")>, <selenium.webdriver.remote.webelement.WebElement (session=\"7b1498a31ceaad9d5acb67493de0ef8a\", element=\"2d744a14-cff7-4339-a305-ec2ab11b072c\")>, <selenium.webdriver.remote.webelement.WebElement (session=\"7b1498a31ceaad9d5acb67493de0ef8a\", element=\"241d23b7-da68-4c77-8914-bfda538f17ec\")>, <selenium.webdriver.remote.webelement.WebElement (session=\"7b1498a31ceaad9d5acb67493de0ef8a\", element=\"1e325b86-aacb-413b-8457-9be9581a7d1e\")>, <selenium.webdriver.remote.webelement.WebElement (session=\"7b1498a31ceaad9d5acb67493de0ef8a\", element=\"d1cc370d-8d59-4145-b492-3b91c25874a4\")>, <selenium.webdriver.remote.webelement.WebElement (session=\"7b1498a31ceaad9d5acb67493de0ef8a\", element=\"90986fb9-b977-41f1-9e63-59e390857741\")>, <selenium.webdriver.remote.webelement.WebElement (session=\"7b1498a31ceaad9d5acb67493de0ef8a\", element=\"5503f442-08e2-400d-8092-c781d625bd6c\")>, <selenium.webdriver.remote.webelement.WebElement (session=\"7b1498a31ceaad9d5acb67493de0ef8a\", element=\"f03f03e9-1aea-4d80-98d9-1b4bd1b2c041\")>, <selenium.webdriver.remote.webelement.WebElement (session=\"7b1498a31ceaad9d5acb67493de0ef8a\", element=\"3f706fc9-b73b-4c8c-8bfa-531294a55c77\")>, <selenium.webdriver.remote.webelement.WebElement (session=\"7b1498a31ceaad9d5acb67493de0ef8a\", element=\"cb5c7635-54f8-48c5-9dd2-cd65dafb497a\")>, <selenium.webdriver.remote.webelement.WebElement (session=\"7b1498a31ceaad9d5acb67493de0ef8a\", element=\"47667600-5bc8-4b7f-ae29-0fc179cd1008\")>, <selenium.webdriver.remote.webelement.WebElement (session=\"7b1498a31ceaad9d5acb67493de0ef8a\", element=\"0b6efc8d-0a32-43ea-b9d3-57ded30941d2\")>, <selenium.webdriver.remote.webelement.WebElement (session=\"7b1498a31ceaad9d5acb67493de0ef8a\", element=\"44c5955d-bcc3-4dcf-8a65-8b68dd74906d\")>, <selenium.webdriver.remote.webelement.WebElement (session=\"7b1498a31ceaad9d5acb67493de0ef8a\", element=\"18969bcc-1e7b-4814-b1bb-996dc32a725e\")>, <selenium.webdriver.remote.webelement.WebElement (session=\"7b1498a31ceaad9d5acb67493de0ef8a\", element=\"4aca25ec-1671-4ff2-8bd7-e82a6e77d9fe\")>, <selenium.webdriver.remote.webelement.WebElement (session=\"7b1498a31ceaad9d5acb67493de0ef8a\", element=\"465336f8-66f7-45ba-9571-8bfe940d4628\")>, <selenium.webdriver.remote.webelement.WebElement (session=\"7b1498a31ceaad9d5acb67493de0ef8a\", element=\"d7ad782d-9825-4012-9d96-15b375545093\")>, <selenium.webdriver.remote.webelement.WebElement (session=\"7b1498a31ceaad9d5acb67493de0ef8a\", element=\"9f034fe6-4bee-4114-958c-53406a076d6e\")>, <selenium.webdriver.remote.webelement.WebElement (session=\"7b1498a31ceaad9d5acb67493de0ef8a\", element=\"eb6d4a58-a313-408a-9f8c-4fb007a2f69d\")>, <selenium.webdriver.remote.webelement.WebElement (session=\"7b1498a31ceaad9d5acb67493de0ef8a\", element=\"d3d487cb-49e1-4765-90f1-07254866bc00\")>, <selenium.webdriver.remote.webelement.WebElement (session=\"7b1498a31ceaad9d5acb67493de0ef8a\", element=\"53a275fb-c8b2-4cf7-b547-c49b7ab501d6\")>, <selenium.webdriver.remote.webelement.WebElement (session=\"7b1498a31ceaad9d5acb67493de0ef8a\", element=\"b33467e5-c449-4e6c-b5ea-14a9df5aa668\")>, <selenium.webdriver.remote.webelement.WebElement (session=\"7b1498a31ceaad9d5acb67493de0ef8a\", element=\"2a1e74a9-7fc7-4cad-9ee3-ca652c8ce874\")>, <selenium.webdriver.remote.webelement.WebElement (session=\"7b1498a31ceaad9d5acb67493de0ef8a\", element=\"4bba1099-39e4-4b73-b34d-9a0242b6977c\")>, <selenium.webdriver.remote.webelement.WebElement (session=\"7b1498a31ceaad9d5acb67493de0ef8a\", element=\"c1f8479b-f0c8-42c4-bf87-c854cb2cd48a\")>, <selenium.webdriver.remote.webelement.WebElement (session=\"7b1498a31ceaad9d5acb67493de0ef8a\", element=\"1a86c42e-d389-4ca4-bddc-fec0dc0a225e\")>, <selenium.webdriver.remote.webelement.WebElement (session=\"7b1498a31ceaad9d5acb67493de0ef8a\", element=\"41ad7322-f9e6-49c5-b2f4-94366a69626b\")>, <selenium.webdriver.remote.webelement.WebElement (session=\"7b1498a31ceaad9d5acb67493de0ef8a\", element=\"80c39d3a-0f5b-4a62-8f6d-1d50ab978f23\")>, <selenium.webdriver.remote.webelement.WebElement (session=\"7b1498a31ceaad9d5acb67493de0ef8a\", element=\"8eb4cee6-aa75-4a67-b7b7-56e322fd005e\")>, <selenium.webdriver.remote.webelement.WebElement (session=\"7b1498a31ceaad9d5acb67493de0ef8a\", element=\"75f17486-2525-416f-8dd9-e2d23429136a\")>, <selenium.webdriver.remote.webelement.WebElement (session=\"7b1498a31ceaad9d5acb67493de0ef8a\", element=\"639f092e-0863-41d6-83b9-0d15f73ed9ee\")>, <selenium.webdriver.remote.webelement.WebElement (session=\"7b1498a31ceaad9d5acb67493de0ef8a\", element=\"8d03d561-4595-4b5a-9541-d399b8cd7b2d\")>, <selenium.webdriver.remote.webelement.WebElement (session=\"7b1498a31ceaad9d5acb67493de0ef8a\", element=\"18861698-0fc6-47aa-b2d6-2baf6d342a46\")>, <selenium.webdriver.remote.webelement.WebElement (session=\"7b1498a31ceaad9d5acb67493de0ef8a\", element=\"120eda71-e374-4b04-9bfe-7c0538bdbf90\")>, <selenium.webdriver.remote.webelement.WebElement (session=\"7b1498a31ceaad9d5acb67493de0ef8a\", element=\"79aceccf-7f79-410e-b6f2-242013503348\")>, <selenium.webdriver.remote.webelement.WebElement (session=\"7b1498a31ceaad9d5acb67493de0ef8a\", element=\"f2e81536-6ad5-43ed-b0e1-af3c027053e9\")>, <selenium.webdriver.remote.webelement.WebElement (session=\"7b1498a31ceaad9d5acb67493de0ef8a\", element=\"a338a2d7-2c31-4838-a917-d34bc97b2e37\")>, <selenium.webdriver.remote.webelement.WebElement (session=\"7b1498a31ceaad9d5acb67493de0ef8a\", element=\"7860a2b4-ac6e-45d2-b414-6d09232f40c5\")>, <selenium.webdriver.remote.webelement.WebElement (session=\"7b1498a31ceaad9d5acb67493de0ef8a\", element=\"a12e20bc-67dd-44cb-ad48-7f7bb83f69f4\")>, <selenium.webdriver.remote.webelement.WebElement (session=\"7b1498a31ceaad9d5acb67493de0ef8a\", element=\"7a53b7fe-25b3-4a3f-be18-986b6515ba46\")>, <selenium.webdriver.remote.webelement.WebElement (session=\"7b1498a31ceaad9d5acb67493de0ef8a\", element=\"2b6ca353-9340-485b-b186-616409723e46\")>, <selenium.webdriver.remote.webelement.WebElement (session=\"7b1498a31ceaad9d5acb67493de0ef8a\", element=\"8d2a0309-4e8a-47f3-b975-f6312a20d9c1\")>, <selenium.webdriver.remote.webelement.WebElement (session=\"7b1498a31ceaad9d5acb67493de0ef8a\", element=\"18f594f3-e4c3-4afe-9360-1019c90c2b81\")>, <selenium.webdriver.remote.webelement.WebElement (session=\"7b1498a31ceaad9d5acb67493de0ef8a\", element=\"714ff372-e623-4218-9894-0f952c648d90\")>, <selenium.webdriver.remote.webelement.WebElement (session=\"7b1498a31ceaad9d5acb67493de0ef8a\", element=\"4c188ac0-f97c-41ef-936f-35c800cdd49d\")>, <selenium.webdriver.remote.webelement.WebElement (session=\"7b1498a31ceaad9d5acb67493de0ef8a\", element=\"1e140e50-3277-49ee-934e-be9aeda0fd8f\")>, <selenium.webdriver.remote.webelement.WebElement (session=\"7b1498a31ceaad9d5acb67493de0ef8a\", element=\"54e1c904-cbe8-481b-bf29-bfe8d553dec4\")>, <selenium.webdriver.remote.webelement.WebElement (session=\"7b1498a31ceaad9d5acb67493de0ef8a\", element=\"a7a970ab-7fe6-4038-b8c5-c35bcf053422\")>, <selenium.webdriver.remote.webelement.WebElement (session=\"7b1498a31ceaad9d5acb67493de0ef8a\", element=\"49c7b928-7173-4b2e-a463-4eb22c2bba26\")>, <selenium.webdriver.remote.webelement.WebElement (session=\"7b1498a31ceaad9d5acb67493de0ef8a\", element=\"9de5d0b9-a3d8-4db2-b657-75f593c59cb0\")>, <selenium.webdriver.remote.webelement.WebElement (session=\"7b1498a31ceaad9d5acb67493de0ef8a\", element=\"81bdde84-a677-4686-ae72-f0f289dfa0bc\")>, <selenium.webdriver.remote.webelement.WebElement (session=\"7b1498a31ceaad9d5acb67493de0ef8a\", element=\"632f4070-b5cd-4d43-86ed-5b7bcf4df53b\")>, <selenium.webdriver.remote.webelement.WebElement (session=\"7b1498a31ceaad9d5acb67493de0ef8a\", element=\"9ead5b00-c5c1-4673-98f2-63e92f444f41\")>, <selenium.webdriver.remote.webelement.WebElement (session=\"7b1498a31ceaad9d5acb67493de0ef8a\", element=\"4e312640-a565-496c-91dc-56a4b9a02c3e\")>, <selenium.webdriver.remote.webelement.WebElement (session=\"7b1498a31ceaad9d5acb67493de0ef8a\", element=\"b8de2782-67e0-4e1e-abbc-2ac80ae7dbc9\")>, <selenium.webdriver.remote.webelement.WebElement (session=\"7b1498a31ceaad9d5acb67493de0ef8a\", element=\"d0679fa0-c606-4774-8f35-1366a425c96c\")>, <selenium.webdriver.remote.webelement.WebElement (session=\"7b1498a31ceaad9d5acb67493de0ef8a\", element=\"7f58c0d1-12b9-4c0c-86df-4adb645be6e3\")>, <selenium.webdriver.remote.webelement.WebElement (session=\"7b1498a31ceaad9d5acb67493de0ef8a\", element=\"8e2b2150-fe42-4262-919d-99a2cd70a7e6\")>, <selenium.webdriver.remote.webelement.WebElement (session=\"7b1498a31ceaad9d5acb67493de0ef8a\", element=\"746232b1-3ad6-48e4-9aee-64de4370b925\")>, <selenium.webdriver.remote.webelement.WebElement (session=\"7b1498a31ceaad9d5acb67493de0ef8a\", element=\"6a7c7fc1-49a0-4652-a4b2-589ae59e4d09\")>, <selenium.webdriver.remote.webelement.WebElement (session=\"7b1498a31ceaad9d5acb67493de0ef8a\", element=\"7d663260-08d5-4487-89d4-0682889447ec\")>, <selenium.webdriver.remote.webelement.WebElement (session=\"7b1498a31ceaad9d5acb67493de0ef8a\", element=\"29ea51ad-b271-44b8-9e44-34c5673a79d0\")>, <selenium.webdriver.remote.webelement.WebElement (session=\"7b1498a31ceaad9d5acb67493de0ef8a\", element=\"1384bd85-9520-491e-b943-25329eaa75b5\")>, <selenium.webdriver.remote.webelement.WebElement (session=\"7b1498a31ceaad9d5acb67493de0ef8a\", element=\"d45d0814-eba5-4e56-b5bf-f15f6453446a\")>, <selenium.webdriver.remote.webelement.WebElement (session=\"7b1498a31ceaad9d5acb67493de0ef8a\", element=\"eb4fb10b-b792-4748-9227-07b8d3188f77\")>, <selenium.webdriver.remote.webelement.WebElement (session=\"7b1498a31ceaad9d5acb67493de0ef8a\", element=\"0dd0f500-97d7-4adb-9268-7268c4e0b8c5\")>, <selenium.webdriver.remote.webelement.WebElement (session=\"7b1498a31ceaad9d5acb67493de0ef8a\", element=\"740d351f-1c0c-4d04-a95f-ec8047c8b351\")>, <selenium.webdriver.remote.webelement.WebElement (session=\"7b1498a31ceaad9d5acb67493de0ef8a\", element=\"6aab2771-7b26-4d27-9e82-6a5e23cc6b59\")>, <selenium.webdriver.remote.webelement.WebElement (session=\"7b1498a31ceaad9d5acb67493de0ef8a\", element=\"c2b3e78b-63d7-46cf-b441-4c2b75c61ff4\")>, <selenium.webdriver.remote.webelement.WebElement (session=\"7b1498a31ceaad9d5acb67493de0ef8a\", element=\"643c5146-6a1c-4f1b-9d64-cc04bfcb6d52\")>, <selenium.webdriver.remote.webelement.WebElement (session=\"7b1498a31ceaad9d5acb67493de0ef8a\", element=\"984cc420-d8e8-49ca-ae8b-7c8c4a19ca43\")>, <selenium.webdriver.remote.webelement.WebElement (session=\"7b1498a31ceaad9d5acb67493de0ef8a\", element=\"422f227a-ebf2-47f6-aa75-c30c1e6ec625\")>, <selenium.webdriver.remote.webelement.WebElement (session=\"7b1498a31ceaad9d5acb67493de0ef8a\", element=\"3b792dec-9fe0-4640-a467-398124381ac2\")>, <selenium.webdriver.remote.webelement.WebElement (session=\"7b1498a31ceaad9d5acb67493de0ef8a\", element=\"fa0e688a-4e1a-489e-9dd8-7f072bed98fd\")>, <selenium.webdriver.remote.webelement.WebElement (session=\"7b1498a31ceaad9d5acb67493de0ef8a\", element=\"a9d97bd8-f23d-4ae9-a19c-fc830f611775\")>, <selenium.webdriver.remote.webelement.WebElement (session=\"7b1498a31ceaad9d5acb67493de0ef8a\", element=\"93a550d8-ad01-4101-9da7-0b78066c1646\")>, <selenium.webdriver.remote.webelement.WebElement (session=\"7b1498a31ceaad9d5acb67493de0ef8a\", element=\"37e4bde5-315d-4ba5-a9cd-7d91eeb2bc94\")>, <selenium.webdriver.remote.webelement.WebElement (session=\"7b1498a31ceaad9d5acb67493de0ef8a\", element=\"fcc63911-b163-4b19-b962-29b8b8ee0ac8\")>, <selenium.webdriver.remote.webelement.WebElement (session=\"7b1498a31ceaad9d5acb67493de0ef8a\", element=\"1a9379c3-2da8-4935-9ac1-ba7a99d08717\")>, <selenium.webdriver.remote.webelement.WebElement (session=\"7b1498a31ceaad9d5acb67493de0ef8a\", element=\"164dcf7c-6eff-4bf4-be69-246cb619e621\")>, <selenium.webdriver.remote.webelement.WebElement (session=\"7b1498a31ceaad9d5acb67493de0ef8a\", element=\"28ae45f6-e114-4369-b517-55e8faa6a636\")>, <selenium.webdriver.remote.webelement.WebElement (session=\"7b1498a31ceaad9d5acb67493de0ef8a\", element=\"20f847e8-563c-4da9-aba0-7874466d6fee\")>, <selenium.webdriver.remote.webelement.WebElement (session=\"7b1498a31ceaad9d5acb67493de0ef8a\", element=\"8ce8e318-6675-48ad-b088-839422f80259\")>, <selenium.webdriver.remote.webelement.WebElement (session=\"7b1498a31ceaad9d5acb67493de0ef8a\", element=\"d8bb7e29-e38b-4c5a-b946-3ce3c18bdd16\")>, <selenium.webdriver.remote.webelement.WebElement (session=\"7b1498a31ceaad9d5acb67493de0ef8a\", element=\"ef41f532-15b6-4277-b085-eb4642b8b081\")>, <selenium.webdriver.remote.webelement.WebElement (session=\"7b1498a31ceaad9d5acb67493de0ef8a\", element=\"d91ef1da-c4b3-4d3b-9f9b-da987d090518\")>, <selenium.webdriver.remote.webelement.WebElement (session=\"7b1498a31ceaad9d5acb67493de0ef8a\", element=\"8a69cf56-5278-44c0-8bbd-5840f6dfa0ae\")>, <selenium.webdriver.remote.webelement.WebElement (session=\"7b1498a31ceaad9d5acb67493de0ef8a\", element=\"3601320b-ab5b-45f6-96d5-c8d8d194bf82\")>, <selenium.webdriver.remote.webelement.WebElement (session=\"7b1498a31ceaad9d5acb67493de0ef8a\", element=\"202e9c2e-f4c2-434c-8b84-9d489be6c4ca\")>, <selenium.webdriver.remote.webelement.WebElement (session=\"7b1498a31ceaad9d5acb67493de0ef8a\", element=\"b8c7a624-4419-4b49-9dce-2a5d23622829\")>, <selenium.webdriver.remote.webelement.WebElement (session=\"7b1498a31ceaad9d5acb67493de0ef8a\", element=\"c27bfcd4-1423-4abc-b24d-f1a1d82fbd0a\")>, <selenium.webdriver.remote.webelement.WebElement (session=\"7b1498a31ceaad9d5acb67493de0ef8a\", element=\"460e4f46-3cea-497a-8b6e-a612ef1821e8\")>, <selenium.webdriver.remote.webelement.WebElement (session=\"7b1498a31ceaad9d5acb67493de0ef8a\", element=\"71b35232-adca-4f02-a096-5ea7c208ddda\")>, <selenium.webdriver.remote.webelement.WebElement (session=\"7b1498a31ceaad9d5acb67493de0ef8a\", element=\"34af4326-7675-4d32-b450-d04211248f33\")>, <selenium.webdriver.remote.webelement.WebElement (session=\"7b1498a31ceaad9d5acb67493de0ef8a\", element=\"5e570d1d-95b4-4215-86f4-9383777d9b2d\")>, <selenium.webdriver.remote.webelement.WebElement (session=\"7b1498a31ceaad9d5acb67493de0ef8a\", element=\"940dc9ca-d8f9-4419-ab07-9e31d0d1e9d5\")>, <selenium.webdriver.remote.webelement.WebElement (session=\"7b1498a31ceaad9d5acb67493de0ef8a\", element=\"bea58db9-a9e5-40af-bec4-aa42d3f90534\")>, <selenium.webdriver.remote.webelement.WebElement (session=\"7b1498a31ceaad9d5acb67493de0ef8a\", element=\"f6af52ac-ce38-4875-a108-75f1395574f5\")>, <selenium.webdriver.remote.webelement.WebElement (session=\"7b1498a31ceaad9d5acb67493de0ef8a\", element=\"dcc74a79-315d-4564-8552-aa0cd329bc1d\")>, <selenium.webdriver.remote.webelement.WebElement (session=\"7b1498a31ceaad9d5acb67493de0ef8a\", element=\"bfb8091d-731d-4e38-bbed-11acca4f6bdc\")>, <selenium.webdriver.remote.webelement.WebElement (session=\"7b1498a31ceaad9d5acb67493de0ef8a\", element=\"e5c230cf-d8dc-4507-8cb9-a56b888a0d73\")>, <selenium.webdriver.remote.webelement.WebElement (session=\"7b1498a31ceaad9d5acb67493de0ef8a\", element=\"599ad9c9-89e3-4700-9a2d-dd24a27c6689\")>, <selenium.webdriver.remote.webelement.WebElement (session=\"7b1498a31ceaad9d5acb67493de0ef8a\", element=\"f6d55183-504d-48ad-846b-60c480957dd0\")>, <selenium.webdriver.remote.webelement.WebElement (session=\"7b1498a31ceaad9d5acb67493de0ef8a\", element=\"88ab8c21-443e-428a-84d9-5cc3172fcca1\")>, <selenium.webdriver.remote.webelement.WebElement (session=\"7b1498a31ceaad9d5acb67493de0ef8a\", element=\"7e2d6a0b-3961-4fe6-932f-4e16ab7ccd1c\")>, <selenium.webdriver.remote.webelement.WebElement (session=\"7b1498a31ceaad9d5acb67493de0ef8a\", element=\"91f26cf2-f0d0-4c7b-ab7a-9527bfd7eaf6\")>, <selenium.webdriver.remote.webelement.WebElement (session=\"7b1498a31ceaad9d5acb67493de0ef8a\", element=\"2ed437b2-fd7a-4e13-bd2d-dc66aaff5e5b\")>, <selenium.webdriver.remote.webelement.WebElement (session=\"7b1498a31ceaad9d5acb67493de0ef8a\", element=\"60783e3b-ebb3-423c-9819-9082e3a13969\")>, <selenium.webdriver.remote.webelement.WebElement (session=\"7b1498a31ceaad9d5acb67493de0ef8a\", element=\"b4470665-c28a-4861-9b22-c0fc4f91b237\")>, <selenium.webdriver.remote.webelement.WebElement (session=\"7b1498a31ceaad9d5acb67493de0ef8a\", element=\"3e924bf4-752a-4aec-998d-340604f9af2c\")>, <selenium.webdriver.remote.webelement.WebElement (session=\"7b1498a31ceaad9d5acb67493de0ef8a\", element=\"f5fd9a3d-201f-414a-9f7a-1e82098738c1\")>, <selenium.webdriver.remote.webelement.WebElement (session=\"7b1498a31ceaad9d5acb67493de0ef8a\", element=\"dc963f42-97bd-4e76-aae8-d6c714c9c989\")>, <selenium.webdriver.remote.webelement.WebElement (session=\"7b1498a31ceaad9d5acb67493de0ef8a\", element=\"df6533c3-9df5-41a5-b195-a7112c03074e\")>, <selenium.webdriver.remote.webelement.WebElement (session=\"7b1498a31ceaad9d5acb67493de0ef8a\", element=\"60ebaba4-ee46-487e-b9ae-ea111f3c4554\")>, <selenium.webdriver.remote.webelement.WebElement (session=\"7b1498a31ceaad9d5acb67493de0ef8a\", element=\"a16681bf-44ba-40dd-a8bb-c9df5018df12\")>, <selenium.webdriver.remote.webelement.WebElement (session=\"7b1498a31ceaad9d5acb67493de0ef8a\", element=\"81961ce9-052c-4918-9e98-ac5c23d48553\")>, <selenium.webdriver.remote.webelement.WebElement (session=\"7b1498a31ceaad9d5acb67493de0ef8a\", element=\"46c6266a-3fdf-4938-9be6-4de189c30957\")>, <selenium.webdriver.remote.webelement.WebElement (session=\"7b1498a31ceaad9d5acb67493de0ef8a\", element=\"0e6bc429-4a01-4999-9c59-ce454b8e6f1d\")>, <selenium.webdriver.remote.webelement.WebElement (session=\"7b1498a31ceaad9d5acb67493de0ef8a\", element=\"602fd9cd-8d67-43ba-91d7-f593f924a4fa\")>, <selenium.webdriver.remote.webelement.WebElement (session=\"7b1498a31ceaad9d5acb67493de0ef8a\", element=\"3e0446ae-76d7-439b-8381-728a9c19d778\")>, <selenium.webdriver.remote.webelement.WebElement (session=\"7b1498a31ceaad9d5acb67493de0ef8a\", element=\"98687d37-be6f-471b-90b6-56a63ce91f8f\")>, <selenium.webdriver.remote.webelement.WebElement (session=\"7b1498a31ceaad9d5acb67493de0ef8a\", element=\"7b5cd746-977d-4fd6-b30f-743eb19b4918\")>, <selenium.webdriver.remote.webelement.WebElement (session=\"7b1498a31ceaad9d5acb67493de0ef8a\", element=\"3929266f-a568-44d1-8e3b-e4e85bac95fe\")>, <selenium.webdriver.remote.webelement.WebElement (session=\"7b1498a31ceaad9d5acb67493de0ef8a\", element=\"bd7660b5-d551-4623-b2be-614ac25e3e4e\")>, <selenium.webdriver.remote.webelement.WebElement (session=\"7b1498a31ceaad9d5acb67493de0ef8a\", element=\"d0248359-16f4-406a-b8da-94666a16d6fb\")>, <selenium.webdriver.remote.webelement.WebElement (session=\"7b1498a31ceaad9d5acb67493de0ef8a\", element=\"47279322-e5de-4d62-a691-6d5650f93297\")>, <selenium.webdriver.remote.webelement.WebElement (session=\"7b1498a31ceaad9d5acb67493de0ef8a\", element=\"44c96c4b-d0bb-4c28-a6b0-453f4ca7e833\")>, <selenium.webdriver.remote.webelement.WebElement (session=\"7b1498a31ceaad9d5acb67493de0ef8a\", element=\"323a34d0-d4fe-4464-b730-cba14c320833\")>, <selenium.webdriver.remote.webelement.WebElement (session=\"7b1498a31ceaad9d5acb67493de0ef8a\", element=\"9fdf20ac-41cc-4e78-8024-0a66917e0b4f\")>, <selenium.webdriver.remote.webelement.WebElement (session=\"7b1498a31ceaad9d5acb67493de0ef8a\", element=\"183f9411-afb5-4681-acc0-c0ed0e4b5f83\")>, <selenium.webdriver.remote.webelement.WebElement (session=\"7b1498a31ceaad9d5acb67493de0ef8a\", element=\"4b893d0f-c67d-42f6-ae92-cc9154ebd94f\")>, <selenium.webdriver.remote.webelement.WebElement (session=\"7b1498a31ceaad9d5acb67493de0ef8a\", element=\"4a008cc9-487b-4b6f-93d2-df674ace51b8\")>, <selenium.webdriver.remote.webelement.WebElement (session=\"7b1498a31ceaad9d5acb67493de0ef8a\", element=\"9b51bcff-f417-4d1d-a0f7-314c915272b6\")>, <selenium.webdriver.remote.webelement.WebElement (session=\"7b1498a31ceaad9d5acb67493de0ef8a\", element=\"62ca8a25-c628-454a-9330-c91727ba518f\")>, <selenium.webdriver.remote.webelement.WebElement (session=\"7b1498a31ceaad9d5acb67493de0ef8a\", element=\"c59268f2-a3ef-4d51-b4d1-d5adbb28a3ce\")>, <selenium.webdriver.remote.webelement.WebElement (session=\"7b1498a31ceaad9d5acb67493de0ef8a\", element=\"33967fb0-0dd1-47fb-988d-7e0bedae45be\")>, <selenium.webdriver.remote.webelement.WebElement (session=\"7b1498a31ceaad9d5acb67493de0ef8a\", element=\"79de475b-bf0c-4a12-9a4f-433d0950d60d\")>, <selenium.webdriver.remote.webelement.WebElement (session=\"7b1498a31ceaad9d5acb67493de0ef8a\", element=\"e3596669-361d-44dd-b54b-3ccb5f842fc5\")>, <selenium.webdriver.remote.webelement.WebElement (session=\"7b1498a31ceaad9d5acb67493de0ef8a\", element=\"98c91c27-b2ce-4651-91fb-15872d65bf3b\")>, <selenium.webdriver.remote.webelement.WebElement (session=\"7b1498a31ceaad9d5acb67493de0ef8a\", element=\"dc31fd86-37ae-4989-8b9a-a0303f431305\")>, <selenium.webdriver.remote.webelement.WebElement (session=\"7b1498a31ceaad9d5acb67493de0ef8a\", element=\"78ed3438-5143-4437-af83-843a0d111fa3\")>, <selenium.webdriver.remote.webelement.WebElement (session=\"7b1498a31ceaad9d5acb67493de0ef8a\", element=\"66eb7972-a342-41cc-8ce7-2f685a9f0cbf\")>, <selenium.webdriver.remote.webelement.WebElement (session=\"7b1498a31ceaad9d5acb67493de0ef8a\", element=\"8556fe49-4379-443c-b8c9-52175642d527\")>, <selenium.webdriver.remote.webelement.WebElement (session=\"7b1498a31ceaad9d5acb67493de0ef8a\", element=\"3383be96-c96e-4ab9-92f1-c07875d16862\")>, <selenium.webdriver.remote.webelement.WebElement (session=\"7b1498a31ceaad9d5acb67493de0ef8a\", element=\"752f20e1-35d1-453d-8c1e-b95a350534cf\")>, <selenium.webdriver.remote.webelement.WebElement (session=\"7b1498a31ceaad9d5acb67493de0ef8a\", element=\"ec9e4e27-808c-47bd-bd3a-226bd1d4502e\")>, <selenium.webdriver.remote.webelement.WebElement (session=\"7b1498a31ceaad9d5acb67493de0ef8a\", element=\"5e4ccb78-4465-480c-a971-f894380871df\")>, <selenium.webdriver.remote.webelement.WebElement (session=\"7b1498a31ceaad9d5acb67493de0ef8a\", element=\"91e1164f-2642-49e3-b5cc-296ecd156d58\")>, <selenium.webdriver.remote.webelement.WebElement (session=\"7b1498a31ceaad9d5acb67493de0ef8a\", element=\"43de3b55-6d9f-4d5b-9169-b383db00c1bb\")>, <selenium.webdriver.remote.webelement.WebElement (session=\"7b1498a31ceaad9d5acb67493de0ef8a\", element=\"93c0ab29-1017-4a9e-9a2a-a62d5b58cb31\")>, <selenium.webdriver.remote.webelement.WebElement (session=\"7b1498a31ceaad9d5acb67493de0ef8a\", element=\"e9d8bbb3-4dd4-4049-894e-86bf9d5c4843\")>, <selenium.webdriver.remote.webelement.WebElement (session=\"7b1498a31ceaad9d5acb67493de0ef8a\", element=\"cce5db17-3884-415c-a42e-a6fb8e266c1a\")>, <selenium.webdriver.remote.webelement.WebElement (session=\"7b1498a31ceaad9d5acb67493de0ef8a\", element=\"8087d106-a4a2-4b10-87c4-eeefc65c93b5\")>, <selenium.webdriver.remote.webelement.WebElement (session=\"7b1498a31ceaad9d5acb67493de0ef8a\", element=\"31bda0b5-4d9b-47c4-995a-69d8ebebebd3\")>, <selenium.webdriver.remote.webelement.WebElement (session=\"7b1498a31ceaad9d5acb67493de0ef8a\", element=\"2de5e266-97ba-4760-bf3a-b08f6c008134\")>, <selenium.webdriver.remote.webelement.WebElement (session=\"7b1498a31ceaad9d5acb67493de0ef8a\", element=\"c24a97ca-a4b9-4bf4-8c70-8995d55a6ab3\")>, <selenium.webdriver.remote.webelement.WebElement (session=\"7b1498a31ceaad9d5acb67493de0ef8a\", element=\"4fa3b5d6-9efa-41de-8bfd-a54c6f09eaf6\")>, <selenium.webdriver.remote.webelement.WebElement (session=\"7b1498a31ceaad9d5acb67493de0ef8a\", element=\"949a09af-9787-4647-a608-2afac430371e\")>, <selenium.webdriver.remote.webelement.WebElement (session=\"7b1498a31ceaad9d5acb67493de0ef8a\", element=\"b55ecb9a-d0a6-45fa-8d28-558b03286eb1\")>, <selenium.webdriver.remote.webelement.WebElement (session=\"7b1498a31ceaad9d5acb67493de0ef8a\", element=\"c063fa12-e30e-45ce-ad77-49545cee2c6e\")>, <selenium.webdriver.remote.webelement.WebElement (session=\"7b1498a31ceaad9d5acb67493de0ef8a\", element=\"db35c5f8-79be-4c0b-9379-75cdd23b01c1\")>, <selenium.webdriver.remote.webelement.WebElement (session=\"7b1498a31ceaad9d5acb67493de0ef8a\", element=\"b7b4ae98-29ed-45b2-a628-cdf4dd93398a\")>, <selenium.webdriver.remote.webelement.WebElement (session=\"7b1498a31ceaad9d5acb67493de0ef8a\", element=\"edbee6f4-4e71-4b3b-9e1f-c3e65e9180da\")>, <selenium.webdriver.remote.webelement.WebElement (session=\"7b1498a31ceaad9d5acb67493de0ef8a\", element=\"5237feed-feb6-432a-8551-821f3bd6df89\")>, <selenium.webdriver.remote.webelement.WebElement (session=\"7b1498a31ceaad9d5acb67493de0ef8a\", element=\"89364565-3752-40f2-9bb6-f773c949459c\")>, <selenium.webdriver.remote.webelement.WebElement (session=\"7b1498a31ceaad9d5acb67493de0ef8a\", element=\"08ca8f88-30cf-41c0-8379-651c23110761\")>, <selenium.webdriver.remote.webelement.WebElement (session=\"7b1498a31ceaad9d5acb67493de0ef8a\", element=\"34044ed0-ebc7-445c-ae15-2e05b952942c\")>, <selenium.webdriver.remote.webelement.WebElement (session=\"7b1498a31ceaad9d5acb67493de0ef8a\", element=\"3ebcd92e-8f58-4427-864e-d473e5915766\")>, <selenium.webdriver.remote.webelement.WebElement (session=\"7b1498a31ceaad9d5acb67493de0ef8a\", element=\"c6eae2df-1bbb-487d-9774-223441492c24\")>, <selenium.webdriver.remote.webelement.WebElement (session=\"7b1498a31ceaad9d5acb67493de0ef8a\", element=\"ca89b84b-0a5e-4931-afdb-f2e7c7db66b9\")>, <selenium.webdriver.remote.webelement.WebElement (session=\"7b1498a31ceaad9d5acb67493de0ef8a\", element=\"628d4450-bd91-4e8c-8cf0-f5056a6d2d61\")>, <selenium.webdriver.remote.webelement.WebElement (session=\"7b1498a31ceaad9d5acb67493de0ef8a\", element=\"ad71fd1a-85b7-4447-8854-02209ec21c1a\")>, <selenium.webdriver.remote.webelement.WebElement (session=\"7b1498a31ceaad9d5acb67493de0ef8a\", element=\"d5664766-e075-4c35-8cbd-3fccf320da11\")>, <selenium.webdriver.remote.webelement.WebElement (session=\"7b1498a31ceaad9d5acb67493de0ef8a\", element=\"c2e0038d-0634-4aa2-94a3-6843abd14237\")>, <selenium.webdriver.remote.webelement.WebElement (session=\"7b1498a31ceaad9d5acb67493de0ef8a\", element=\"ede9d437-f20c-49ca-9577-9236beee7f00\")>, <selenium.webdriver.remote.webelement.WebElement (session=\"7b1498a31ceaad9d5acb67493de0ef8a\", element=\"501f3ac1-0a44-4b08-8a6e-c8b60a110707\")>, <selenium.webdriver.remote.webelement.WebElement (session=\"7b1498a31ceaad9d5acb67493de0ef8a\", element=\"8ddcebde-e5be-42f9-afb4-87f9399424da\")>, <selenium.webdriver.remote.webelement.WebElement (session=\"7b1498a31ceaad9d5acb67493de0ef8a\", element=\"a8e4c40f-491c-4eae-8db2-63a345d582e6\")>, <selenium.webdriver.remote.webelement.WebElement (session=\"7b1498a31ceaad9d5acb67493de0ef8a\", element=\"fee8dd37-c1ec-4395-a8fa-077ce1f08498\")>, <selenium.webdriver.remote.webelement.WebElement (session=\"7b1498a31ceaad9d5acb67493de0ef8a\", element=\"ebdfb0c7-6db8-485a-8f0a-0291d20c1974\")>, <selenium.webdriver.remote.webelement.WebElement (session=\"7b1498a31ceaad9d5acb67493de0ef8a\", element=\"91ddb40a-f201-4810-9a06-a7fded91c3fb\")>, <selenium.webdriver.remote.webelement.WebElement (session=\"7b1498a31ceaad9d5acb67493de0ef8a\", element=\"35a14a51-cdd2-4395-b504-0f01c2d27dbf\")>, <selenium.webdriver.remote.webelement.WebElement (session=\"7b1498a31ceaad9d5acb67493de0ef8a\", element=\"295e5766-2b0e-4b1b-b5bd-a4a0575dab60\")>, <selenium.webdriver.remote.webelement.WebElement (session=\"7b1498a31ceaad9d5acb67493de0ef8a\", element=\"f556748f-f1d2-4cc6-a1c4-ae94e03339bf\")>, <selenium.webdriver.remote.webelement.WebElement (session=\"7b1498a31ceaad9d5acb67493de0ef8a\", element=\"2138bc08-7efc-4a94-a9ab-73788873cb38\")>, <selenium.webdriver.remote.webelement.WebElement (session=\"7b1498a31ceaad9d5acb67493de0ef8a\", element=\"141068aa-a74d-4954-81e7-e4076e96a86e\")>, <selenium.webdriver.remote.webelement.WebElement (session=\"7b1498a31ceaad9d5acb67493de0ef8a\", element=\"0f59b009-220d-4a16-b3d5-1bf0e0203653\")>, <selenium.webdriver.remote.webelement.WebElement (session=\"7b1498a31ceaad9d5acb67493de0ef8a\", element=\"6364787c-2139-4f3d-b006-56f31c0f36b1\")>, <selenium.webdriver.remote.webelement.WebElement (session=\"7b1498a31ceaad9d5acb67493de0ef8a\", element=\"2bf4e76d-3db9-4f72-aebf-88952fff86c9\")>, <selenium.webdriver.remote.webelement.WebElement (session=\"7b1498a31ceaad9d5acb67493de0ef8a\", element=\"de6ddef3-7c3a-432c-945f-becf4d658d36\")>, <selenium.webdriver.remote.webelement.WebElement (session=\"7b1498a31ceaad9d5acb67493de0ef8a\", element=\"4cf460c2-2732-4be1-be43-3f2573139b5b\")>, <selenium.webdriver.remote.webelement.WebElement (session=\"7b1498a31ceaad9d5acb67493de0ef8a\", element=\"78f54f1e-a348-468f-bbe8-241a95625535\")>, <selenium.webdriver.remote.webelement.WebElement (session=\"7b1498a31ceaad9d5acb67493de0ef8a\", element=\"e9879979-ec42-4562-803a-5425a94ab22b\")>, <selenium.webdriver.remote.webelement.WebElement (session=\"7b1498a31ceaad9d5acb67493de0ef8a\", element=\"f7031b60-bcca-4297-bd07-bfb60c82b3be\")>, <selenium.webdriver.remote.webelement.WebElement (session=\"7b1498a31ceaad9d5acb67493de0ef8a\", element=\"01c8ee61-4c34-4522-b5b8-58959c60053b\")>, <selenium.webdriver.remote.webelement.WebElement (session=\"7b1498a31ceaad9d5acb67493de0ef8a\", element=\"a253eb69-be22-4fde-a3af-27ea848bdbe0\")>, <selenium.webdriver.remote.webelement.WebElement (session=\"7b1498a31ceaad9d5acb67493de0ef8a\", element=\"4ccc8983-d2cc-49f8-b863-dd84d0dee460\")>, <selenium.webdriver.remote.webelement.WebElement (session=\"7b1498a31ceaad9d5acb67493de0ef8a\", element=\"cd95614d-594d-485d-8950-5be0b09459cc\")>, <selenium.webdriver.remote.webelement.WebElement (session=\"7b1498a31ceaad9d5acb67493de0ef8a\", element=\"dac5d862-086b-4800-9514-58c09a78196f\")>, <selenium.webdriver.remote.webelement.WebElement (session=\"7b1498a31ceaad9d5acb67493de0ef8a\", element=\"a8514175-f878-4562-bda5-cc179bfc722e\")>, <selenium.webdriver.remote.webelement.WebElement (session=\"7b1498a31ceaad9d5acb67493de0ef8a\", element=\"80741870-b3c2-4a45-b166-9a73b081a918\")>, <selenium.webdriver.remote.webelement.WebElement (session=\"7b1498a31ceaad9d5acb67493de0ef8a\", element=\"dfa7b774-7286-4db9-bb96-e6260e6c01e9\")>, <selenium.webdriver.remote.webelement.WebElement (session=\"7b1498a31ceaad9d5acb67493de0ef8a\", element=\"596f94e0-a579-47a7-b955-94f5a1d96549\")>, <selenium.webdriver.remote.webelement.WebElement (session=\"7b1498a31ceaad9d5acb67493de0ef8a\", element=\"e12408d9-3cf0-407c-b5f3-f3d728edfc7e\")>, <selenium.webdriver.remote.webelement.WebElement (session=\"7b1498a31ceaad9d5acb67493de0ef8a\", element=\"079a6399-5067-4579-bc56-6fc368990c4e\")>, <selenium.webdriver.remote.webelement.WebElement (session=\"7b1498a31ceaad9d5acb67493de0ef8a\", element=\"dd193488-230a-4512-abdf-7cda14a38dbb\")>, <selenium.webdriver.remote.webelement.WebElement (session=\"7b1498a31ceaad9d5acb67493de0ef8a\", element=\"7ab76a65-17f4-4f9c-9c2e-bb4466b22132\")>, <selenium.webdriver.remote.webelement.WebElement (session=\"7b1498a31ceaad9d5acb67493de0ef8a\", element=\"de55029a-dd20-429c-b069-ea5d3790001e\")>, <selenium.webdriver.remote.webelement.WebElement (session=\"7b1498a31ceaad9d5acb67493de0ef8a\", element=\"1d21e601-3db1-4bad-9297-0a5977c89134\")>, <selenium.webdriver.remote.webelement.WebElement (session=\"7b1498a31ceaad9d5acb67493de0ef8a\", element=\"3ec38f22-d888-4393-a968-79f656f63d6e\")>, <selenium.webdriver.remote.webelement.WebElement (session=\"7b1498a31ceaad9d5acb67493de0ef8a\", element=\"66b5837b-e30d-4e57-8146-6a5b977dea95\")>, <selenium.webdriver.remote.webelement.WebElement (session=\"7b1498a31ceaad9d5acb67493de0ef8a\", element=\"7750d866-f5ab-4d66-8abe-44410b7bced3\")>, <selenium.webdriver.remote.webelement.WebElement (session=\"7b1498a31ceaad9d5acb67493de0ef8a\", element=\"737ab150-c77d-411e-977c-9833797a6657\")>, <selenium.webdriver.remote.webelement.WebElement (session=\"7b1498a31ceaad9d5acb67493de0ef8a\", element=\"5374e9b5-92b3-486a-ac7c-9e1ebb3f49a5\")>, <selenium.webdriver.remote.webelement.WebElement (session=\"7b1498a31ceaad9d5acb67493de0ef8a\", element=\"f28e487f-e5b6-4c0e-8368-99388140bb7b\")>, <selenium.webdriver.remote.webelement.WebElement (session=\"7b1498a31ceaad9d5acb67493de0ef8a\", element=\"11826a6a-d32b-408f-8db6-0ffa54257402\")>, <selenium.webdriver.remote.webelement.WebElement (session=\"7b1498a31ceaad9d5acb67493de0ef8a\", element=\"7840e412-e032-40f2-af2b-26f80568cf85\")>, <selenium.webdriver.remote.webelement.WebElement (session=\"7b1498a31ceaad9d5acb67493de0ef8a\", element=\"96ca4636-a0f8-49bc-a126-be3cb0599b41\")>, <selenium.webdriver.remote.webelement.WebElement (session=\"7b1498a31ceaad9d5acb67493de0ef8a\", element=\"4930e2ae-8c79-4116-8afe-ef298587f137\")>, <selenium.webdriver.remote.webelement.WebElement (session=\"7b1498a31ceaad9d5acb67493de0ef8a\", element=\"b37edaff-35c4-4df9-b1c5-42265e808f43\")>, <selenium.webdriver.remote.webelement.WebElement (session=\"7b1498a31ceaad9d5acb67493de0ef8a\", element=\"d21d8f4b-f3df-4619-9f47-3b7701d575f0\")>, <selenium.webdriver.remote.webelement.WebElement (session=\"7b1498a31ceaad9d5acb67493de0ef8a\", element=\"6dabd7a7-d495-438f-ace9-27e172235273\")>, <selenium.webdriver.remote.webelement.WebElement (session=\"7b1498a31ceaad9d5acb67493de0ef8a\", element=\"eae7b1be-6519-4e82-ac7e-292a4435e9fb\")>, <selenium.webdriver.remote.webelement.WebElement (session=\"7b1498a31ceaad9d5acb67493de0ef8a\", element=\"a2a851e9-8869-4e88-8ffb-80342f78f9f7\")>, <selenium.webdriver.remote.webelement.WebElement (session=\"7b1498a31ceaad9d5acb67493de0ef8a\", element=\"67d85d2d-7e36-4793-9098-f6fd3e977b99\")>, <selenium.webdriver.remote.webelement.WebElement (session=\"7b1498a31ceaad9d5acb67493de0ef8a\", element=\"691e4b24-5f84-4308-b742-410319f3862c\")>, <selenium.webdriver.remote.webelement.WebElement (session=\"7b1498a31ceaad9d5acb67493de0ef8a\", element=\"1d32557e-9dd3-4a57-bcec-8bea83ce136d\")>, <selenium.webdriver.remote.webelement.WebElement (session=\"7b1498a31ceaad9d5acb67493de0ef8a\", element=\"79aaf095-9619-4b8b-8c74-81b4ad0e1845\")>, <selenium.webdriver.remote.webelement.WebElement (session=\"7b1498a31ceaad9d5acb67493de0ef8a\", element=\"44e9aa44-241e-49e1-bbe3-838e0889cced\")>, <selenium.webdriver.remote.webelement.WebElement (session=\"7b1498a31ceaad9d5acb67493de0ef8a\", element=\"766fd05d-9ec3-429a-9aa7-48a4a67b910a\")>, <selenium.webdriver.remote.webelement.WebElement (session=\"7b1498a31ceaad9d5acb67493de0ef8a\", element=\"ae269bd1-8851-4e38-9f19-a9dc9c8a011f\")>, <selenium.webdriver.remote.webelement.WebElement (session=\"7b1498a31ceaad9d5acb67493de0ef8a\", element=\"f58c8e93-309b-4073-9276-76ee371b59f2\")>, <selenium.webdriver.remote.webelement.WebElement (session=\"7b1498a31ceaad9d5acb67493de0ef8a\", element=\"f7f56ad4-aa78-4708-bbca-69d72195b76c\")>, <selenium.webdriver.remote.webelement.WebElement (session=\"7b1498a31ceaad9d5acb67493de0ef8a\", element=\"60a269e9-d398-4a15-b3f1-f2018be089b6\")>, <selenium.webdriver.remote.webelement.WebElement (session=\"7b1498a31ceaad9d5acb67493de0ef8a\", element=\"9fb17b68-ee50-42e5-9b1b-0d483b74c60b\")>, <selenium.webdriver.remote.webelement.WebElement (session=\"7b1498a31ceaad9d5acb67493de0ef8a\", element=\"dee601da-83e2-4ae4-994a-7807bc38e526\")>, <selenium.webdriver.remote.webelement.WebElement (session=\"7b1498a31ceaad9d5acb67493de0ef8a\", element=\"61ade864-35c9-4818-80f0-4e943d06c478\")>, <selenium.webdriver.remote.webelement.WebElement (session=\"7b1498a31ceaad9d5acb67493de0ef8a\", element=\"8fb04e83-9f17-4f95-844f-d8da215882c2\")>, <selenium.webdriver.remote.webelement.WebElement (session=\"7b1498a31ceaad9d5acb67493de0ef8a\", element=\"e21889bf-1261-48dc-8e1d-367e94e963b2\")>, <selenium.webdriver.remote.webelement.WebElement (session=\"7b1498a31ceaad9d5acb67493de0ef8a\", element=\"16527af8-d7f7-4cd3-8f71-1909b124d018\")>, <selenium.webdriver.remote.webelement.WebElement (session=\"7b1498a31ceaad9d5acb67493de0ef8a\", element=\"2446f6cb-08ce-4f80-9199-36596d7867c3\")>, <selenium.webdriver.remote.webelement.WebElement (session=\"7b1498a31ceaad9d5acb67493de0ef8a\", element=\"d524ab47-06c1-49f8-a300-22b88feabc63\")>, <selenium.webdriver.remote.webelement.WebElement (session=\"7b1498a31ceaad9d5acb67493de0ef8a\", element=\"c3850d54-b9b2-48b3-a845-bfb320454682\")>, <selenium.webdriver.remote.webelement.WebElement (session=\"7b1498a31ceaad9d5acb67493de0ef8a\", element=\"78107ea0-f751-4e4b-9b8f-6f224ed06c7c\")>, <selenium.webdriver.remote.webelement.WebElement (session=\"7b1498a31ceaad9d5acb67493de0ef8a\", element=\"b3586a99-e772-452a-8f3b-fd87adfd3601\")>, <selenium.webdriver.remote.webelement.WebElement (session=\"7b1498a31ceaad9d5acb67493de0ef8a\", element=\"30c599db-67a0-432b-83ff-d3563a84da7b\")>, <selenium.webdriver.remote.webelement.WebElement (session=\"7b1498a31ceaad9d5acb67493de0ef8a\", element=\"6698b307-7d2a-4ab8-b1f9-27513e2324c2\")>, <selenium.webdriver.remote.webelement.WebElement (session=\"7b1498a31ceaad9d5acb67493de0ef8a\", element=\"fb1b11fc-9397-4409-be45-b5487f74361e\")>, <selenium.webdriver.remote.webelement.WebElement (session=\"7b1498a31ceaad9d5acb67493de0ef8a\", element=\"b4328db2-ba2c-4486-881e-90bd3464f7b7\")>, <selenium.webdriver.remote.webelement.WebElement (session=\"7b1498a31ceaad9d5acb67493de0ef8a\", element=\"ceb91e1a-7e1c-4c4e-9b4f-5df0236b075c\")>, <selenium.webdriver.remote.webelement.WebElement (session=\"7b1498a31ceaad9d5acb67493de0ef8a\", element=\"a4d0e81c-fc8c-49cb-ad9e-3e8812a5f744\")>]\n"
     ]
    }
   ],
   "source": [
    "sel_a_all = driver.find_elements_by_tag_name(\"a\")\n",
    "print(sel_a_all)\n",
    "# all_links = []\n",
    "# for i in sel_a_all:\n",
    "#     one_link = i.get_attribute(\"href\")\n",
    "#     all_links.append(one_link)\n",
    "# print(all_links)"
   ]
  },
  {
   "cell_type": "code",
   "execution_count": 78,
   "metadata": {},
   "outputs": [],
   "source": [
    "url = 'https://www.amazon.com/gp/slredirect/picassoRedirect.html/ref=pa_sp_atf_aps_sr_pg1_1?ie=UTF8&adId=A0870194129TKFEDZ8MAO&url=%2FHeadphones-Bluetooth-Reduction-Microphone-Compatible%2Fdp%2FB095RHGZKB%2Fref%3Dsr_1_1_sspa%3Fdchild%3D1%26keywords%3Dearphones%26qid%3D1624238959%26sr%3D8-1-spons%26psc%3D1&qualifier=1624238959&id=4455813896748011&widgetName=sp_atf'\n",
    "driver.get(url)"
   ]
  },
  {
   "cell_type": "code",
   "execution_count": 79,
   "metadata": {},
   "outputs": [],
   "source": [
    "import time\n",
    "time.sleep(3)"
   ]
  },
  {
   "cell_type": "code",
   "execution_count": 80,
   "metadata": {},
   "outputs": [],
   "source": [
    "#//*[@id=\"acrCustomerReviewText\"] 리뷰버튼클릭 후 리뷰보기\n",
    "sel_rate=driver.find_element_by_xpath('//*[@id=\"acrCustomerReviewText\"]')\n",
    "sel_rate.click()\n"
   ]
  },
  {
   "cell_type": "code",
   "execution_count": 81,
   "metadata": {},
   "outputs": [],
   "source": [
    "sel_all_review = driver.find_element_by_xpath('//*[@id=\"reviews-medley-footer\"]/div[2]/a')\n",
    "sel_all_review.click()"
   ]
  },
  {
   "cell_type": "code",
   "execution_count": 82,
   "metadata": {},
   "outputs": [
    {
     "data": {
      "text/plain": [
       "<title>Amazon.com: Customer reviews: Earbuds Earphone,Wired in-Ear Headphones with Bluetooth,Noise Reduction Function with Built-in Microphone and Volume Control Compatible with iPhone12/ 12 Pro/11/11 Pro/XR/XS Max/X /8 Plus (2 Pack)</title>"
      ]
     },
     "execution_count": 82,
     "metadata": {},
     "output_type": "execute_result"
    }
   ],
   "source": [
    "page=driver.page_source\n",
    "soup=BeautifulSoup(page,\"html.parser\")\n",
    "soup.title"
   ]
  },
  {
   "cell_type": "code",
   "execution_count": 83,
   "metadata": {},
   "outputs": [
    {
     "data": {
      "text/plain": [
       "10"
      ]
     },
     "execution_count": 83,
     "metadata": {},
     "output_type": "execute_result"
    }
   ],
   "source": [
    "all_r = soup.find_all(\"span\", class_=\"a-size-base review-text review-text-content\")\n",
    "len(all_r)"
   ]
  },
  {
   "cell_type": "code",
   "execution_count": 84,
   "metadata": {},
   "outputs": [
    {
     "name": "stdout",
     "output_type": "stream",
     "text": [
      "  We made hot chocolate bombs. Love the size and how the mold peels right off the chocolate without breaking it! Kids had a blast! Would recommend!\n",
      "  Ok I was skeptical and watched so many videos to not mess up the process. Turns out that I believe what's important is the quality of chocolate you use. Anything that stays solid at room temperature and is semi gourmet is perfect! Candy bars not so much as they melt while handling. Stuffed full with baby marshmallows and hot chocolate nesquick mix and some brown sugar. My boys loved the rich bombs made in milk. The balls are large and perfect size to fit in a big mug. I stored ours in the fridge.We also painted on two layers of chocolate and cooled in the fridge after each layer. Areas to be careful with are the bomb edges that seal as well as the bottom center, i ended up with a couple holes. No harm done still tasty just not pretty. Yes i recommend it and yes i would buy it again.\n",
      "  I love how easy these are to use!! Great for beginners!!\n",
      "  These were so easy to use. Easy to clean as well. The chocolate popped right out once set. I think this is a great price and value. My first time making hot cocoa bombs was a success because of these molds. There are so many to choose from on Amazon but I think I made the right choice for sure!\n",
      "  The mold was the perfect size for a hot chocolate bomb! I read so many reviews before purchasing trying to get something that would be the right size, delivered quickly, & was easy to use. This mold was all of the above. As some mentioned, it is thin, buy that allows for easy removal of the molded item. It does also make it a little flattened on the ends because of that, so we used a cookie sheet underneath to help as it was so flexible and also put some bunched up parchment paper underneath to help take the pressure off of it sitting on the flat surface and it worked great. Kind of a pain to have to do that, but if the mold was harder it would make getting the stuff out of the molds harder. I am very happy with these molds and would purchase them again.\n",
      "  This product shipped fast and arrived on time. Good quality and makes an over 2\" hot cocoa bomb.Very happy with this purchase. I bought 2 sets of 3 !! Easy to clean, easy to use.\n",
      "  Too flimsy, received a refund. A $10 gift card is offered for a five star review!\n",
      "  Great product!  Worked well!  Update The product works fine...nothing extraordinary, but I only wrote this review because they promised a Amazon gift card but never delivered on it...so I'm giving it 1 star because they lied and didn't fulfill their promise.  That is all.\n",
      "  First time making chocolate bombs and while the first one didn’t turn out great because my hands were too warm, the silicone molds made it very easy to remove!  These spheres are 2.5 inches in diameter and are the perfect size for chocolate bombs! Also very easy to wash - just put them in the dishwasher!  I didn’t have any silicone smell after I put it in the dishwasher as soon as I got it.\n",
      "  Unlike other seller which never delivered, after 2 weeks we ordered from them.  Super fast delivery even during Christmas! The mold worked great for the cocoa bomb even my 8 year old was able to make them.  Very happy!\n"
     ]
    },
    {
     "data": {
      "text/plain": [
       "['  We made hot chocolate bombs. Love the size and how the mold peels right off the chocolate without breaking it! Kids had a blast! Would recommend!',\n",
       " \"  Ok I was skeptical and watched so many videos to not mess up the process. Turns out that I believe what's important is the quality of chocolate you use. Anything that stays solid at room temperature and is semi gourmet is perfect! Candy bars not so much as they melt while handling. Stuffed full with baby marshmallows and hot chocolate nesquick mix and some brown sugar. My boys loved the rich bombs made in milk. The balls are large and perfect size to fit in a big mug. I stored ours in the fridge.We also painted on two layers of chocolate and cooled in the fridge after each layer. Areas to be careful with are the bomb edges that seal as well as the bottom center, i ended up with a couple holes. No harm done still tasty just not pretty. Yes i recommend it and yes i would buy it again.\",\n",
       " '  I love how easy these are to use!! Great for beginners!!',\n",
       " '  These were so easy to use. Easy to clean as well. The chocolate popped right out once set. I think this is a great price and value. My first time making hot cocoa bombs was a success because of these molds. There are so many to choose from on Amazon but I think I made the right choice for sure!',\n",
       " '  The mold was the perfect size for a hot chocolate bomb! I read so many reviews before purchasing trying to get something that would be the right size, delivered quickly, & was easy to use. This mold was all of the above. As some mentioned, it is thin, buy that allows for easy removal of the molded item. It does also make it a little flattened on the ends because of that, so we used a cookie sheet underneath to help as it was so flexible and also put some bunched up parchment paper underneath to help take the pressure off of it sitting on the flat surface and it worked great. Kind of a pain to have to do that, but if the mold was harder it would make getting the stuff out of the molds harder. I am very happy with these molds and would purchase them again.',\n",
       " '  This product shipped fast and arrived on time. Good quality and makes an over 2\" hot cocoa bomb.Very happy with this purchase. I bought 2 sets of 3 !! Easy to clean, easy to use.',\n",
       " '  Too flimsy, received a refund. A $10 gift card is offered for a five star review!',\n",
       " \"  Great product!  Worked well!  Update The product works fine...nothing extraordinary, but I only wrote this review because they promised a Amazon gift card but never delivered on it...so I'm giving it 1 star because they lied and didn't fulfill their promise.  That is all.\",\n",
       " '  First time making chocolate bombs and while the first one didn’t turn out great because my hands were too warm, the silicone molds made it very easy to remove!  These spheres are 2.5 inches in diameter and are the perfect size for chocolate bombs! Also very easy to wash - just put them in the dishwasher!  I didn’t have any silicone smell after I put it in the dishwasher as soon as I got it.',\n",
       " '  Unlike other seller which never delivered, after 2 weeks we ordered from them.  Super fast delivery even during Christmas! The mold worked great for the cocoa bomb even my 8 year old was able to make them.  Very happy!']"
      ]
     },
     "execution_count": 84,
     "metadata": {},
     "output_type": "execute_result"
    }
   ],
   "source": [
    "all_review = []\n",
    "for one in all_r:\n",
    "    # print(one.text)\n",
    "    tmp = one.text\n",
    "    review = tmp.replace(\"\\n\", \"\")\n",
    "    print(review)\n",
    "    all_review.append(review)\n",
    "all_review"
   ]
  },
  {
   "cell_type": "code",
   "execution_count": 85,
   "metadata": {},
   "outputs": [],
   "source": [
    "import pandas as pd"
   ]
  },
  {
   "cell_type": "code",
   "execution_count": 86,
   "metadata": {},
   "outputs": [
    {
     "data": {
      "text/html": [
       "<div>\n",
       "<style scoped>\n",
       "    .dataframe tbody tr th:only-of-type {\n",
       "        vertical-align: middle;\n",
       "    }\n",
       "\n",
       "    .dataframe tbody tr th {\n",
       "        vertical-align: top;\n",
       "    }\n",
       "\n",
       "    .dataframe thead th {\n",
       "        text-align: right;\n",
       "    }\n",
       "</style>\n",
       "<table border=\"1\" class=\"dataframe\">\n",
       "  <thead>\n",
       "    <tr style=\"text-align: right;\">\n",
       "      <th></th>\n",
       "      <th>review</th>\n",
       "    </tr>\n",
       "  </thead>\n",
       "  <tbody>\n",
       "    <tr>\n",
       "      <th>0</th>\n",
       "      <td>We made hot chocolate bombs. Love the size a...</td>\n",
       "    </tr>\n",
       "    <tr>\n",
       "      <th>1</th>\n",
       "      <td>Ok I was skeptical and watched so many video...</td>\n",
       "    </tr>\n",
       "    <tr>\n",
       "      <th>2</th>\n",
       "      <td>I love how easy these are to use!! Great for...</td>\n",
       "    </tr>\n",
       "    <tr>\n",
       "      <th>3</th>\n",
       "      <td>These were so easy to use. Easy to clean as ...</td>\n",
       "    </tr>\n",
       "    <tr>\n",
       "      <th>4</th>\n",
       "      <td>The mold was the perfect size for a hot choc...</td>\n",
       "    </tr>\n",
       "    <tr>\n",
       "      <th>5</th>\n",
       "      <td>This product shipped fast and arrived on tim...</td>\n",
       "    </tr>\n",
       "    <tr>\n",
       "      <th>6</th>\n",
       "      <td>Too flimsy, received a refund. A $10 gift ca...</td>\n",
       "    </tr>\n",
       "    <tr>\n",
       "      <th>7</th>\n",
       "      <td>Great product!  Worked well!  Update The pro...</td>\n",
       "    </tr>\n",
       "    <tr>\n",
       "      <th>8</th>\n",
       "      <td>First time making chocolate bombs and while ...</td>\n",
       "    </tr>\n",
       "    <tr>\n",
       "      <th>9</th>\n",
       "      <td>Unlike other seller which never delivered, a...</td>\n",
       "    </tr>\n",
       "  </tbody>\n",
       "</table>\n",
       "</div>"
      ],
      "text/plain": [
       "                                              review\n",
       "0    We made hot chocolate bombs. Love the size a...\n",
       "1    Ok I was skeptical and watched so many video...\n",
       "2    I love how easy these are to use!! Great for...\n",
       "3    These were so easy to use. Easy to clean as ...\n",
       "4    The mold was the perfect size for a hot choc...\n",
       "5    This product shipped fast and arrived on tim...\n",
       "6    Too flimsy, received a refund. A $10 gift ca...\n",
       "7    Great product!  Worked well!  Update The pro...\n",
       "8    First time making chocolate bombs and while ...\n",
       "9    Unlike other seller which never delivered, a..."
      ]
     },
     "execution_count": 86,
     "metadata": {},
     "output_type": "execute_result"
    }
   ],
   "source": [
    "dat_r={'review':all_review}\n",
    "dat=pd.DataFrame(dat_r)\n",
    "dat"
   ]
  },
  {
   "cell_type": "code",
   "execution_count": 87,
   "metadata": {},
   "outputs": [],
   "source": [
    "dat.to_csv(\"amazonreview.csv\",index=False)"
   ]
  },
  {
   "cell_type": "code",
   "execution_count": null,
   "metadata": {},
   "outputs": [],
   "source": [
    "### (실습) 3-3 하나의 제품 여러 페이지 리뷰 가져오기"
   ]
  },
  {
   "cell_type": "code",
   "execution_count": 88,
   "metadata": {},
   "outputs": [],
   "source": [
    "next_page=driver.find_element_by_xpath('//*[@id=\"cm_cr-pagination_bar\"]/ul/li[2]/a')\n",
    "next_page.click()"
   ]
  },
  {
   "cell_type": "code",
   "execution_count": 89,
   "metadata": {},
   "outputs": [
    {
     "name": "stdout",
     "output_type": "stream",
     "text": [
      "  I was worried that these were going to be too small. In fact, they are a perfect size. With COVID to worry I used to use bigger ones and we used to share the dessert. Now, these are a perfect size. Not too big you need to share, not too small to stay hungry.Good quality too, Thanks!\n",
      "  Delivered quickly, got them less than 3 days after I ordered them. They we're on sale and I love that they came with 3 mold trays. I got these specifically to make Hot Cocoa Bombs, they seem like great quality but also thin enough that it should be easy to pop them out of the molds without breaking.\n",
      "  Just made my first cocoa bomb as a trial run.So easy and fun!!!!  Very pleased with the size 6 Large spheres, Silicone baking molds.Like I reviewed earlier before trying, wish the company had included a recipe but found one on line.I'll need to refine my next cocoa bombs before I give away--but excited to do them for my grandkids.\n",
      "  we love it!!! they work so well!! here is A picture of the mold with the finished product, a homemade hot cocoa bomb!!\n",
      "  I love these molds. I was a little hesitant ordering them because I had ordered similar ones before that were too small. These are perfect and easy to use. They were big enough to add a packet of hot chocolate and marshmallows. I am very please with the results. :D\n",
      "  I bought these to make hot cocoa balls for Valentine's Day. My teenage daughter and friend were able to make 30 of them in an hour! They were easy to use, especially the popping out part, and they clean up really well! Will be using these for many more holidays.\n",
      "  Your browser does not support HTML5 video.   I’m in love with the product look very good in shape materials look flexible when I’m done doing my bombshell I will make sure to put up with you but I think it will be a victory is my first time making them then I hope everything go well\n",
      "  I got this as a gift for my 12 year old daughter who wantwd to learn to make hot cocoa bombs. We are still perfecting the method, but the chocolate came out easily and was easy to clean.\n",
      "  Great customer service and product. This company did a great job responding to my emails and making the problem I had right! How many companies do that? This mold is easy to use and easy to clean- perfect for my hot chocolate bombs!\n",
      "  These worked great for hot cocoa bombs! I had a lot of fun with my son making and yummy treats. They were a good size for an 8-10oz of liquid for your cocoa. Easy to pop out, even my 5 year old could do it without help. Very easy to clean too.\n"
     ]
    },
    {
     "data": {
      "text/plain": [
       "['  I was worried that these were going to be too small. In fact, they are a perfect size. With COVID to worry I used to use bigger ones and we used to share the dessert. Now, these are a perfect size. Not too big you need to share, not too small to stay hungry.Good quality too, Thanks!',\n",
       " \"  Delivered quickly, got them less than 3 days after I ordered them. They we're on sale and I love that they came with 3 mold trays. I got these specifically to make Hot Cocoa Bombs, they seem like great quality but also thin enough that it should be easy to pop them out of the molds without breaking.\",\n",
       " \"  Just made my first cocoa bomb as a trial run.So easy and fun!!!!  Very pleased with the size 6 Large spheres, Silicone baking molds.Like I reviewed earlier before trying, wish the company had included a recipe but found one on line.I'll need to refine my next cocoa bombs before I give away--but excited to do them for my grandkids.\",\n",
       " '  we love it!!! they work so well!! here is A picture of the mold with the finished product, a homemade hot cocoa bomb!!',\n",
       " '  I love these molds. I was a little hesitant ordering them because I had ordered similar ones before that were too small. These are perfect and easy to use. They were big enough to add a packet of hot chocolate and marshmallows. I am very please with the results. :D',\n",
       " \"  I bought these to make hot cocoa balls for Valentine's Day. My teenage daughter and friend were able to make 30 of them in an hour! They were easy to use, especially the popping out part, and they clean up really well! Will be using these for many more holidays.\",\n",
       " '  Your browser does not support HTML5 video.  \\xa0I’m in love with the product look very good in shape materials look flexible when I’m done doing my bombshell I will make sure to put up with you but I think it will be a victory is my first time making them then I hope everything go well',\n",
       " '  I got this as a gift for my 12 year old daughter who wantwd to learn to make hot cocoa bombs. We are still perfecting the method, but the chocolate came out easily and was easy to clean.',\n",
       " '  Great customer service and product. This company did a great job responding to my emails and making the problem I had right! How many companies do that? This mold is easy to use and easy to clean- perfect for my hot chocolate bombs!',\n",
       " '  These worked great for hot cocoa bombs! I had a lot of fun with my son making and yummy treats. They were a good size for an 8-10oz of liquid for your cocoa. Easy to pop out, even my 5 year old could do it without help. Very easy to clean too.']"
      ]
     },
     "execution_count": 89,
     "metadata": {},
     "output_type": "execute_result"
    }
   ],
   "source": [
    "page=driver.page_source\n",
    "soup=BeautifulSoup(page,\"html.parser\")\n",
    "soup.title\n",
    "all_r = soup.find_all(\"span\", class_=\"a-size-base review-text review-text-content\")\n",
    "len(all_r)\n",
    "all_review = []\n",
    "for one in all_r:\n",
    "    # print(one.text)\n",
    "    tmp = one.text\n",
    "    review = tmp.replace(\"\\n\", \"\")\n",
    "    print(review)\n",
    "    all_review.append(review)\n",
    "all_review"
   ]
  },
  {
   "cell_type": "code",
   "execution_count": 90,
   "metadata": {},
   "outputs": [
    {
     "data": {
      "text/html": [
       "<div>\n",
       "<style scoped>\n",
       "    .dataframe tbody tr th:only-of-type {\n",
       "        vertical-align: middle;\n",
       "    }\n",
       "\n",
       "    .dataframe tbody tr th {\n",
       "        vertical-align: top;\n",
       "    }\n",
       "\n",
       "    .dataframe thead th {\n",
       "        text-align: right;\n",
       "    }\n",
       "</style>\n",
       "<table border=\"1\" class=\"dataframe\">\n",
       "  <thead>\n",
       "    <tr style=\"text-align: right;\">\n",
       "      <th></th>\n",
       "      <th>review</th>\n",
       "    </tr>\n",
       "  </thead>\n",
       "  <tbody>\n",
       "    <tr>\n",
       "      <th>0</th>\n",
       "      <td>I was worried that these were going to be to...</td>\n",
       "    </tr>\n",
       "    <tr>\n",
       "      <th>1</th>\n",
       "      <td>Delivered quickly, got them less than 3 days...</td>\n",
       "    </tr>\n",
       "    <tr>\n",
       "      <th>2</th>\n",
       "      <td>Just made my first cocoa bomb as a trial run...</td>\n",
       "    </tr>\n",
       "    <tr>\n",
       "      <th>3</th>\n",
       "      <td>we love it!!! they work so well!! here is A ...</td>\n",
       "    </tr>\n",
       "    <tr>\n",
       "      <th>4</th>\n",
       "      <td>I love these molds. I was a little hesitant ...</td>\n",
       "    </tr>\n",
       "    <tr>\n",
       "      <th>5</th>\n",
       "      <td>I bought these to make hot cocoa balls for V...</td>\n",
       "    </tr>\n",
       "    <tr>\n",
       "      <th>6</th>\n",
       "      <td>Your browser does not support HTML5 video.  ...</td>\n",
       "    </tr>\n",
       "    <tr>\n",
       "      <th>7</th>\n",
       "      <td>I got this as a gift for my 12 year old daug...</td>\n",
       "    </tr>\n",
       "    <tr>\n",
       "      <th>8</th>\n",
       "      <td>Great customer service and product. This com...</td>\n",
       "    </tr>\n",
       "    <tr>\n",
       "      <th>9</th>\n",
       "      <td>These worked great for hot cocoa bombs! I ha...</td>\n",
       "    </tr>\n",
       "  </tbody>\n",
       "</table>\n",
       "</div>"
      ],
      "text/plain": [
       "                                              review\n",
       "0    I was worried that these were going to be to...\n",
       "1    Delivered quickly, got them less than 3 days...\n",
       "2    Just made my first cocoa bomb as a trial run...\n",
       "3    we love it!!! they work so well!! here is A ...\n",
       "4    I love these molds. I was a little hesitant ...\n",
       "5    I bought these to make hot cocoa balls for V...\n",
       "6    Your browser does not support HTML5 video.  ...\n",
       "7    I got this as a gift for my 12 year old daug...\n",
       "8    Great customer service and product. This com...\n",
       "9    These worked great for hot cocoa bombs! I ha..."
      ]
     },
     "execution_count": 90,
     "metadata": {},
     "output_type": "execute_result"
    }
   ],
   "source": [
    "dat_r={'review':all_review}\n",
    "dat=pd.DataFrame(dat_r)\n",
    "dat"
   ]
  },
  {
   "cell_type": "code",
   "execution_count": 91,
   "metadata": {},
   "outputs": [],
   "source": [
    "###여러개 가져와보기"
   ]
  },
  {
   "cell_type": "code",
   "execution_count": 93,
   "metadata": {},
   "outputs": [],
   "source": [
    "import os, warnings\n",
    "import re\n",
    "warnings.filterwarnings(action='ignore')"
   ]
  },
  {
   "cell_type": "code",
   "execution_count": 94,
   "metadata": {},
   "outputs": [],
   "source": [
    "from selenium import webdriver\n",
    "from bs4 import BeautifulSoup"
   ]
  },
  {
   "cell_type": "code",
   "execution_count": 97,
   "metadata": {},
   "outputs": [],
   "source": [
    "driver = webdriver.Chrome('./chromedriver_90')\n",
    "## https://www.amazon.com/\n",
    "url ='https://www.amazon.com/I-Love-You-Through/dp/0439673631/ref=pd_bkstr_rtpb_11?_encoding=UTF8&p'\n",
    "driver.get(url)"
   ]
  },
  {
   "cell_type": "code",
   "execution_count": 98,
   "metadata": {},
   "outputs": [],
   "source": [
    "sel_rate = driver.find_element_by_xpath('//*[@id=\"acrCustomerReviewText\"]')\n",
    "sel_rate.click()"
   ]
  },
  {
   "cell_type": "code",
   "execution_count": 99,
   "metadata": {},
   "outputs": [],
   "source": [
    "sel_review = driver.find_element_by_xpath('//*[@id=\"cr-pagination-footer-0\"]/a')\n",
    "sel_review.click()"
   ]
  },
  {
   "cell_type": "code",
   "execution_count": 100,
   "metadata": {},
   "outputs": [],
   "source": [
    "### 리뷰 한 페이지 가져오기"
   ]
  },
  {
   "cell_type": "code",
   "execution_count": 101,
   "metadata": {},
   "outputs": [
    {
     "data": {
      "text/plain": [
       "<title>Amazon.com: Customer reviews: I Love You Through and Through (Caroline Jayne Church)</title>"
      ]
     },
     "execution_count": 101,
     "metadata": {},
     "output_type": "execute_result"
    }
   ],
   "source": [
    "page = driver.page_source\n",
    "soup = BeautifulSoup(page, 'html.parser')\n",
    "soup.title"
   ]
  },
  {
   "cell_type": "code",
   "execution_count": 102,
   "metadata": {},
   "outputs": [
    {
     "name": "stdout",
     "output_type": "stream",
     "text": [
      "리뷰 개수 :  10\n",
      "My friend told me this is a great bonding book that builds healthy attachement. She reccomended it for my 4 year old. I am not sure if there are 2 version but this is definetly not for his age. It is a beautiful cute lovely book. Love the messages & cute pictures. The pages are really nice and sturdy. comfortable cover. BUT its dissapointing cuz it's a one liner per page and he doesnt want me to read this one. I believe this is the perfect book to start reading when baby is a few months and then maybe if you read it so many times then by 4 a child will still love it because it is familiar, there are many bonding moments/memories associated with the book. I wish they had a version for older kids. I didnt return it cuz its a good quality book and it was a very good price. and I am still hoping my son will start enjoying it because the message is so great and so important. I doubt it though. This is really a 5 star book but for me its a 2-3 stars cuz just doesnt work for me.\n",
      "Unlike the other books in the series, this book doesn’t flow as well because there’s not enough words in the pages. My son asked for it and I figured I’d buy it since I liked the others in the series and this one was on sale... wish I hadn’t, but my son likes it so I can’t return. On the plus side, he memorized it already and reads it to himself now :)\n"
     ]
    }
   ],
   "source": [
    "all_r = soup.find_all(\"span\", class_=\"a-size-base review-text review-text-content\")\n",
    "all_review = []\n",
    "for one in all_r:\n",
    "    tmp = one.text\n",
    "    review = tmp.strip()\n",
    "    all_review.append(review)\n",
    "print(\"리뷰 개수 : \", len(all_review))\n",
    "print(all_review[0], all_review[-1], sep=\"\\n\")"
   ]
  },
  {
   "cell_type": "code",
   "execution_count": 103,
   "metadata": {},
   "outputs": [],
   "source": [
    "### (실습) 추가 정보 가져오기 \n",
    "### 날짜,평점,사용자"
   ]
  },
  {
   "cell_type": "code",
   "execution_count": 122,
   "metadata": {},
   "outputs": [
    {
     "data": {
      "text/plain": [
       "'Renata'"
      ]
     },
     "execution_count": 122,
     "metadata": {},
     "output_type": "execute_result"
    }
   ],
   "source": [
    "###사용자\n",
    "name=soup.find_all(\"span\",class_=\"a-profile-name\")[-1].text\n",
    "name"
   ]
  },
  {
   "cell_type": "code",
   "execution_count": 111,
   "metadata": {},
   "outputs": [
    {
     "data": {
      "text/plain": [
       "[<span class=\"a-size-base a-color-secondary review-date\">Reviewed in the United States on September 7, 2020</span>,\n",
       " <span class=\"a-size-base a-color-secondary review-date\">Reviewed in the United States on March 12, 2020</span>,\n",
       " <span class=\"a-size-base a-color-secondary review-date\" data-hook=\"review-date\">Reviewed in the United States on September 7, 2020</span>,\n",
       " <span class=\"a-size-base a-color-secondary review-date\" data-hook=\"review-date\">Reviewed in the United States on February 8, 2021</span>,\n",
       " <span class=\"a-size-base a-color-secondary review-date\" data-hook=\"review-date\">Reviewed in the United States on March 12, 2020</span>,\n",
       " <span class=\"a-size-base a-color-secondary review-date\" data-hook=\"review-date\">Reviewed in the United States on September 25, 2016</span>,\n",
       " <span class=\"a-size-base a-color-secondary review-date\" data-hook=\"review-date\">Reviewed in the United States on July 23, 2018</span>,\n",
       " <span class=\"a-size-base a-color-secondary review-date\" data-hook=\"review-date\">Reviewed in the United States on March 16, 2012</span>,\n",
       " <span class=\"a-size-base a-color-secondary review-date\" data-hook=\"review-date\">Reviewed in the United States on December 18, 2019</span>,\n",
       " <span class=\"a-size-base a-color-secondary review-date\" data-hook=\"review-date\">Reviewed in the United States on August 10, 2016</span>,\n",
       " <span class=\"a-size-base a-color-secondary review-date\" data-hook=\"review-date\">Reviewed in the United States on December 31, 2020</span>,\n",
       " <span class=\"a-size-base a-color-secondary review-date\" data-hook=\"review-date\">Reviewed in the United States on January 14, 2021</span>]"
      ]
     },
     "execution_count": 111,
     "metadata": {},
     "output_type": "execute_result"
    }
   ],
   "source": [
    "###날짜\n",
    "day=soup.find_all(\"span\",class_=\"a-size-base a-color-secondary review-date\")\n",
    "day"
   ]
  },
  {
   "cell_type": "code",
   "execution_count": 126,
   "metadata": {},
   "outputs": [
    {
     "data": {
      "text/plain": [
       "['Reviewed in the United States on September 7, 2020',\n",
       " 'Reviewed in the United States on February 8, 2021',\n",
       " 'Reviewed in the United States on March 12, 2020',\n",
       " 'Reviewed in the United States on September 25, 2016',\n",
       " 'Reviewed in the United States on July 23, 2018',\n",
       " 'Reviewed in the United States on March 16, 2012',\n",
       " 'Reviewed in the United States on December 18, 2019',\n",
       " 'Reviewed in the United States on August 10, 2016',\n",
       " 'Reviewed in the United States on December 31, 2020',\n",
       " 'Reviewed in the United States on January 14, 2021']"
      ]
     },
     "execution_count": 126,
     "metadata": {},
     "output_type": "execute_result"
    }
   ],
   "source": [
    "all_r=soup.find_all(\"div\",class_=\"a-section celwidget\")\n",
    "\n",
    "all_day=[]\n",
    "\n",
    "for one in all_r:\n",
    "    day_one=one.find(\"span\",class_=\"a-size-base a-color-secondary review-date\").text\n",
    "    all_day.append(day_one)\n",
    "    \n",
    "all_day"
   ]
  },
  {
   "cell_type": "code",
   "execution_count": 121,
   "metadata": {},
   "outputs": [
    {
     "data": {
      "text/plain": [
       "[<span class=\"a-icon-alt\">4.9 out of 5 stars</span>,\n",
       " <span class=\"a-icon-alt\">5.0 out of 5 stars</span>,\n",
       " <span class=\"a-icon-alt\">2.0 out of 5 stars</span>,\n",
       " <span class=\"a-icon-alt\">5.0 out of 5 stars</span>,\n",
       " <span class=\"a-icon-alt\">4.0 out of 5 stars</span>,\n",
       " <span class=\"a-icon-alt\">4.0 out of 5 stars</span>,\n",
       " <span class=\"a-icon-alt\">2.0 out of 5 stars</span>,\n",
       " <span class=\"a-icon-alt\">5.0 out of 5 stars</span>,\n",
       " <span class=\"a-icon-alt\">5.0 out of 5 stars</span>,\n",
       " <span class=\"a-icon-alt\">5.0 out of 5 stars</span>,\n",
       " <span class=\"a-icon-alt\">4.0 out of 5 stars</span>,\n",
       " <span class=\"a-icon-alt\">4.0 out of 5 stars</span>,\n",
       " <span class=\"a-icon-alt\">5.0 out of 5 stars</span>,\n",
       " <span class=\"a-icon-alt\">5.0 out of 5 stars</span>,\n",
       " <span class=\"a-icon-alt\">5.0 out of 5 stars</span>,\n",
       " <span class=\"a-icon-alt\">3.0 out of 5 stars</span>]"
      ]
     },
     "execution_count": 121,
     "metadata": {},
     "output_type": "execute_result"
    }
   ],
   "source": [
    "##평점\n",
    "score=soup.find_all(\"span\",class_=\"a-icon-alt\")\n",
    "score"
   ]
  },
  {
   "cell_type": "code",
   "execution_count": 123,
   "metadata": {},
   "outputs": [],
   "source": [
    "###한페이지 정보가져오기"
   ]
  },
  {
   "cell_type": "code",
   "execution_count": 141,
   "metadata": {},
   "outputs": [
    {
     "name": "stdout",
     "output_type": "stream",
     "text": [
      "리뷰 유저 :  ['Amazon Customer', 'Noha Anous', '2B4Elise', 'Amazon Customer', 'R. P.', 'Sparky127', 'Amazon Customer', 'CK', 'Anne', 'Renata']\n",
      "전체 평점(5점 만점) :  ['5', '4', '2', '5', '5', '4', '5', '5', '5', '3']\n",
      "전체 날짜 :  [' September 7, 2020', ' September 7, 2020', ' February 8, 2021', ' February 8, 2021', ' March 12, 2020', ' March 12, 2020', ' September 25, 2016', ' September 25, 2016', ' July 23, 2018', ' July 23, 2018', ' March 16, 2012', ' March 16, 2012', ' December 18, 2019', ' December 18, 2019', ' August 10, 2016', ' August 10, 2016', ' December 31, 2020', ' December 31, 2020', ' January 14, 2021', ' January 14, 2021']\n",
      "전체 리뷰 :  [\"  My friend told me this is a great bonding book that builds healthy attachement. She reccomended it for my 4 year old. I am not sure if there are 2 version but this is definetly not for his age. It is a beautiful cute lovely book. Love the messages & cute pictures. The pages are really nice and sturdy. comfortable cover. BUT its dissapointing cuz it's a one liner per page and he doesnt want me to read this one. I believe this is the perfect book to start reading when baby is a few months and then maybe if you read it so many times then by 4 a child will still love it because it is familiar, there are many bonding moments/memories associated with the book. I wish they had a version for older kids. I didnt return it cuz its a good quality book and it was a very good price. and I am still hoping my son will start enjoying it because the message is so great and so important. I doubt it though. This is really a 5 star book but for me its a 2-3 stars cuz just doesnt work for me.\", '  My son loves the book. I understand it’s about opposites, but I find the phrases ‘I love your top side ‘ and ‘I love your bottom side’ really strange. If my son repeats these phrases infront of any stranger, they would say why is this kid creepy!Otherwise, the book is nice with nice pictures and good material that my son can open the book and turn pages on his own. My son is 2.5 years.', \"  I get that any book for a baby should be simple, but this one is a bit too much so.  There are other books (I Love You Because You're You) that communicate unconditional love, but in a rhythmic way that's fun to read to a baby.  On the plus side, the pictures are clear and simple, and I think some infants might like that.  Still, I'm a bit puzzled by all the 5 star ratings.\", \"  What an adorable book!So many children's books have terrible story lines or messages in them, but definitely not the case with this book. It's a very simple book with no story, just about how you love (and always will love) every part and aspect of your baby. It can teach kids some body parts (like fingers, toes, ears, nose, hair, eyes), too. It rhymes, too.The only negative is, for a board book, the pages aren't very sturdy. The pages are maybe a third or half the thickness of other board books we own. Hopefully it'll hold up, because I am sure we will be reading this book frequently!\", '  Absolutely beautify book to read to your child.  The premise is so touching and our baby just loves this book.  We have been reading it everyday since the day he was born.', \"  We absolutely love this book.It's been our son's favorite since he was about 9 months old.  The pictures are beautiful, colorful, and simple.  Not boring, not crowded, just what it should be.  The text is sweet and simple, the rhymes are thoughtful and not dumb (you know those books!), and the sentences are short enough to hold a baby's attention so we have time to get all the words out before he turns the page.The one downside is that this book is really cheaply made.  The cover is nice and padded, but the pages are cheap.  The pages are thinner than other board book pages, but the bigger problem is the actual surface of the pages.  Our son - an impressive drooler and finger-sucker - loves to turn the pages himself with his drool-y fingers and sometimes kiss the pages too.  What I didn't learn until too late is that you can't do that with this book.  For our other board books, you can get some drool on them and it just makes the pages stick together a little bit but that's it.  For this book, drool made the pages stick together so much that when you separated them later, the paper tore.  (See my pics in the photo gallery for examples)  I'm thinking that we can't be the only parents with a drooly baby, right??Quality notwithstanding, this is as quality a baby's book as they come.  I love this book through and through.\", \"  Such a sweet book!  It has a great rhyming pattern to read, both my kids love it and gesture to read it out of the mix of books we have before they've been able to talk.  It's a good quality book, 'board'-ish pages but thinner than a traditional board book.  The story is really sweet to read to your children and it offers some great interaction pages where you can have teachable moments about body parts and actions.  Huge hit here!\", \"  A sweet story of loving your little one from head to toe (literally). My son was drawn to this book since he was a baby (he's now 3 & still requests it).The pages are thick & shiny board-like, which I prefer because toddlers can't bend or rip them like regular paper pages. The front & back covers  are thick and sturdy with a slight padded feel to them.  It is very sturdy & actually looks almost new for having been heavily used over 3 years now.I've purchased it multiple times instead of a card for new babies in our family-we write a small note about sharing our favorite story!\", '  I love this book- how simple it is and shares unconditional love.  Kids need to hear that they are loved no matter what and this one starts them early. It normalizes the more difficult emotions too. I read it to my two children for years and now read to foster children who love it and need to hear the message as well. So simple but super cute.', '  Unlike the other books in the series, this book doesn’t flow as well because there’s not enough words in the pages. My son asked for it and I figured I’d buy it since I liked the others in the series and this one was on sale... wish I hadn’t, but my son likes it so I can’t return. On the plus side, he memorized it already and reads it to himself now :)']\n"
     ]
    }
   ],
   "source": [
    "### 닉네임\n",
    "import re \n",
    "all_r=soup.find_all(\"div\",class_=\"a-section celwidget\")\n",
    "\n",
    "all_user=[] #사용자\n",
    "all_rating=[] #평점\n",
    "all_date=[] #날짜\n",
    "all_review=[] #리뷰추가\n",
    "\n",
    "for one in all_r:\n",
    "    user_one=one.find(\"span\",class_=\"a-profile-name\").text\n",
    "    all_user.append(user_one) #사용자 추가\n",
    "    \n",
    "    rating_one = one.find(\"span\", class_=\"a-icon-alt\").text\n",
    "    # print(tmp)\n",
    "    nums = re.findall(\"\\d+\", rating_one)[0]\n",
    "    #print(nums)\n",
    "    all_rating.append(nums)#평점추가\n",
    "    \n",
    "    review_date = one.find(\"span\",class_=\"a-size-base a-color-secondary review-date\").text\n",
    "    texts = review_date.split(\"on\")\n",
    "    #print(texts)\n",
    "    all_date.append(texts[1])#날짜 추가\n",
    "    \n",
    "    \n",
    "    review_pe = one.find(\"span\",class_=\"a-size-base a-color-secondary review-date\").text\n",
    "    texts = review_date.split(\"on\")\n",
    "    #print(texts)\n",
    "    all_date.append(texts[1])#날짜 추가\n",
    "    \n",
    "    review_one = one.find(\"span\",class_=\"a-size-base review-text review-text-content\")\n",
    "    tmp = review_one.text\n",
    "    review = tmp.replace(\"\\n\", \"\")\n",
    "    all_review.append(review) #리뷰추가\n",
    "    \n",
    "print(\"리뷰 유저 : \", all_user)\n",
    "print(\"전체 평점(5점 만점) : \", all_rating)\n",
    "print(\"전체 날짜 : \", all_date)\n",
    "print(\"전체 리뷰 : \", all_review)"
   ]
  },
  {
   "cell_type": "code",
   "execution_count": 144,
   "metadata": {},
   "outputs": [
    {
     "name": "stdout",
     "output_type": "stream",
     "text": [
      "user :  MTUCK rating : 5 date :  March 9, 2021\n",
      "review :    One of our favorites for reading to the littles - good message of love. Nice soft binding has held up through 10 years and 4 kids.\n",
      "\n",
      "\n",
      "user :  Charles rating : 5 date :  April 12, 2021\n",
      "review :    Really cute book. Love the illustrations and the really sweet way it conveys a parents love to the child.\n",
      "\n",
      "\n",
      "user :  Sharon rating : 5 date :  February 15, 2019\n",
      "review :    My Grandsons wife loved the book for her new baby on boy on his way next month\n",
      "\n",
      "\n",
      "user :  KAM1982 rating : 4 date :  January 29, 2015\n",
      "review :    Perfect length before-bed book for an antsy toddler. Very sweet illustrations, and a sweet little rhyme to accompany them. Would have given 4 stars but it's not a very durable book-- it's a heavy card stock rather than a board book-- so it's more susceptible to rips, tears, and water (ie spittle) damage. Holding up so far-- a couple small tears-- but not sure how long it will last for.\n",
      "\n",
      "\n",
      "user :  Sheri rating : 5 date :  January 14, 2020\n",
      "review :    Great message for kids to hear!\n",
      "\n",
      "\n"
     ]
    }
   ],
   "source": [
    "all_review = [] # 리뷰\n",
    "all_user = [] # 사용자\n",
    "all_rating = [] # 평점\n",
    "all_date = [] # 날짜\n",
    "for page in range(2,7,1):\n",
    "    time.sleep(3)\n",
    "    # 02 해당 페이지의 소스 가져오기\n",
    "    page = driver.page_source\n",
    "    soup = BeautifulSoup(page, 'html.parser')\n",
    "    # print(soup.title)\n",
    "    # 03 가져온 페이지의 리뷰를 가져온다.\n",
    "    all_r = soup.find_all(\"div\", class_=\"a-section celwidget\")\n",
    "    for one in all_r:\n",
    "        # 리뷰 사용자 추가\n",
    "        review_user = one.find(\"span\", class_=\"a-profile-name\")\n",
    "        tmp = review_user.text\n",
    "        all_user.append(tmp)\n",
    "        # 평점 추가\n",
    "        review_rating = one.find(\"span\", class_=\"a-icon-alt\")\n",
    "        tmp = review_rating.text\n",
    "        nums = re.findall(\"\\d+\", tmp)\n",
    "        # print(nums)\n",
    "        all_rating.append(nums[0])\n",
    "        # 날짜 추가\n",
    "        review_date = one.find(\"span\", class_=\"a-size-base a-color-secondary review-date\")\n",
    "        tmp = review_date.text\n",
    "        texts = tmp.split(\"on\")\n",
    "        # print(texts)\n",
    "        all_date.append(texts[1])\n",
    "        # 리뷰 추가\n",
    "        # print(one.text)\n",
    "        review_one = one.find(\"span\", class_=\"a-size-base review-text review-text-content\")\n",
    "        tmp = review_one.text\n",
    "        review = tmp.replace(\"\\n\", \"\")\n",
    "        all_review.append(review)\n",
    "        # 확인\n",
    "    print(\"user : \" , all_user[-1], \"rating :\", all_rating[-1], \"date :\", all_date[-1])\n",
    "    print(\"review : \", all_review[-1], end=\"\\n\\n\\n\")\n",
    "     ## 다음 페이지'Next Page' xpath : //*[@id=\"cm_cr-pagination_bar\"]/ul/li[2]/a\n",
    "    # 01 Next Page 클릭\n",
    "    sel_next = driver.find_element_by_xpath('//*[@id=\"cm_cr-pagination_bar\"]/ul/li[2]/a')\n",
    "    sel_next.click()"
   ]
  },
  {
   "cell_type": "code",
   "execution_count": null,
   "metadata": {},
   "outputs": [],
   "source": []
  }
 ],
 "metadata": {
  "kernelspec": {
   "display_name": "Python 3",
   "language": "python",
   "name": "python3"
  },
  "language_info": {
   "codemirror_mode": {
    "name": "ipython",
    "version": 3
   },
   "file_extension": ".py",
   "mimetype": "text/x-python",
   "name": "python",
   "nbconvert_exporter": "python",
   "pygments_lexer": "ipython3",
   "version": "3.8.5"
  }
 },
 "nbformat": 4,
 "nbformat_minor": 4
}
